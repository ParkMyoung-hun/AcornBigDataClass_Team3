{
 "cells": [
  {
   "cell_type": "code",
   "execution_count": 1,
   "id": "26928a6d",
   "metadata": {},
   "outputs": [],
   "source": [
    "import numpy as np\n",
    "import pandas as pd\n",
    "import matplotlib.pyplot as plt\n",
    "import seaborn as sns\n",
    "import folium\n",
    "import wordcloud\n",
    "\n",
    "\n",
    "import matplotlib.font_manager as fm\n",
    "font_name = fm.FontProperties(fname=\"C:\\\\Windows\\\\Fonts\\\\malgun.ttf\").get_name()\n",
    "# font_name 으로 변수 지정해주고, matpolotlib에서 그 폰트를 사용할 수 있게 설정해주기\n",
    "\n",
    "plt.rc(\"font\", family=font_name)\n",
    "\n",
    "import matplotlib as mlp\n",
    "mlp.rcParams[\"axes.unicode_minus\"] = False\n",
    "\n",
    "import xml.etree.ElementTree as et\n",
    "import urllib.request as req\n",
    "import requests # Error 발생 안함, Error를 건너 뜀\n",
    "\n",
    "import json\n",
    "import bs4\n",
    "from urllib.request import urlopen\n",
    "from bs4 import BeautifulSoup\n",
    "\n",
    "\n",
    "from selenium import webdriver\n",
    "from selenium.webdriver.common.by import By\n",
    "from selenium.webdriver.common.keys import Keys\n",
    "from selenium.webdriver.chrome.service import Service\n",
    "from webdriver_manager.chrome import ChromeDriverManager # pip install webdriver_manager 설치\n",
    "import time"
   ]
  },
  {
   "cell_type": "code",
   "execution_count": null,
   "id": "b88d36ee",
   "metadata": {},
   "outputs": [],
   "source": [
    "# 사이트 원격 접속 (서울로 지정)\n",
    "url = \"https://tago.kr/charge/address.htm?&area=%EC%84%9C%EC%9A%B8&area2=all&pageNum=1\"\n",
    "driver = webdriver.Chrome(\"chromedriver\")\n",
    "driver.get(url)"
   ]
  },
  {
   "cell_type": "code",
   "execution_count": null,
   "id": "dee9349b",
   "metadata": {},
   "outputs": [],
   "source": [
    "## 시군구 목록 가져오기\n",
    "gu_list_0 = driver.find_element(By.ID, \"area2\")\n",
    "gu_list = gu_list_0.find_elements(By.TAG_NAME, \"option\")\n",
    "\n",
    "gu_names = [n.get_attribute(\"value\") for n in gu_list]\n",
    "gu_names.remove(\"all\") # 처음에 필요없는 all삭제\n",
    "gu_names"
   ]
  },
  {
   "cell_type": "code",
   "execution_count": null,
   "id": "07460cbf",
   "metadata": {},
   "outputs": [],
   "source": [
    "## 구 선택하기\n",
    "sel_gu = driver.find_element(By.NAME, \"area2\")\n",
    "sel_gu.send_keys(gu_names[0])"
   ]
  },
  {
   "cell_type": "code",
   "execution_count": null,
   "id": "6320534e",
   "metadata": {},
   "outputs": [],
   "source": [
    "# 조회 버튼 누르기\n",
    "driver.find_element(By.CLASS_NAME, \"search-btn\").click()"
   ]
  },
  {
   "cell_type": "code",
   "execution_count": null,
   "id": "0c6f7496",
   "metadata": {},
   "outputs": [],
   "source": [
    "# 엑셀 다운로드\n",
    "driver.find_element(By.ID,\"btndown\").click()"
   ]
  },
  {
   "cell_type": "code",
   "execution_count": null,
   "id": "62ef89a3",
   "metadata": {},
   "outputs": [],
   "source": []
  },
  {
   "cell_type": "code",
   "execution_count": null,
   "id": "5a1701da",
   "metadata": {},
   "outputs": [],
   "source": [
    "######### 지역별(구별) 전기차 충전소 엑셀로 저장\n",
    "\n",
    "from tqdm.notebook import tqdm\n",
    "\n",
    "for gu in tqdm(gu_names):\n",
    "    sel_gu = driver.find_element(By.NAME, \"area2\")\n",
    "    sel_gu.send_keys(gu)\n",
    "    \n",
    "    time.sleep(0.5)\n",
    "    \n",
    "    # 조회하기\n",
    "    driver.find_element(By.CLASS_NAME, \"search-btn\").click()\n",
    "    time.sleep(0.5)\n",
    "    \n",
    "    # 엑셀 저장\n",
    "    driver.find_element(By.ID,\"btndown\").click()\n",
    "    time.sleep(0.5)\n",
    "\n",
    "driver.close()"
   ]
  },
  {
   "cell_type": "code",
   "execution_count": null,
   "id": "1817b309",
   "metadata": {},
   "outputs": [],
   "source": [
    "from glob import glob\n",
    "import pandas as pd\n",
    "import openpyxl as op\n",
    "import xlwings as xw\n",
    "import xlrd\n",
    "import win32com\n",
    "import win32com.client as win32\n",
    "from openpyxl import load_workbook\n",
    "from xlrd import open_workbook"
   ]
  },
  {
   "cell_type": "code",
   "execution_count": null,
   "id": "6dc84bbe",
   "metadata": {},
   "outputs": [],
   "source": [
    "el_station_files = glob(\"data/el_station/xlsx/충전소*.*\")\n",
    "el_station_files\n",
    "\n",
    "# station_raw = []\n",
    "# for f in el_station_files:\n",
    "#     file = pd.read_excel(f, header = 1)\n",
    "#     station_raw.append(file)"
   ]
  },
  {
   "cell_type": "code",
   "execution_count": null,
   "id": "68b3d5f8",
   "metadata": {},
   "outputs": [],
   "source": [
    "import win32com\n",
    "\n",
    "import win32com.client as win32\n",
    "\n",
    "fname = \"C:\\ww\\Team_middle_project\\data\\el_station\\충전소 리스트-20221022212546.xls\"\n",
    "excel = win32.gencache.EnsureDispatch('Excel.Application')\n",
    "wb = excel.Workbooks.Open(fname)\n",
    "\n",
    "wb.SaveAs(fname+\"x\", FileFormat = 51)    #FileFormat = 51 is for .xlsx extension\n",
    "wb.Close()                               #FileFormat = 56 is for .xls extension\n",
    "excel.Application.Quit()"
   ]
  },
  {
   "cell_type": "code",
   "execution_count": null,
   "id": "01caedc9",
   "metadata": {},
   "outputs": [],
   "source": [
    "df = pd.read_excel(\"C:\\\\ww\\\\Team_middle_project\\\\data\\\\el_station\\\\xlsx\\\\충전소 리스트-20221022212451.xlsx\")\n",
    "            \n",
    "df"
   ]
  },
  {
   "cell_type": "code",
   "execution_count": null,
   "id": "98d2fd69",
   "metadata": {},
   "outputs": [],
   "source": [
    "# Data Frame에 넣기\n",
    "from glob import glob\n",
    "estation_files = glob(\"data/el_station/xlsx/충전소*.*\")\n",
    "estation_files\n",
    "\n",
    "raw_file = []\n",
    "for f in estation_files:\n",
    "    rf = pd.read_excel(f, header=0) # 첨부터 시작\n",
    "    raw_file.append(rf)\n",
    "    \n",
    "raw_file\n",
    "# len(raw_file)"
   ]
  },
  {
   "cell_type": "code",
   "execution_count": null,
   "id": "bf632301",
   "metadata": {},
   "outputs": [],
   "source": [
    "# 데이터 프레임으로 합치기\n",
    "estation_raw = pd.concat(raw_file)\n",
    "estation_raw.head(50)"
   ]
  },
  {
   "cell_type": "code",
   "execution_count": null,
   "id": "d341157e",
   "metadata": {},
   "outputs": [],
   "source": [
    "estation_raw.info()"
   ]
  },
  {
   "cell_type": "code",
   "execution_count": null,
   "id": "3ee71a8a",
   "metadata": {},
   "outputs": [],
   "source": [
    "# 데이터 정제\n",
    "estation = pd.DataFrame({\"충전소명\":estation_raw[\"충전소명\"],\n",
    "                        \"주소\":estation_raw[\"소재지 도로명 주소\"],                                           \n",
    "                        \"위도\":estation_raw[\"위도\"],\n",
    "                        \"경도\":estation_raw[\"경도\"],\n",
    "                        })\n",
    "estation.head(3)\n",
    "## 인덱스 조정\n",
    "estation.reset_index(inplace=True)\n",
    "estation"
   ]
  },
  {
   "cell_type": "code",
   "execution_count": null,
   "id": "45de108c",
   "metadata": {},
   "outputs": [],
   "source": [
    "# 구별 나누기\n",
    "estation[\"구\"] = [n.split()[1] for n in estation[\"주소\"]]\n",
    "estation.head(3)\n"
   ]
  },
  {
   "cell_type": "code",
   "execution_count": null,
   "id": "e701d65b",
   "metadata": {},
   "outputs": [],
   "source": [
    "## 지도에 표시하기\n",
    "import requests\n",
    "\n",
    "url = \"https://dapi.kakao.com/v2/local/search/keyword.json?query={}\".format('세종로공영주차장')\n",
    "header = {\"Authorization\":\"KakaoAK 3589a39c9649be8b722eb90814d28726\"}\n",
    "requests.get(url, headers = header).json()"
   ]
  },
  {
   "cell_type": "code",
   "execution_count": null,
   "id": "3399ace2",
   "metadata": {},
   "outputs": [],
   "source": [
    "#estation.info()\n",
    "################### 시각화"
   ]
  },
  {
   "cell_type": "code",
   "execution_count": null,
   "id": "929ebf78",
   "metadata": {},
   "outputs": [],
   "source": [
    "# 서울지역 전체 충전소\n",
    "\n",
    "map = folium.Map(location=[37.497911, 127.027558],zoom_start=10)\n",
    "  \n",
    "\n",
    "for n in estation.index:\n",
    "    lat = estation[\"위도\"][n]\n",
    "    lng = estation[\"경도\"][n]\n",
    "    folium.Marker(location =[lat,lng],\n",
    "                  icon=folium.Icon(color='green',icon='heart'),\n",
    "                  popup = estation[\"충전소명\"][n]).add_to(map)\n",
    "map"
   ]
  },
  {
   "cell_type": "code",
   "execution_count": null,
   "id": "0c032b9a",
   "metadata": {},
   "outputs": [],
   "source": [
    "# 구별로 찍기\n",
    "estation[estation[\"구\"] ==\"강남구\"]"
   ]
  },
  {
   "cell_type": "code",
   "execution_count": null,
   "id": "0619940c",
   "metadata": {},
   "outputs": [],
   "source": []
  },
  {
   "cell_type": "code",
   "execution_count": null,
   "id": "4ceda0c8",
   "metadata": {},
   "outputs": [],
   "source": []
  },
  {
   "cell_type": "code",
   "execution_count": null,
   "id": "d18f07db",
   "metadata": {},
   "outputs": [],
   "source": []
  },
  {
   "cell_type": "code",
   "execution_count": null,
   "id": "54559d57",
   "metadata": {},
   "outputs": [],
   "source": []
  }
 ],
 "metadata": {
  "kernelspec": {
   "display_name": "Python 3 (ipykernel)",
   "language": "python",
   "name": "python3"
  },
  "language_info": {
   "codemirror_mode": {
    "name": "ipython",
    "version": 3
   },
   "file_extension": ".py",
   "mimetype": "text/x-python",
   "name": "python",
   "nbconvert_exporter": "python",
   "pygments_lexer": "ipython3",
   "version": "3.9.12"
  },
  "toc": {
   "base_numbering": 1,
   "nav_menu": {},
   "number_sections": true,
   "sideBar": true,
   "skip_h1_title": false,
   "title_cell": "Table of Contents",
   "title_sidebar": "Contents",
   "toc_cell": false,
   "toc_position": {},
   "toc_section_display": true,
   "toc_window_display": false
  }
 },
 "nbformat": 4,
 "nbformat_minor": 5
}
