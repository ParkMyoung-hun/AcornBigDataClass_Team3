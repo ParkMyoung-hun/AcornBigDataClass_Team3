{
 "cells": [
  {
   "cell_type": "code",
   "execution_count": 1,
   "id": "23af3a71",
   "metadata": {},
   "outputs": [],
   "source": [
    "import numpy as np\n",
    "import pandas as pd\n",
    "import matplotlib.pyplot as plt\n",
    "import seaborn as sns\n",
    "\n",
    "import matplotlib.font_manager as fm # 폰트 설정\n",
    "font_name = fm.FontProperties(fname=\"C:\\\\Windows\\\\Fonts\\\\malgun.ttf\").get_name()\n",
    "plt.rc(\"font\", family=font_name)\n",
    "\n",
    "import matplotlib as mlp # 음수 설정\n",
    "mlp.rcParams[\"axes.unicode_minus\"] = False"
   ]
  },
  {
   "cell_type": "code",
   "execution_count": 39,
   "id": "210d92d8",
   "metadata": {},
   "outputs": [
    {
     "data": {
      "text/plain": [
       "<bound method NDFrame.head of            기준일     서울     인천     경기    강원    충북     충남    대전    세종     경북  \\\n",
       "0   2022-03-01  43206  14134  45891  8652  9683  11532  8595  2069  12318   \n",
       "1   2022-02-01  41693  13179  41266  8179  8664  10525  7902  1902  11540   \n",
       "2   2022-01-01  41140  12942  40239  8042  8184  10015  7675  1879  11269   \n",
       "3   2021-12-01  40564  12820  39958  7946  8194   9991  7701  1859  11240   \n",
       "4   2021-11-01  38840  11775  38563  7231  7731   9836  7737  1717  10870   \n",
       "5   2021-10-01  35067  11295  37084  6786  7362   9480  7700  1680  10373   \n",
       "6   2021-09-01  33434  10543  35385  6266  6801   8847  7134  1627  10013   \n",
       "7   2021-08-01  31220   9370  33832  5929  6414   8426  6652  1509   9683   \n",
       "8   2021-07-01  29325   8446  31820  5485  5934   8042  6143  1437   9171   \n",
       "9   2021-06-01  28752   7790  30030  5200  5480   7254  5836  1404   8676   \n",
       "10  2021-05-01  27013   6708  26944  4750  4952   6588  5222  1353   8118   \n",
       "11  2021-04-01  25581   6312  24841  4460  4781   6269  4995  1317   7773   \n",
       "12  2021-03-01  24918   6106  23887  4280  4688   5946  4885  1295   7588   \n",
       "13  2021-02-01  23381   5517  21100  4086  4338   5575  4462  1186   7149   \n",
       "14  2021-01-01  23441   5428  20670  4076  3897   5562  4463  1157   7066   \n",
       "15  2020-12-01  23393   5366  20477  4078  3883   5489  4469  1148   7051   \n",
       "16  2020-11-01  23052   4999  19903  3810  3794   5157  4415  1127   6753   \n",
       "17  2020-10-01  22676   4729  19332  3567  3662   4878  4197  1106   6314   \n",
       "18  2020-09-01  22118   4639  18512  3340  3467   4547  4083  1100   5816   \n",
       "19  2020-08-01  20997   4204  17197  3091  3319   4252  3338  1076   5400   \n",
       "20  2020-07-01  20003   3940  16508  3025  3268   4087  3204  1057   5192   \n",
       "21  2020-06-01  19411   3741  15946  2952  3199   3920  3126  1044   4980   \n",
       "22  2020-05-01  18098   3402  14876  2839  3077   3701  3001  1030   4818   \n",
       "23  2020-04-01  17622   3345  14546  2753  2939   3560  2962  1024   4682   \n",
       "24  2020-03-01  17172   3270  14100  2640  2617   3281  2865  1017   4441   \n",
       "25  2020-02-01  16438   2791  12510  2459  2457   2928  2625   933   4161   \n",
       "26  2020-01-01  15353   2660  11809  2448  2427   2848  2618   911   4071   \n",
       "27  2019-12-01  14952   2598  11750  2445  2412   2841  2555   903   4051   \n",
       "28  2019-10-01  12711   2412  11035  2385  2271   2649  2361   867   3832   \n",
       "29  2019-09-01  12389   2322  10657  2339  2144   2551  2303   857   3670   \n",
       "30  2019-08-01  12050   2210  10304  2236  2106   2490  2224   826   3563   \n",
       "31  2019-07-01  11764   2132   9877  2114  2074   2421  2117   811   3409   \n",
       "32  2019-06-01  11082   1985   9267  1945  1973   2308  1937   800   3159   \n",
       "33  2019-05-01  10613   1842   8549  1833  1882   2246  1781   728   2971   \n",
       "34  2019-04-01  10175   1686   7872  1727  1695   2051  1616   642   2763   \n",
       "35  2019-03-01   9934   1499   7290  1567  1377   1559  1463   535   2404   \n",
       "36  2019-02-01   9647   1341   6579  1423  1216   1161  1358   414   2043   \n",
       "37  2019-01-01   9571   1298   6493  1393  1205   1142  1360   402   2017   \n",
       "\n",
       "       대구    전북    전남    광주     경남     부산    울산     제주      합계  \n",
       "0   17584  8404  9978  6015  14371  15330  3789  26702  258253  \n",
       "1   17091  7456  9203  5652  13536  13805  3405  26184  241182  \n",
       "2   16169  7389  8837  5204  12725  12501  3180  25580  232970  \n",
       "3   16185  7365  8708  5194  12606  12375  3166  25571  231443  \n",
       "4   16083  7147  8042  4978  12122  11766  3149  25381  222968  \n",
       "5   15753  6733  7826  4806  11199  10939  3184  24410  211677  \n",
       "6   15122  6286  7574  4722  10274  10480  3167  23845  201520  \n",
       "7   14632  5826  7211  4478   9730   9525  3038  23590  191065  \n",
       "8   14226  5466  6956  4242   9244   8824  2943  23262  180966  \n",
       "9   13974  5104  6643  4081   8685   8503  2897  22838  173147  \n",
       "10  13472  4432  6222  3813   7867   7515  2734  22148  159851  \n",
       "11  13142  4054  6001  3593   7474   6821  2599  21978  151991  \n",
       "12  13041  3596  5773  3504   7220   6600  2527  21832  147686  \n",
       "13  12846  3363  5415  3200   6552   5512  2284  21297  137263  \n",
       "14  12557  3360  5251  3210   6369   5409  2269  21206  135391  \n",
       "15  12630  3323  5223  3210   6308   5355  2274  21285  134962  \n",
       "16  12570  3269  5055  3162   6137   5210  2249  21261  131923  \n",
       "17  12550  3130  4896  3158   5924   4696  2221  21222  128258  \n",
       "18  12552  2977  4759  3151   5617   4420  2204  21107  124409  \n",
       "19  12468  2906  4576  3046   5003   4320  2142  20699  118034  \n",
       "20  12454  2848  4444  2962   4886   4216  2119  20105  114318  \n",
       "21  12356  2745  4323  2844   4805   4100  2110  19705  111307  \n",
       "22  12160  2561  4125  2745   4568   3936  1774  19388  106099  \n",
       "23  11878  2467  4067  2710   4432   3883  1738  19092  103700  \n",
       "24  11641  2270  3893  2660   4295   3624  1650  18793  100229  \n",
       "25  11275  1920  3346  2489   3822   3270  1464  18684   93572  \n",
       "26  11274  1872  3326  2479   3634   3223  1441  18307   90701  \n",
       "27  11313  1841  3326  2464   3626   3216  1447  18178   89918  \n",
       "28   9733  1804  3278  2341   3592   2645  1198  17933   83047  \n",
       "29   9403  1752  3259  2283   3458   2567  1169  17779   80902  \n",
       "30   9053  1700  3122  2213   3392   2489  1123  17559   78660  \n",
       "31   8656  1641  3077  2140   3258   2410  1079  17352   76332  \n",
       "32   8307  1586  2979  2024   3108   2234  1019  17101   72814  \n",
       "33   7964  1490  2817  1870   3005   2085   959  16588   69223  \n",
       "34   7475  1418  2687  1736   2783   1906   927  16066   65225  \n",
       "35   7140  1196  2514  1587   2602   1786   902  15597   60952  \n",
       "36   6927  1017  1999  1462   2211   1602   864  15268   56532  \n",
       "37   6885  1005  1997  1446   2123   1589   862  15297   56085  >"
      ]
     },
     "execution_count": 39,
     "metadata": {},
     "output_type": "execute_result"
    }
   ],
   "source": [
    "EVcar = pd.read_csv(\"C:/GitLabortary/AcornBigDataClass_Team3/data/Intro/한국전력공사_지역별 전기차 현황정보_20220429.csv\")\n",
    "EVcar.head\n",
    "# EVcar.info()"
   ]
  },
  {
   "cell_type": "code",
   "execution_count": 40,
   "id": "63d6a1dd",
   "metadata": {},
   "outputs": [
    {
     "data": {
      "text/html": [
       "<div>\n",
       "<style scoped>\n",
       "    .dataframe tbody tr th:only-of-type {\n",
       "        vertical-align: middle;\n",
       "    }\n",
       "\n",
       "    .dataframe tbody tr th {\n",
       "        vertical-align: top;\n",
       "    }\n",
       "\n",
       "    .dataframe thead th {\n",
       "        text-align: right;\n",
       "    }\n",
       "</style>\n",
       "<table border=\"1\" class=\"dataframe\">\n",
       "  <thead>\n",
       "    <tr style=\"text-align: right;\">\n",
       "      <th></th>\n",
       "      <th>합계</th>\n",
       "    </tr>\n",
       "    <tr>\n",
       "      <th>기준일</th>\n",
       "      <th></th>\n",
       "    </tr>\n",
       "  </thead>\n",
       "  <tbody>\n",
       "    <tr>\n",
       "      <th>2019</th>\n",
       "      <td>89918</td>\n",
       "    </tr>\n",
       "    <tr>\n",
       "      <th>2020</th>\n",
       "      <td>134962</td>\n",
       "    </tr>\n",
       "    <tr>\n",
       "      <th>2021</th>\n",
       "      <td>231443</td>\n",
       "    </tr>\n",
       "  </tbody>\n",
       "</table>\n",
       "</div>"
      ],
      "text/plain": [
       "          합계\n",
       "기준일         \n",
       "2019   89918\n",
       "2020  134962\n",
       "2021  231443"
      ]
     },
     "execution_count": 40,
     "metadata": {},
     "output_type": "execute_result"
    }
   ],
   "source": [
    "EVcar = EVcar.drop([37,36,35,34,33,31,32,31,30,29,28,26,25,24,23,22,21,20,19,18,17,16,14,13,11,12,10,9,8,7,6,5,4,2,1,0], axis = 0)\n",
    "EVcar = EVcar.drop([\"서울\",\"인천\",\"경기\",\"강원\",\"충북\",\"충남\",\"대전\",\"세종\",\"경북\",\"대구\",\"전북\",\"전남\",\n",
    "                   \"광주\",\"경남\",\"부산\",\"울산\",\"제주\"], axis=1)\n",
    "EVcar = EVcar.sort_values(by=\"합계\",ascending=True, axis=0)\n",
    "EVcar = EVcar.set_index([\"기준일\"])\n",
    "EVcar.rename(index={\"2019-12-01\":\"2019\",\"2020-12-01\":\"2020\",\"2021-12-01\":\"2021\"}, inplace=True)\n",
    "EVcar"
   ]
  },
  {
   "cell_type": "code",
   "execution_count": 4,
   "id": "86c4266a",
   "metadata": {},
   "outputs": [
    {
     "data": {
      "text/plain": [
       "<AxesSubplot:xlabel='기준일'>"
      ]
     },
     "execution_count": 4,
     "metadata": {},
     "output_type": "execute_result"
    },
    {
     "data": {
      "image/png": "[encoded data removed]",
      "text/plain": [
       "<Figure size 576x432 with 1 Axes>"
      ]
     },
     "metadata": {
      "needs_background": "light"
     },
     "output_type": "display_data"
    }
   ],
   "source": [
    "EVcar.plot(kind=\"bar\",figsize=(8,6))"
   ]
  },
  {
   "cell_type": "code",
   "execution_count": 5,
   "id": "f40d2958",
   "metadata": {},
   "outputs": [
    {
     "data": {
      "text/html": [
       "<div>\n",
       "<style scoped>\n",
       "    .dataframe tbody tr th:only-of-type {\n",
       "        vertical-align: middle;\n",
       "    }\n",
       "\n",
       "    .dataframe tbody tr th {\n",
       "        vertical-align: top;\n",
       "    }\n",
       "\n",
       "    .dataframe thead th {\n",
       "        text-align: right;\n",
       "    }\n",
       "</style>\n",
       "<table border=\"1\" class=\"dataframe\">\n",
       "  <thead>\n",
       "    <tr style=\"text-align: right;\">\n",
       "      <th></th>\n",
       "      <th>년도</th>\n",
       "      <th>급속충전기 보급 수량</th>\n",
       "    </tr>\n",
       "  </thead>\n",
       "  <tbody>\n",
       "    <tr>\n",
       "      <th>0</th>\n",
       "      <td>2016</td>\n",
       "      <td>943</td>\n",
       "    </tr>\n",
       "    <tr>\n",
       "      <th>1</th>\n",
       "      <td>2017</td>\n",
       "      <td>2441</td>\n",
       "    </tr>\n",
       "    <tr>\n",
       "      <th>2</th>\n",
       "      <td>2018</td>\n",
       "      <td>3317</td>\n",
       "    </tr>\n",
       "    <tr>\n",
       "      <th>3</th>\n",
       "      <td>2019</td>\n",
       "      <td>1208</td>\n",
       "    </tr>\n",
       "    <tr>\n",
       "      <th>4</th>\n",
       "      <td>2020</td>\n",
       "      <td>2521</td>\n",
       "    </tr>\n",
       "  </tbody>\n",
       "</table>\n",
       "</div>"
      ],
      "text/plain": [
       "     년도  급속충전기 보급 수량\n",
       "0  2016          943\n",
       "1  2017         2441\n",
       "2  2018         3317\n",
       "3  2019         1208\n",
       "4  2020         2521"
      ]
     },
     "execution_count": 5,
     "metadata": {},
     "output_type": "execute_result"
    }
   ],
   "source": [
    "EVcharge1 = pd.read_csv(\"C:/GitLabortary/AcornBigDataClass_Team3/data/Intro/환경부_전기자동차 급속충전기 보급 현황_20211231.csv\")\n",
    "del EVcharge1[\"설명\"]\n",
    "EVcharge1.head()\n",
    "# EVcharge1.info()"
   ]
  },
  {
   "cell_type": "code",
   "execution_count": 6,
   "id": "ce9e5ec1",
   "metadata": {},
   "outputs": [
    {
     "data": {
      "text/html": [
       "<div>\n",
       "<style scoped>\n",
       "    .dataframe tbody tr th:only-of-type {\n",
       "        vertical-align: middle;\n",
       "    }\n",
       "\n",
       "    .dataframe tbody tr th {\n",
       "        vertical-align: top;\n",
       "    }\n",
       "\n",
       "    .dataframe thead th {\n",
       "        text-align: right;\n",
       "    }\n",
       "</style>\n",
       "<table border=\"1\" class=\"dataframe\">\n",
       "  <thead>\n",
       "    <tr style=\"text-align: right;\">\n",
       "      <th></th>\n",
       "      <th>년도</th>\n",
       "      <th>완속충전기 보급수량</th>\n",
       "    </tr>\n",
       "  </thead>\n",
       "  <tbody>\n",
       "    <tr>\n",
       "      <th>0</th>\n",
       "      <td>2016</td>\n",
       "      <td>828</td>\n",
       "    </tr>\n",
       "    <tr>\n",
       "      <th>1</th>\n",
       "      <td>2017</td>\n",
       "      <td>8684</td>\n",
       "    </tr>\n",
       "    <tr>\n",
       "      <th>2</th>\n",
       "      <td>2018</td>\n",
       "      <td>16662</td>\n",
       "    </tr>\n",
       "    <tr>\n",
       "      <th>3</th>\n",
       "      <td>2019</td>\n",
       "      <td>21008</td>\n",
       "    </tr>\n",
       "    <tr>\n",
       "      <th>4</th>\n",
       "      <td>2020</td>\n",
       "      <td>17499</td>\n",
       "    </tr>\n",
       "  </tbody>\n",
       "</table>\n",
       "</div>"
      ],
      "text/plain": [
       "     년도  완속충전기 보급수량\n",
       "0  2016         828\n",
       "1  2017        8684\n",
       "2  2018       16662\n",
       "3  2019       21008\n",
       "4  2020       17499"
      ]
     },
     "execution_count": 6,
     "metadata": {},
     "output_type": "execute_result"
    }
   ],
   "source": [
    "EVcharge2 = pd.read_csv(\"C:/GitLabortary/AcornBigDataClass_Team3/data/Intro/환경부_전기자동차 완속충전기 보급 현황_20211231.csv\")\n",
    "del EVcharge2[\"설명\"]\n",
    "EVcharge2.rename(columns={'완속충전기 보급수량(단위-기)':'완속충전기 보급수량'}, inplace=True)\n",
    "EVcharge2.head()"
   ]
  },
  {
   "cell_type": "code",
   "execution_count": 7,
   "id": "62277a05",
   "metadata": {},
   "outputs": [
    {
     "data": {
      "text/html": [
       "<div>\n",
       "<style scoped>\n",
       "    .dataframe tbody tr th:only-of-type {\n",
       "        vertical-align: middle;\n",
       "    }\n",
       "\n",
       "    .dataframe tbody tr th {\n",
       "        vertical-align: top;\n",
       "    }\n",
       "\n",
       "    .dataframe thead th {\n",
       "        text-align: right;\n",
       "    }\n",
       "</style>\n",
       "<table border=\"1\" class=\"dataframe\">\n",
       "  <thead>\n",
       "    <tr style=\"text-align: right;\">\n",
       "      <th></th>\n",
       "      <th>년도</th>\n",
       "      <th>급속충전기 보급 수량</th>\n",
       "      <th>완속충전기 보급수량</th>\n",
       "    </tr>\n",
       "  </thead>\n",
       "  <tbody>\n",
       "    <tr>\n",
       "      <th>0</th>\n",
       "      <td>2016</td>\n",
       "      <td>943</td>\n",
       "      <td>828</td>\n",
       "    </tr>\n",
       "    <tr>\n",
       "      <th>1</th>\n",
       "      <td>2017</td>\n",
       "      <td>2441</td>\n",
       "      <td>8684</td>\n",
       "    </tr>\n",
       "    <tr>\n",
       "      <th>2</th>\n",
       "      <td>2018</td>\n",
       "      <td>3317</td>\n",
       "      <td>16662</td>\n",
       "    </tr>\n",
       "    <tr>\n",
       "      <th>3</th>\n",
       "      <td>2019</td>\n",
       "      <td>1208</td>\n",
       "      <td>21008</td>\n",
       "    </tr>\n",
       "    <tr>\n",
       "      <th>4</th>\n",
       "      <td>2020</td>\n",
       "      <td>2521</td>\n",
       "      <td>17499</td>\n",
       "    </tr>\n",
       "  </tbody>\n",
       "</table>\n",
       "</div>"
      ],
      "text/plain": [
       "     년도  급속충전기 보급 수량  완속충전기 보급수량\n",
       "0  2016          943         828\n",
       "1  2017         2441        8684\n",
       "2  2018         3317       16662\n",
       "3  2019         1208       21008\n",
       "4  2020         2521       17499"
      ]
     },
     "execution_count": 7,
     "metadata": {},
     "output_type": "execute_result"
    }
   ],
   "source": [
    "EVcharge = pd.merge(EVcharge1, EVcharge2, on=\"년도\")\n",
    "EVcharge.head()"
   ]
  },
  {
   "cell_type": "code",
   "execution_count": 8,
   "id": "7c03c2db",
   "metadata": {},
   "outputs": [
    {
     "data": {
      "text/html": [
       "<div>\n",
       "<style scoped>\n",
       "    .dataframe tbody tr th:only-of-type {\n",
       "        vertical-align: middle;\n",
       "    }\n",
       "\n",
       "    .dataframe tbody tr th {\n",
       "        vertical-align: top;\n",
       "    }\n",
       "\n",
       "    .dataframe thead th {\n",
       "        text-align: right;\n",
       "    }\n",
       "</style>\n",
       "<table border=\"1\" class=\"dataframe\">\n",
       "  <thead>\n",
       "    <tr style=\"text-align: right;\">\n",
       "      <th></th>\n",
       "      <th>년도</th>\n",
       "      <th>급속충전기 보급 수량</th>\n",
       "      <th>완속충전기 보급수량</th>\n",
       "      <th>충전기 보급수량</th>\n",
       "    </tr>\n",
       "  </thead>\n",
       "  <tbody>\n",
       "    <tr>\n",
       "      <th>0</th>\n",
       "      <td>2016</td>\n",
       "      <td>943</td>\n",
       "      <td>828</td>\n",
       "      <td>1771</td>\n",
       "    </tr>\n",
       "    <tr>\n",
       "      <th>1</th>\n",
       "      <td>2017</td>\n",
       "      <td>2441</td>\n",
       "      <td>8684</td>\n",
       "      <td>12896</td>\n",
       "    </tr>\n",
       "    <tr>\n",
       "      <th>2</th>\n",
       "      <td>2018</td>\n",
       "      <td>3317</td>\n",
       "      <td>16662</td>\n",
       "      <td>32875</td>\n",
       "    </tr>\n",
       "    <tr>\n",
       "      <th>3</th>\n",
       "      <td>2019</td>\n",
       "      <td>1208</td>\n",
       "      <td>21008</td>\n",
       "      <td>55091</td>\n",
       "    </tr>\n",
       "    <tr>\n",
       "      <th>4</th>\n",
       "      <td>2020</td>\n",
       "      <td>2521</td>\n",
       "      <td>17499</td>\n",
       "      <td>75111</td>\n",
       "    </tr>\n",
       "  </tbody>\n",
       "</table>\n",
       "</div>"
      ],
      "text/plain": [
       "     년도  급속충전기 보급 수량  완속충전기 보급수량  충전기 보급수량\n",
       "0  2016          943         828      1771\n",
       "1  2017         2441        8684     12896\n",
       "2  2018         3317       16662     32875\n",
       "3  2019         1208       21008     55091\n",
       "4  2020         2521       17499     75111"
      ]
     },
     "execution_count": 8,
     "metadata": {},
     "output_type": "execute_result"
    }
   ],
   "source": [
    "EVcharge[\"충전기 보급수량\"] = 0\n",
    "EVcharge[\"충전기 보급수량\"][0] = (EVcharge[\"급속충전기 보급 수량\"][0] + EVcharge[\"완속충전기 보급수량\"][0])\n",
    "EVcharge[\"충전기 보급수량\"][1] = (EVcharge[\"충전기 보급수량\"][0] + EVcharge[\"급속충전기 보급 수량\"][1] + EVcharge[\"완속충전기 보급수량\"][1])\n",
    "EVcharge[\"충전기 보급수량\"][2] = (EVcharge[\"충전기 보급수량\"][1] + EVcharge[\"급속충전기 보급 수량\"][2] + EVcharge[\"완속충전기 보급수량\"][2])\n",
    "EVcharge[\"충전기 보급수량\"][3] = (EVcharge[\"충전기 보급수량\"][2] + EVcharge[\"급속충전기 보급 수량\"][3] + EVcharge[\"완속충전기 보급수량\"][3])\n",
    "EVcharge[\"충전기 보급수량\"][4] = (EVcharge[\"충전기 보급수량\"][3] + EVcharge[\"급속충전기 보급 수량\"][4] + EVcharge[\"완속충전기 보급수량\"][4])\n",
    "EVcharge[\"충전기 보급수량\"][5] = (EVcharge[\"충전기 보급수량\"][4] + EVcharge[\"급속충전기 보급 수량\"][5] + EVcharge[\"완속충전기 보급수량\"][5])\n",
    "EVcharge.head()"
   ]
  },
  {
   "cell_type": "code",
   "execution_count": 9,
   "id": "d8f7a291",
   "metadata": {},
   "outputs": [
    {
     "data": {
      "text/html": [
       "<div>\n",
       "<style scoped>\n",
       "    .dataframe tbody tr th:only-of-type {\n",
       "        vertical-align: middle;\n",
       "    }\n",
       "\n",
       "    .dataframe tbody tr th {\n",
       "        vertical-align: top;\n",
       "    }\n",
       "\n",
       "    .dataframe thead th {\n",
       "        text-align: right;\n",
       "    }\n",
       "</style>\n",
       "<table border=\"1\" class=\"dataframe\">\n",
       "  <thead>\n",
       "    <tr style=\"text-align: right;\">\n",
       "      <th></th>\n",
       "      <th>년도</th>\n",
       "      <th>충전기 보급수량</th>\n",
       "    </tr>\n",
       "  </thead>\n",
       "  <tbody>\n",
       "    <tr>\n",
       "      <th>3</th>\n",
       "      <td>2019</td>\n",
       "      <td>55091</td>\n",
       "    </tr>\n",
       "    <tr>\n",
       "      <th>4</th>\n",
       "      <td>2020</td>\n",
       "      <td>75111</td>\n",
       "    </tr>\n",
       "    <tr>\n",
       "      <th>5</th>\n",
       "      <td>2021</td>\n",
       "      <td>107295</td>\n",
       "    </tr>\n",
       "  </tbody>\n",
       "</table>\n",
       "</div>"
      ],
      "text/plain": [
       "     년도  충전기 보급수량\n",
       "3  2019     55091\n",
       "4  2020     75111\n",
       "5  2021    107295"
      ]
     },
     "execution_count": 9,
     "metadata": {},
     "output_type": "execute_result"
    }
   ],
   "source": [
    "EVcharge = EVcharge.drop([0,1,2], axis=0)\n",
    "EVcharge = EVcharge.drop([\"급속충전기 보급 수량\",\"완속충전기 보급수량\"], axis=1)\n",
    "EVcharge"
   ]
  },
  {
   "cell_type": "code",
   "execution_count": 10,
   "id": "d44df827",
   "metadata": {},
   "outputs": [],
   "source": [
    "EVcharge = EVcharge.set_index([\"년도\"])"
   ]
  },
  {
   "cell_type": "code",
   "execution_count": 11,
   "id": "9678b2e8",
   "metadata": {},
   "outputs": [
    {
     "data": {
      "text/plain": [
       "<AxesSubplot:xlabel='년도'>"
      ]
     },
     "execution_count": 11,
     "metadata": {},
     "output_type": "execute_result"
    },
    {
     "data": {
      "image/png": "[encoded data removed]",
      "text/plain": [
       "<Figure size 576x432 with 1 Axes>"
      ]
     },
     "metadata": {
      "needs_background": "light"
     },
     "output_type": "display_data"
    }
   ],
   "source": [
    "EVcharge.plot(figsize=(8,6))"
   ]
  },
  {
   "cell_type": "code",
   "execution_count": 12,
   "id": "e2aa287d",
   "metadata": {},
   "outputs": [
    {
     "data": {
      "text/html": [
       "<div>\n",
       "<style scoped>\n",
       "    .dataframe tbody tr th:only-of-type {\n",
       "        vertical-align: middle;\n",
       "    }\n",
       "\n",
       "    .dataframe tbody tr th {\n",
       "        vertical-align: top;\n",
       "    }\n",
       "\n",
       "    .dataframe thead th {\n",
       "        text-align: right;\n",
       "    }\n",
       "</style>\n",
       "<table border=\"1\" class=\"dataframe\">\n",
       "  <thead>\n",
       "    <tr style=\"text-align: right;\">\n",
       "      <th></th>\n",
       "      <th>기준일</th>\n",
       "      <th>합계</th>\n",
       "    </tr>\n",
       "  </thead>\n",
       "  <tbody>\n",
       "    <tr>\n",
       "      <th>0</th>\n",
       "      <td>2019</td>\n",
       "      <td>89918</td>\n",
       "    </tr>\n",
       "    <tr>\n",
       "      <th>1</th>\n",
       "      <td>2020</td>\n",
       "      <td>134962</td>\n",
       "    </tr>\n",
       "    <tr>\n",
       "      <th>2</th>\n",
       "      <td>2021</td>\n",
       "      <td>231443</td>\n",
       "    </tr>\n",
       "  </tbody>\n",
       "</table>\n",
       "</div>"
      ],
      "text/plain": [
       "    기준일      합계\n",
       "0  2019   89918\n",
       "1  2020  134962\n",
       "2  2021  231443"
      ]
     },
     "execution_count": 12,
     "metadata": {},
     "output_type": "execute_result"
    }
   ],
   "source": [
    "# 하나로 합치기\n",
    "EVcar = pd.read_csv(\"C:/GitLabortary/AcornBigDataClass_Team3/data/Intro/한국전력공사_지역별 전기차 현황정보_20220429.csv\")\n",
    "\n",
    "EVcar = EVcar.drop([37,36,35,34,33,31,32,31,30,29,28,26,25,24,23,22,21,20,19,18,17,16,14,13,11,12,10,9,8,7,6,5,4,2,1,0], axis = 0)\n",
    "EVcar = EVcar.drop([\"서울\",\"인천\",\"경기\",\"강원\",\"충북\",\"충남\",\"대전\",\"세종\",\"경북\",\"대구\",\"전북\",\"전남\",\n",
    "                   \"광주\",\"경남\",\"부산\",\"울산\",\"제주\"], axis=1)\n",
    "EVcar = EVcar.sort_values(by=\"합계\",ascending=True, axis=0)\n",
    "EVcar = EVcar.set_index([\"기준일\"])\n",
    "EVcar.rename(index={\"2019-12-01\":\"2019\",\"2020-12-01\":\"2020\",\"2021-12-01\":\"2021\"}, inplace=True)\n",
    "EVcar = EVcar.reset_index([\"기준일\"])\n",
    "EVcar"
   ]
  },
  {
   "cell_type": "code",
   "execution_count": 13,
   "id": "2a33307b",
   "metadata": {},
   "outputs": [
    {
     "data": {
      "text/html": [
       "<div>\n",
       "<style scoped>\n",
       "    .dataframe tbody tr th:only-of-type {\n",
       "        vertical-align: middle;\n",
       "    }\n",
       "\n",
       "    .dataframe tbody tr th {\n",
       "        vertical-align: top;\n",
       "    }\n",
       "\n",
       "    .dataframe thead th {\n",
       "        text-align: right;\n",
       "    }\n",
       "</style>\n",
       "<table border=\"1\" class=\"dataframe\">\n",
       "  <thead>\n",
       "    <tr style=\"text-align: right;\">\n",
       "      <th></th>\n",
       "      <th>년도</th>\n",
       "      <th>충전기 보급수량</th>\n",
       "    </tr>\n",
       "  </thead>\n",
       "  <tbody>\n",
       "    <tr>\n",
       "      <th>3</th>\n",
       "      <td>2019</td>\n",
       "      <td>55091</td>\n",
       "    </tr>\n",
       "    <tr>\n",
       "      <th>4</th>\n",
       "      <td>2020</td>\n",
       "      <td>75111</td>\n",
       "    </tr>\n",
       "    <tr>\n",
       "      <th>5</th>\n",
       "      <td>2021</td>\n",
       "      <td>107295</td>\n",
       "    </tr>\n",
       "  </tbody>\n",
       "</table>\n",
       "</div>"
      ],
      "text/plain": [
       "     년도  충전기 보급수량\n",
       "3  2019     55091\n",
       "4  2020     75111\n",
       "5  2021    107295"
      ]
     },
     "execution_count": 13,
     "metadata": {},
     "output_type": "execute_result"
    }
   ],
   "source": [
    "EVcharge1 = pd.read_csv(\"C:/GitLabortary/AcornBigDataClass_Team3/data/Intro/환경부_전기자동차 급속충전기 보급 현황_20211231.csv\")\n",
    "del EVcharge1[\"설명\"]\n",
    "EVcharge2 = pd.read_csv(\"C:/GitLabortary/AcornBigDataClass_Team3/data/Intro/환경부_전기자동차 완속충전기 보급 현황_20211231.csv\")\n",
    "del EVcharge2[\"설명\"]\n",
    "EVcharge2.rename(columns={'완속충전기 보급수량(단위-기)':'완속충전기 보급수량'}, inplace=True)\n",
    "EVcharge = pd.merge(EVcharge1, EVcharge2, on=\"년도\")\n",
    "\n",
    "EVcharge[\"충전기 보급수량\"] = 0\n",
    "EVcharge[\"충전기 보급수량\"][0] = (EVcharge[\"급속충전기 보급 수량\"][0] + EVcharge[\"완속충전기 보급수량\"][0])\n",
    "EVcharge[\"충전기 보급수량\"][1] = (EVcharge[\"충전기 보급수량\"][0] + EVcharge[\"급속충전기 보급 수량\"][1] + EVcharge[\"완속충전기 보급수량\"][1])\n",
    "EVcharge[\"충전기 보급수량\"][2] = (EVcharge[\"충전기 보급수량\"][1] + EVcharge[\"급속충전기 보급 수량\"][2] + EVcharge[\"완속충전기 보급수량\"][2])\n",
    "EVcharge[\"충전기 보급수량\"][3] = (EVcharge[\"충전기 보급수량\"][2] + EVcharge[\"급속충전기 보급 수량\"][3] + EVcharge[\"완속충전기 보급수량\"][3])\n",
    "EVcharge[\"충전기 보급수량\"][4] = (EVcharge[\"충전기 보급수량\"][3] + EVcharge[\"급속충전기 보급 수량\"][4] + EVcharge[\"완속충전기 보급수량\"][4])\n",
    "EVcharge[\"충전기 보급수량\"][5] = (EVcharge[\"충전기 보급수량\"][4] + EVcharge[\"급속충전기 보급 수량\"][5] + EVcharge[\"완속충전기 보급수량\"][5])\n",
    "\n",
    "EVcharge = EVcharge.drop([0,1,2], axis=0)\n",
    "EVcharge = EVcharge.drop([\"급속충전기 보급 수량\",\"완속충전기 보급수량\"], axis=1)\n",
    "EVcharge"
   ]
  },
  {
   "cell_type": "code",
   "execution_count": 21,
   "id": "44fff5d4",
   "metadata": {},
   "outputs": [
    {
     "data": {
      "image/png": "[encoded data removed]",
      "text/plain": [
       "<Figure size 576x432 with 2 Axes>"
      ]
     },
     "metadata": {
      "needs_background": "light"
     },
     "output_type": "display_data"
    }
   ],
   "source": [
    "fig = plt.figure(figsize=(8,6))\n",
    "axes = fig.add_subplot(111)\n",
    "axes2 = axes.twinx()\n",
    "\n",
    "axes.plot(EVcar[\"기준일\"],EVcar[\"합계\"],color=\"red\", label=\"bar\")\n",
    "axes2.bar(EVcar[\"기준일\"],EVcharge[\"충전기 보급수량\"], color=\"green\", label=\"plot\")\n",
    "plt.ylim([0, 250000])\n",
    "\n",
    "axes.set_zorder(axes2.get_zorder() + 10)\n",
    "axes.patch.set_visible(False)\n",
    "\n",
    "plt.show()"
   ]
  },
  {
   "cell_type": "code",
   "execution_count": 24,
   "id": "d5d04e72",
   "metadata": {},
   "outputs": [
    {
     "data": {
      "text/html": [
       "<div>\n",
       "<style scoped>\n",
       "    .dataframe tbody tr th:only-of-type {\n",
       "        vertical-align: middle;\n",
       "    }\n",
       "\n",
       "    .dataframe tbody tr th {\n",
       "        vertical-align: top;\n",
       "    }\n",
       "\n",
       "    .dataframe thead th {\n",
       "        text-align: right;\n",
       "    }\n",
       "</style>\n",
       "<table border=\"1\" class=\"dataframe\">\n",
       "  <thead>\n",
       "    <tr style=\"text-align: right;\">\n",
       "      <th></th>\n",
       "      <th>합계</th>\n",
       "    </tr>\n",
       "    <tr>\n",
       "      <th>기준일</th>\n",
       "      <th></th>\n",
       "    </tr>\n",
       "  </thead>\n",
       "  <tbody>\n",
       "    <tr>\n",
       "      <th>2019-01-01</th>\n",
       "      <td>56085</td>\n",
       "    </tr>\n",
       "    <tr>\n",
       "      <th>2019-12-01</th>\n",
       "      <td>89918</td>\n",
       "    </tr>\n",
       "    <tr>\n",
       "      <th>2020-01-01</th>\n",
       "      <td>90701</td>\n",
       "    </tr>\n",
       "    <tr>\n",
       "      <th>2020-12-01</th>\n",
       "      <td>134962</td>\n",
       "    </tr>\n",
       "    <tr>\n",
       "      <th>2021-01-01</th>\n",
       "      <td>135391</td>\n",
       "    </tr>\n",
       "    <tr>\n",
       "      <th>2021-12-01</th>\n",
       "      <td>231443</td>\n",
       "    </tr>\n",
       "  </tbody>\n",
       "</table>\n",
       "</div>"
      ],
      "text/plain": [
       "                합계\n",
       "기준일               \n",
       "2019-01-01   56085\n",
       "2019-12-01   89918\n",
       "2020-01-01   90701\n",
       "2020-12-01  134962\n",
       "2021-01-01  135391\n",
       "2021-12-01  231443"
      ]
     },
     "execution_count": 24,
     "metadata": {},
     "output_type": "execute_result"
    }
   ],
   "source": [
    "# 증가율로 변경\n",
    "EVcar = pd.read_csv(\"C:/GitLabortary/AcornBigDataClass_Team3/data/Intro/한국전력공사_지역별 전기차 현황정보_20220429.csv\")\n",
    "\n",
    "EVcar = EVcar.drop([36,35,34,33,31,32,31,30,29,28,25,24,23,22,21,20,19,18,17,16,13,11,12,10,9,8,7,6,5,4,2,1,0], axis = 0)\n",
    "EVcar = EVcar.drop([\"서울\",\"인천\",\"경기\",\"강원\",\"충북\",\"충남\",\"대전\",\"세종\",\"경북\",\"대구\",\"전북\",\"전남\",\n",
    "                   \"광주\",\"경남\",\"부산\",\"울산\",\"제주\"], axis=1)\n",
    "EVcar = EVcar.sort_values(by=\"합계\",ascending=True, axis=0)\n",
    "EVcar = EVcar.set_index([\"기준일\"])\n",
    "# EVcar.rename(index={\"2019-12-01\":\"2019\",\"2020-12-01\":\"2020\",\"2021-12-01\":\"2021\"}, inplace=True)\n",
    "# EVcar = EVcar.reset_index([\"기준일\"])\n",
    "EVcar"
   ]
  },
  {
   "cell_type": "code",
   "execution_count": 25,
   "id": "fa6d9a27",
   "metadata": {},
   "outputs": [
    {
     "data": {
      "text/html": [
       "<div>\n",
       "<style scoped>\n",
       "    .dataframe tbody tr th:only-of-type {\n",
       "        vertical-align: middle;\n",
       "    }\n",
       "\n",
       "    .dataframe tbody tr th {\n",
       "        vertical-align: top;\n",
       "    }\n",
       "\n",
       "    .dataframe thead th {\n",
       "        text-align: right;\n",
       "    }\n",
       "</style>\n",
       "<table border=\"1\" class=\"dataframe\">\n",
       "  <thead>\n",
       "    <tr style=\"text-align: right;\">\n",
       "      <th>기준일</th>\n",
       "      <th>2019-01-01</th>\n",
       "      <th>2019-12-01</th>\n",
       "      <th>2020-01-01</th>\n",
       "      <th>2020-12-01</th>\n",
       "      <th>2021-01-01</th>\n",
       "      <th>2021-12-01</th>\n",
       "    </tr>\n",
       "  </thead>\n",
       "  <tbody>\n",
       "    <tr>\n",
       "      <th>합계</th>\n",
       "      <td>56085</td>\n",
       "      <td>89918</td>\n",
       "      <td>90701</td>\n",
       "      <td>134962</td>\n",
       "      <td>135391</td>\n",
       "      <td>231443</td>\n",
       "    </tr>\n",
       "  </tbody>\n",
       "</table>\n",
       "</div>"
      ],
      "text/plain": [
       "기준일  2019-01-01  2019-12-01  2020-01-01  2020-12-01  2021-01-01  2021-12-01\n",
       "합계        56085       89918       90701      134962      135391      231443"
      ]
     },
     "execution_count": 25,
     "metadata": {},
     "output_type": "execute_result"
    }
   ],
   "source": [
    "EVcar = EVcar.T\n",
    "EVcar"
   ]
  },
  {
   "cell_type": "code",
   "execution_count": 26,
   "id": "d1325905",
   "metadata": {},
   "outputs": [],
   "source": [
    "EVcar[\"2019\"] = ((EVcar[\"2019-12-01\"] - EVcar[\"2019-01-01\"]) / EVcar[\"2019-01-01\"]) * 100\n",
    "EVcar[\"2020\"] = ((EVcar[\"2020-12-01\"] - EVcar[\"2020-01-01\"]) / EVcar[\"2020-01-01\"]) * 100\n",
    "EVcar[\"2021\"] = ((EVcar[\"2021-12-01\"] - EVcar[\"2021-01-01\"]) / EVcar[\"2021-01-01\"]) * 100"
   ]
  },
  {
   "cell_type": "code",
   "execution_count": 27,
   "id": "dcf1e26a",
   "metadata": {},
   "outputs": [],
   "source": [
    "EVcar = EVcar.drop([\"2019-01-01\",\"2019-12-01\",\"2020-01-01\",\"2020-12-01\",\"2021-01-01\",\"2021-12-01\"], axis = 1)"
   ]
  },
  {
   "cell_type": "code",
   "execution_count": 28,
   "id": "0e75dc70",
   "metadata": {},
   "outputs": [],
   "source": [
    "EVcar = EVcar.T"
   ]
  },
  {
   "cell_type": "code",
   "execution_count": 29,
   "id": "f12d86c2",
   "metadata": {},
   "outputs": [
    {
     "data": {
      "text/html": [
       "<div>\n",
       "<style scoped>\n",
       "    .dataframe tbody tr th:only-of-type {\n",
       "        vertical-align: middle;\n",
       "    }\n",
       "\n",
       "    .dataframe tbody tr th {\n",
       "        vertical-align: top;\n",
       "    }\n",
       "\n",
       "    .dataframe thead th {\n",
       "        text-align: right;\n",
       "    }\n",
       "</style>\n",
       "<table border=\"1\" class=\"dataframe\">\n",
       "  <thead>\n",
       "    <tr style=\"text-align: right;\">\n",
       "      <th></th>\n",
       "      <th>기준일</th>\n",
       "      <th>합계</th>\n",
       "    </tr>\n",
       "  </thead>\n",
       "  <tbody>\n",
       "    <tr>\n",
       "      <th>0</th>\n",
       "      <td>2019</td>\n",
       "      <td>60.324507</td>\n",
       "    </tr>\n",
       "    <tr>\n",
       "      <th>1</th>\n",
       "      <td>2020</td>\n",
       "      <td>48.798800</td>\n",
       "    </tr>\n",
       "    <tr>\n",
       "      <th>2</th>\n",
       "      <td>2021</td>\n",
       "      <td>70.944154</td>\n",
       "    </tr>\n",
       "  </tbody>\n",
       "</table>\n",
       "</div>"
      ],
      "text/plain": [
       "    기준일         합계\n",
       "0  2019  60.324507\n",
       "1  2020  48.798800\n",
       "2  2021  70.944154"
      ]
     },
     "execution_count": 29,
     "metadata": {},
     "output_type": "execute_result"
    }
   ],
   "source": [
    "EVcar = EVcar.reset_index([\"기준일\"])\n",
    "EVcar"
   ]
  },
  {
   "cell_type": "code",
   "execution_count": 30,
   "id": "cf20c516",
   "metadata": {},
   "outputs": [
    {
     "data": {
      "text/html": [
       "<div>\n",
       "<style scoped>\n",
       "    .dataframe tbody tr th:only-of-type {\n",
       "        vertical-align: middle;\n",
       "    }\n",
       "\n",
       "    .dataframe tbody tr th {\n",
       "        vertical-align: top;\n",
       "    }\n",
       "\n",
       "    .dataframe thead th {\n",
       "        text-align: right;\n",
       "    }\n",
       "</style>\n",
       "<table border=\"1\" class=\"dataframe\">\n",
       "  <thead>\n",
       "    <tr style=\"text-align: right;\">\n",
       "      <th></th>\n",
       "      <th>충전기 보급수량</th>\n",
       "    </tr>\n",
       "    <tr>\n",
       "      <th>년도</th>\n",
       "      <th></th>\n",
       "    </tr>\n",
       "  </thead>\n",
       "  <tbody>\n",
       "    <tr>\n",
       "      <th>2016</th>\n",
       "      <td>1771</td>\n",
       "    </tr>\n",
       "    <tr>\n",
       "      <th>2017</th>\n",
       "      <td>12896</td>\n",
       "    </tr>\n",
       "    <tr>\n",
       "      <th>2018</th>\n",
       "      <td>32875</td>\n",
       "    </tr>\n",
       "    <tr>\n",
       "      <th>2019</th>\n",
       "      <td>55091</td>\n",
       "    </tr>\n",
       "    <tr>\n",
       "      <th>2020</th>\n",
       "      <td>75111</td>\n",
       "    </tr>\n",
       "    <tr>\n",
       "      <th>2021</th>\n",
       "      <td>107295</td>\n",
       "    </tr>\n",
       "  </tbody>\n",
       "</table>\n",
       "</div>"
      ],
      "text/plain": [
       "      충전기 보급수량\n",
       "년도            \n",
       "2016      1771\n",
       "2017     12896\n",
       "2018     32875\n",
       "2019     55091\n",
       "2020     75111\n",
       "2021    107295"
      ]
     },
     "execution_count": 30,
     "metadata": {},
     "output_type": "execute_result"
    }
   ],
   "source": [
    "EVcharge1 = pd.read_csv(\"C:/GitLabortary/AcornBigDataClass_Team3/data/Intro/환경부_전기자동차 급속충전기 보급 현황_20211231.csv\")\n",
    "del EVcharge1[\"설명\"]\n",
    "EVcharge2 = pd.read_csv(\"C:/GitLabortary/AcornBigDataClass_Team3/data/Intro/환경부_전기자동차 완속충전기 보급 현황_20211231.csv\")\n",
    "del EVcharge2[\"설명\"]\n",
    "EVcharge2.rename(columns={'완속충전기 보급수량(단위-기)':'완속충전기 보급수량'}, inplace=True)\n",
    "EVcharge = pd.merge(EVcharge1, EVcharge2, on=\"년도\")\n",
    "\n",
    "EVcharge[\"충전기 보급수량\"] = 0\n",
    "EVcharge[\"충전기 보급수량\"][0] = (EVcharge[\"급속충전기 보급 수량\"][0] + EVcharge[\"완속충전기 보급수량\"][0])\n",
    "EVcharge[\"충전기 보급수량\"][1] = (EVcharge[\"충전기 보급수량\"][0] + EVcharge[\"급속충전기 보급 수량\"][1] + EVcharge[\"완속충전기 보급수량\"][1])\n",
    "EVcharge[\"충전기 보급수량\"][2] = (EVcharge[\"충전기 보급수량\"][1] + EVcharge[\"급속충전기 보급 수량\"][2] + EVcharge[\"완속충전기 보급수량\"][2])\n",
    "EVcharge[\"충전기 보급수량\"][3] = (EVcharge[\"충전기 보급수량\"][2] + EVcharge[\"급속충전기 보급 수량\"][3] + EVcharge[\"완속충전기 보급수량\"][3])\n",
    "EVcharge[\"충전기 보급수량\"][4] = (EVcharge[\"충전기 보급수량\"][3] + EVcharge[\"급속충전기 보급 수량\"][4] + EVcharge[\"완속충전기 보급수량\"][4])\n",
    "EVcharge[\"충전기 보급수량\"][5] = (EVcharge[\"충전기 보급수량\"][4] + EVcharge[\"급속충전기 보급 수량\"][5] + EVcharge[\"완속충전기 보급수량\"][5])\n",
    "\n",
    "# EVcharge = EVcharge.drop([0,1,2], axis=0)\n",
    "EVcharge = EVcharge.drop([\"급속충전기 보급 수량\",\"완속충전기 보급수량\"], axis=1)\n",
    "EVcharge = EVcharge.set_index([\"년도\"])\n",
    "EVcharge"
   ]
  },
  {
   "cell_type": "code",
   "execution_count": 31,
   "id": "648ebe82",
   "metadata": {},
   "outputs": [
    {
     "data": {
      "text/html": [
       "<div>\n",
       "<style scoped>\n",
       "    .dataframe tbody tr th:only-of-type {\n",
       "        vertical-align: middle;\n",
       "    }\n",
       "\n",
       "    .dataframe tbody tr th {\n",
       "        vertical-align: top;\n",
       "    }\n",
       "\n",
       "    .dataframe thead th {\n",
       "        text-align: right;\n",
       "    }\n",
       "</style>\n",
       "<table border=\"1\" class=\"dataframe\">\n",
       "  <thead>\n",
       "    <tr style=\"text-align: right;\">\n",
       "      <th>년도</th>\n",
       "      <th>2016</th>\n",
       "      <th>2017</th>\n",
       "      <th>2018</th>\n",
       "      <th>2019</th>\n",
       "      <th>2020</th>\n",
       "      <th>2021</th>\n",
       "    </tr>\n",
       "  </thead>\n",
       "  <tbody>\n",
       "    <tr>\n",
       "      <th>충전기 보급수량</th>\n",
       "      <td>1771</td>\n",
       "      <td>12896</td>\n",
       "      <td>32875</td>\n",
       "      <td>55091</td>\n",
       "      <td>75111</td>\n",
       "      <td>107295</td>\n",
       "    </tr>\n",
       "  </tbody>\n",
       "</table>\n",
       "</div>"
      ],
      "text/plain": [
       "년도        2016   2017   2018   2019   2020    2021\n",
       "충전기 보급수량  1771  12896  32875  55091  75111  107295"
      ]
     },
     "execution_count": 31,
     "metadata": {},
     "output_type": "execute_result"
    }
   ],
   "source": [
    "EVcharge=EVcharge.T\n",
    "EVcharge"
   ]
  },
  {
   "cell_type": "code",
   "execution_count": 32,
   "id": "a5fda9be",
   "metadata": {},
   "outputs": [
    {
     "data": {
      "text/html": [
       "<div>\n",
       "<style scoped>\n",
       "    .dataframe tbody tr th:only-of-type {\n",
       "        vertical-align: middle;\n",
       "    }\n",
       "\n",
       "    .dataframe tbody tr th {\n",
       "        vertical-align: top;\n",
       "    }\n",
       "\n",
       "    .dataframe thead th {\n",
       "        text-align: right;\n",
       "    }\n",
       "</style>\n",
       "<table border=\"1\" class=\"dataframe\">\n",
       "  <thead>\n",
       "    <tr style=\"text-align: right;\">\n",
       "      <th>년도</th>\n",
       "      <th>2016</th>\n",
       "      <th>2017</th>\n",
       "      <th>2018</th>\n",
       "      <th>2019</th>\n",
       "      <th>2020</th>\n",
       "      <th>2021</th>\n",
       "      <th>2019년</th>\n",
       "      <th>2020년</th>\n",
       "      <th>2021년</th>\n",
       "    </tr>\n",
       "  </thead>\n",
       "  <tbody>\n",
       "    <tr>\n",
       "      <th>충전기 보급수량</th>\n",
       "      <td>1771</td>\n",
       "      <td>12896</td>\n",
       "      <td>32875</td>\n",
       "      <td>55091</td>\n",
       "      <td>75111</td>\n",
       "      <td>107295</td>\n",
       "      <td>67.577186</td>\n",
       "      <td>36.339874</td>\n",
       "      <td>42.848584</td>\n",
       "    </tr>\n",
       "  </tbody>\n",
       "</table>\n",
       "</div>"
      ],
      "text/plain": [
       "년도        2016   2017   2018   2019   2020    2021      2019년      2020년  \\\n",
       "충전기 보급수량  1771  12896  32875  55091  75111  107295  67.577186  36.339874   \n",
       "\n",
       "년도            2021년  \n",
       "충전기 보급수량  42.848584  "
      ]
     },
     "execution_count": 32,
     "metadata": {},
     "output_type": "execute_result"
    }
   ],
   "source": [
    "EVcharge[\"2019년\"] = ((EVcharge[2019] - EVcharge[2018]) / EVcharge[2018]) * 100\n",
    "EVcharge[\"2020년\"] = ((EVcharge[2020] - EVcharge[2019]) / EVcharge[2019]) * 100\n",
    "EVcharge[\"2021년\"] = ((EVcharge[2021] - EVcharge[2020]) / EVcharge[2020]) * 100\n",
    "EVcharge"
   ]
  },
  {
   "cell_type": "code",
   "execution_count": 33,
   "id": "bb176093",
   "metadata": {},
   "outputs": [
    {
     "data": {
      "text/html": [
       "<div>\n",
       "<style scoped>\n",
       "    .dataframe tbody tr th:only-of-type {\n",
       "        vertical-align: middle;\n",
       "    }\n",
       "\n",
       "    .dataframe tbody tr th {\n",
       "        vertical-align: top;\n",
       "    }\n",
       "\n",
       "    .dataframe thead th {\n",
       "        text-align: right;\n",
       "    }\n",
       "</style>\n",
       "<table border=\"1\" class=\"dataframe\">\n",
       "  <thead>\n",
       "    <tr style=\"text-align: right;\">\n",
       "      <th>년도</th>\n",
       "      <th>2019년</th>\n",
       "      <th>2020년</th>\n",
       "      <th>2021년</th>\n",
       "    </tr>\n",
       "  </thead>\n",
       "  <tbody>\n",
       "    <tr>\n",
       "      <th>충전기 보급수량</th>\n",
       "      <td>67.577186</td>\n",
       "      <td>36.339874</td>\n",
       "      <td>42.848584</td>\n",
       "    </tr>\n",
       "  </tbody>\n",
       "</table>\n",
       "</div>"
      ],
      "text/plain": [
       "년도            2019년      2020년      2021년\n",
       "충전기 보급수량  67.577186  36.339874  42.848584"
      ]
     },
     "execution_count": 33,
     "metadata": {},
     "output_type": "execute_result"
    }
   ],
   "source": [
    "EVcharge = EVcharge.drop([2016,2017,2018,2019,2020,2021], axis = 1)\n",
    "EVcharge"
   ]
  },
  {
   "cell_type": "code",
   "execution_count": 34,
   "id": "179ec180",
   "metadata": {},
   "outputs": [
    {
     "data": {
      "text/html": [
       "<div>\n",
       "<style scoped>\n",
       "    .dataframe tbody tr th:only-of-type {\n",
       "        vertical-align: middle;\n",
       "    }\n",
       "\n",
       "    .dataframe tbody tr th {\n",
       "        vertical-align: top;\n",
       "    }\n",
       "\n",
       "    .dataframe thead th {\n",
       "        text-align: right;\n",
       "    }\n",
       "</style>\n",
       "<table border=\"1\" class=\"dataframe\">\n",
       "  <thead>\n",
       "    <tr style=\"text-align: right;\">\n",
       "      <th></th>\n",
       "      <th>충전기 보급수량</th>\n",
       "    </tr>\n",
       "    <tr>\n",
       "      <th>년도</th>\n",
       "      <th></th>\n",
       "    </tr>\n",
       "  </thead>\n",
       "  <tbody>\n",
       "    <tr>\n",
       "      <th>2019년</th>\n",
       "      <td>67.577186</td>\n",
       "    </tr>\n",
       "    <tr>\n",
       "      <th>2020년</th>\n",
       "      <td>36.339874</td>\n",
       "    </tr>\n",
       "    <tr>\n",
       "      <th>2021년</th>\n",
       "      <td>42.848584</td>\n",
       "    </tr>\n",
       "  </tbody>\n",
       "</table>\n",
       "</div>"
      ],
      "text/plain": [
       "        충전기 보급수량\n",
       "년도              \n",
       "2019년  67.577186\n",
       "2020년  36.339874\n",
       "2021년  42.848584"
      ]
     },
     "execution_count": 34,
     "metadata": {},
     "output_type": "execute_result"
    }
   ],
   "source": [
    "EVcharge=EVcharge.T\n",
    "EVcharge"
   ]
  },
  {
   "cell_type": "code",
   "execution_count": 35,
   "id": "e7dd7f02",
   "metadata": {},
   "outputs": [
    {
     "data": {
      "text/html": [
       "<div>\n",
       "<style scoped>\n",
       "    .dataframe tbody tr th:only-of-type {\n",
       "        vertical-align: middle;\n",
       "    }\n",
       "\n",
       "    .dataframe tbody tr th {\n",
       "        vertical-align: top;\n",
       "    }\n",
       "\n",
       "    .dataframe thead th {\n",
       "        text-align: right;\n",
       "    }\n",
       "</style>\n",
       "<table border=\"1\" class=\"dataframe\">\n",
       "  <thead>\n",
       "    <tr style=\"text-align: right;\">\n",
       "      <th></th>\n",
       "      <th>년도</th>\n",
       "      <th>충전기 보급수량</th>\n",
       "    </tr>\n",
       "  </thead>\n",
       "  <tbody>\n",
       "    <tr>\n",
       "      <th>0</th>\n",
       "      <td>2019년</td>\n",
       "      <td>67.577186</td>\n",
       "    </tr>\n",
       "    <tr>\n",
       "      <th>1</th>\n",
       "      <td>2020년</td>\n",
       "      <td>36.339874</td>\n",
       "    </tr>\n",
       "    <tr>\n",
       "      <th>2</th>\n",
       "      <td>2021년</td>\n",
       "      <td>42.848584</td>\n",
       "    </tr>\n",
       "  </tbody>\n",
       "</table>\n",
       "</div>"
      ],
      "text/plain": [
       "      년도   충전기 보급수량\n",
       "0  2019년  67.577186\n",
       "1  2020년  36.339874\n",
       "2  2021년  42.848584"
      ]
     },
     "execution_count": 35,
     "metadata": {},
     "output_type": "execute_result"
    }
   ],
   "source": [
    "EVcharge = EVcharge.reset_index([\"년도\"])\n",
    "EVcharge"
   ]
  },
  {
   "cell_type": "code",
   "execution_count": 38,
   "id": "2d9be401",
   "metadata": {},
   "outputs": [
    {
     "data": {
      "image/png": "[encoded data removed]",
      "text/plain": [
       "<Figure size 576x432 with 2 Axes>"
      ]
     },
     "metadata": {
      "needs_background": "light"
     },
     "output_type": "display_data"
    }
   ],
   "source": [
    "fig = plt.figure(figsize=(8,6))\n",
    "axes = fig.add_subplot(111)\n",
    "axes2 = axes.twinx()\n",
    "\n",
    "axes.bar(EVcharge[\"년도\"],EVcar[\"합계\"],color=\"green\", label=\"bar\")\n",
    "axes2.plot(EVcharge[\"년도\"],EVcharge[\"충전기 보급수량\"], color=\"r\", label=\"plot\")\n",
    "plt.ylim([0, 75])\n",
    "\n",
    "plt.show()"
   ]
  },
  {
   "cell_type": "code",
   "execution_count": null,
   "id": "624d970e",
   "metadata": {},
   "outputs": [],
   "source": []
  }
 ],
 "metadata": {
  "kernelspec": {
   "display_name": "Python 3 (ipykernel)",
   "language": "python",
   "name": "python3"
  },
  "language_info": {
   "codemirror_mode": {
    "name": "ipython",
    "version": 3
   },
   "file_extension": ".py",
   "mimetype": "text/x-python",
   "name": "python",
   "nbconvert_exporter": "python",
   "pygments_lexer": "ipython3",
   "version": "3.9.12"
  }
 },
 "nbformat": 4,
 "nbformat_minor": 5
}
