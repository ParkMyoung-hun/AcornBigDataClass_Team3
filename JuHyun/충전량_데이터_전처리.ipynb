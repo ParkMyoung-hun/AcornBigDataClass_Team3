{
 "cells": [
  {
   "cell_type": "code",
   "execution_count": null,
   "id": "a59ce0b0",
   "metadata": {
    "id": "a59ce0b0",
    "outputId": "1385cc90-ea2f-4882-a60f-e6fb2e857c62"
   },
   "outputs": [
    {
     "data": {
      "text/html": [
       "<style>.container { width:90% !important; }</style>"
      ],
      "text/plain": [
       "<IPython.core.display.HTML object>"
      ]
     },
     "metadata": {},
     "output_type": "display_data"
    }
   ],
   "source": [
    "from IPython.display import display, HTML\n",
    "display(HTML(\"<style>.container { width:90% !important; }</style>\"))"
   ]
  },
  {
   "cell_type": "code",
   "execution_count": null,
   "id": "c3c658e7",
   "metadata": {
    "id": "c3c658e7"
   },
   "outputs": [],
   "source": [
    "import numpy as np\n",
    "import pandas as pd\n",
    "import matplotlib.pyplot as plt\n",
    "import seaborn as sns\n",
    "\n",
    "\n",
    "import matplotlib.font_manager as fm\n",
    "font_name = fm.FontProperties(fname=\"C:\\\\Windows\\\\Fonts\\\\malgun.ttf\").get_name()  #FontProperties폰트지정함수 위치,이름(맑은고딕)\n",
    "plt.rc(\"font\", family=font_name)  \n",
    "\n",
    "import matplotlib as mlp\n",
    "mlp.rcParams[\"axes.unicode_minus\"] = False"
   ]
  },
  {
   "cell_type": "code",
   "execution_count": null,
   "id": "d0bd2c86",
   "metadata": {
    "id": "d0bd2c86"
   },
   "outputs": [],
   "source": [
    "import folium\n",
    "from folium.plugins import MarkerCluster\n",
    "from tqdm.notebook import tqdm"
   ]
  },
  {
   "cell_type": "code",
   "execution_count": null,
   "id": "3831b629",
   "metadata": {
    "id": "3831b629"
   },
   "outputs": [],
   "source": [
    "charging = pd.read_csv(\"data/한국전력공사_전기차 충전소 충전량_20220330.csv\", low_memory=False)"
   ]
  },
  {
   "cell_type": "code",
   "execution_count": null,
   "id": "d350924b",
   "metadata": {
    "id": "d350924b",
    "outputId": "2283c389-5f26-41d0-eebd-edcb324125b8",
    "scrolled": true
   },
   "outputs": [
    {
     "data": {
      "text/html": [
       "<div>\n",
       "<style scoped>\n",
       "    .dataframe tbody tr th:only-of-type {\n",
       "        vertical-align: middle;\n",
       "    }\n",
       "\n",
       "    .dataframe tbody tr th {\n",
       "        vertical-align: top;\n",
       "    }\n",
       "\n",
       "    .dataframe thead th {\n",
       "        text-align: right;\n",
       "    }\n",
       "</style>\n",
       "<table border=\"1\" class=\"dataframe\">\n",
       "  <thead>\n",
       "    <tr style=\"text-align: right;\">\n",
       "      <th></th>\n",
       "      <th>본부</th>\n",
       "      <th>사업소</th>\n",
       "      <th>충전소명</th>\n",
       "      <th>충전기</th>\n",
       "      <th>충전기ID</th>\n",
       "      <th>주소</th>\n",
       "      <th>충전기구분</th>\n",
       "      <th>충전용량</th>\n",
       "      <th>충전량</th>\n",
       "      <th>충전시간</th>\n",
       "      <th>충전분</th>\n",
       "      <th>충전종료일자</th>\n",
       "      <th>충전시작시각</th>\n",
       "      <th>충전종료시각</th>\n",
       "    </tr>\n",
       "  </thead>\n",
       "  <tbody>\n",
       "    <tr>\n",
       "      <th>0</th>\n",
       "      <td>울산시</td>\n",
       "      <td>울산시</td>\n",
       "      <td>국민체육센터</td>\n",
       "      <td>NaN</td>\n",
       "      <td>USCE20040701</td>\n",
       "      <td>울산광역시 남구 야음동 184-1</td>\n",
       "      <td>급속</td>\n",
       "      <td>50.0</td>\n",
       "      <td>17.72</td>\n",
       "      <td>0</td>\n",
       "      <td>40</td>\n",
       "      <td>2022-01-01</td>\n",
       "      <td>2022-01-01 09:51:51</td>\n",
       "      <td>2022-01-01 10:31:51</td>\n",
       "    </tr>\n",
       "    <tr>\n",
       "      <th>1</th>\n",
       "      <td>울산시</td>\n",
       "      <td>울산시</td>\n",
       "      <td>국민체육센터</td>\n",
       "      <td>NaN</td>\n",
       "      <td>USCE20040701</td>\n",
       "      <td>울산광역시 남구 야음동 184-1</td>\n",
       "      <td>급속</td>\n",
       "      <td>50.0</td>\n",
       "      <td>11.96</td>\n",
       "      <td>0</td>\n",
       "      <td>40</td>\n",
       "      <td>2022-01-01</td>\n",
       "      <td>2022-01-01 10:33:43</td>\n",
       "      <td>2022-01-01 11:13:43</td>\n",
       "    </tr>\n",
       "    <tr>\n",
       "      <th>2</th>\n",
       "      <td>경기북부</td>\n",
       "      <td>동두천</td>\n",
       "      <td>동두천지사</td>\n",
       "      <td>급속01</td>\n",
       "      <td>876</td>\n",
       "      <td>경기도 동두천시 평화로 2262</td>\n",
       "      <td>급속</td>\n",
       "      <td>50.0</td>\n",
       "      <td>8.83</td>\n",
       "      <td>0</td>\n",
       "      <td>21</td>\n",
       "      <td>2022-01-01</td>\n",
       "      <td>2022-01-01 18:38:26</td>\n",
       "      <td>2022-01-01 18:59:43</td>\n",
       "    </tr>\n",
       "    <tr>\n",
       "      <th>3</th>\n",
       "      <td>경기북부</td>\n",
       "      <td>동두천</td>\n",
       "      <td>동두천지사</td>\n",
       "      <td>급속01</td>\n",
       "      <td>876</td>\n",
       "      <td>경기도 동두천시 평화로 2262</td>\n",
       "      <td>급속</td>\n",
       "      <td>50.0</td>\n",
       "      <td>50.00</td>\n",
       "      <td>1</td>\n",
       "      <td>55</td>\n",
       "      <td>2022-01-01</td>\n",
       "      <td>2022-01-01 19:10:29</td>\n",
       "      <td>2022-01-01 21:05:43</td>\n",
       "    </tr>\n",
       "    <tr>\n",
       "      <th>4</th>\n",
       "      <td>경기북부</td>\n",
       "      <td>동두천</td>\n",
       "      <td>동두천지사</td>\n",
       "      <td>급속01</td>\n",
       "      <td>876</td>\n",
       "      <td>경기도 동두천시 평화로 2262</td>\n",
       "      <td>급속</td>\n",
       "      <td>50.0</td>\n",
       "      <td>0.92</td>\n",
       "      <td>0</td>\n",
       "      <td>1</td>\n",
       "      <td>2022-01-01</td>\n",
       "      <td>2022-01-01 12:33:09</td>\n",
       "      <td>2022-01-01 12:34:36</td>\n",
       "    </tr>\n",
       "  </tbody>\n",
       "</table>\n",
       "</div>"
      ],
      "text/plain": [
       "     본부  사업소    충전소명   충전기         충전기ID                  주소 충전기구분  충전용량  \\\n",
       "0   울산시  울산시  국민체육센터   NaN  USCE20040701  울산광역시 남구 야음동 184-1    급속  50.0   \n",
       "1   울산시  울산시  국민체육센터   NaN  USCE20040701  울산광역시 남구 야음동 184-1    급속  50.0   \n",
       "2  경기북부  동두천   동두천지사  급속01           876   경기도 동두천시 평화로 2262    급속  50.0   \n",
       "3  경기북부  동두천   동두천지사  급속01           876   경기도 동두천시 평화로 2262    급속  50.0   \n",
       "4  경기북부  동두천   동두천지사  급속01           876   경기도 동두천시 평화로 2262    급속  50.0   \n",
       "\n",
       "     충전량  충전시간  충전분      충전종료일자               충전시작시각               충전종료시각  \n",
       "0  17.72     0   40  2022-01-01  2022-01-01 09:51:51  2022-01-01 10:31:51  \n",
       "1  11.96     0   40  2022-01-01  2022-01-01 10:33:43  2022-01-01 11:13:43  \n",
       "2   8.83     0   21  2022-01-01  2022-01-01 18:38:26  2022-01-01 18:59:43  \n",
       "3  50.00     1   55  2022-01-01  2022-01-01 19:10:29  2022-01-01 21:05:43  \n",
       "4   0.92     0    1  2022-01-01  2022-01-01 12:33:09  2022-01-01 12:34:36  "
      ]
     },
     "execution_count": 110,
     "metadata": {},
     "output_type": "execute_result"
    }
   ],
   "source": [
    "charging.head(5)"
   ]
  },
  {
   "cell_type": "code",
   "execution_count": null,
   "id": "38f5f28a",
   "metadata": {
    "collapsed": true,
    "id": "38f5f28a",
    "outputId": "60fd8baa-6afd-4b46-f288-9b9b5d5e2e0b"
   },
   "outputs": [
    {
     "name": "stdout",
     "output_type": "stream",
     "text": [
      "<class 'pandas.core.frame.DataFrame'>\n",
      "RangeIndex: 1048575 entries, 0 to 1048574\n",
      "Data columns (total 15 columns):\n",
      " #   Column    Non-Null Count    Dtype         \n",
      "---  ------    --------------    -----         \n",
      " 0   본부        1048575 non-null  object        \n",
      " 1   사업소       1048575 non-null  object        \n",
      " 2   충전소명      1048575 non-null  object        \n",
      " 3   충전기       1048437 non-null  object        \n",
      " 4   충전기ID     1048575 non-null  object        \n",
      " 5   주소        1048235 non-null  object        \n",
      " 6   충전기구분     1048575 non-null  object        \n",
      " 7   충전용량      992853 non-null   float64       \n",
      " 8   충전량       1048575 non-null  float64       \n",
      " 9   충전시간      1048575 non-null  int64         \n",
      " 10  충전분       1048575 non-null  int64         \n",
      " 11  충전종료일자    1048575 non-null  datetime64[ns]\n",
      " 12  충전시작시각    1048575 non-null  object        \n",
      " 13  충전종료시각    1048575 non-null  object        \n",
      " 14  weekdays  1048575 non-null  int64         \n",
      "dtypes: datetime64[ns](1), float64(2), int64(3), object(9)\n",
      "memory usage: 120.0+ MB\n"
     ]
    }
   ],
   "source": [
    "charging.info()"
   ]
  },
  {
   "cell_type": "markdown",
   "id": "c51a730f",
   "metadata": {
    "id": "c51a730f"
   },
   "source": [
    "# 전처리"
   ]
  },
  {
   "cell_type": "code",
   "execution_count": null,
   "id": "f3ea7717",
   "metadata": {
    "collapsed": true,
    "id": "f3ea7717",
    "outputId": "352df0b0-170f-403a-8305-659649ffdd54"
   },
   "outputs": [
    {
     "ename": "KeyError",
     "evalue": "'본부'",
     "output_type": "error",
     "traceback": [
      "\u001b[1;31m---------------------------------------------------------------------------\u001b[0m",
      "\u001b[1;31mKeyError\u001b[0m                                  Traceback (most recent call last)",
      "File \u001b[1;32m~\\anaconda3\\lib\\site-packages\\pandas\\core\\indexes\\base.py:3621\u001b[0m, in \u001b[0;36mIndex.get_loc\u001b[1;34m(self, key, method, tolerance)\u001b[0m\n\u001b[0;32m   3620\u001b[0m \u001b[38;5;28;01mtry\u001b[39;00m:\n\u001b[1;32m-> 3621\u001b[0m     \u001b[38;5;28;01mreturn\u001b[39;00m \u001b[38;5;28;43mself\u001b[39;49m\u001b[38;5;241;43m.\u001b[39;49m\u001b[43m_engine\u001b[49m\u001b[38;5;241;43m.\u001b[39;49m\u001b[43mget_loc\u001b[49m\u001b[43m(\u001b[49m\u001b[43mcasted_key\u001b[49m\u001b[43m)\u001b[49m\n\u001b[0;32m   3622\u001b[0m \u001b[38;5;28;01mexcept\u001b[39;00m \u001b[38;5;167;01mKeyError\u001b[39;00m \u001b[38;5;28;01mas\u001b[39;00m err:\n",
      "File \u001b[1;32m~\\anaconda3\\lib\\site-packages\\pandas\\_libs\\index.pyx:136\u001b[0m, in \u001b[0;36mpandas._libs.index.IndexEngine.get_loc\u001b[1;34m()\u001b[0m\n",
      "File \u001b[1;32m~\\anaconda3\\lib\\site-packages\\pandas\\_libs\\index.pyx:163\u001b[0m, in \u001b[0;36mpandas._libs.index.IndexEngine.get_loc\u001b[1;34m()\u001b[0m\n",
      "File \u001b[1;32mpandas\\_libs\\hashtable_class_helper.pxi:5198\u001b[0m, in \u001b[0;36mpandas._libs.hashtable.PyObjectHashTable.get_item\u001b[1;34m()\u001b[0m\n",
      "File \u001b[1;32mpandas\\_libs\\hashtable_class_helper.pxi:5206\u001b[0m, in \u001b[0;36mpandas._libs.hashtable.PyObjectHashTable.get_item\u001b[1;34m()\u001b[0m\n",
      "\u001b[1;31mKeyError\u001b[0m: '본부'",
      "\nThe above exception was the direct cause of the following exception:\n",
      "\u001b[1;31mKeyError\u001b[0m                                  Traceback (most recent call last)",
      "Input \u001b[1;32mIn [270]\u001b[0m, in \u001b[0;36m<cell line: 5>\u001b[1;34m()\u001b[0m\n\u001b[0;32m      3\u001b[0m \u001b[38;5;28;01mdel\u001b[39;00m charging[\u001b[38;5;124m'\u001b[39m\u001b[38;5;124m사업소\u001b[39m\u001b[38;5;124m'\u001b[39m]\n\u001b[0;32m      4\u001b[0m \u001b[38;5;28;01mdel\u001b[39;00m charging[\u001b[38;5;124m'\u001b[39m\u001b[38;5;124m충전기\u001b[39m\u001b[38;5;124m'\u001b[39m]\n\u001b[1;32m----> 5\u001b[0m \u001b[38;5;28;01mdel\u001b[39;00m charging[\u001b[38;5;124m'\u001b[39m\u001b[38;5;124m본부\u001b[39m\u001b[38;5;124m'\u001b[39m]\n\u001b[0;32m      6\u001b[0m \u001b[38;5;28;01mdel\u001b[39;00m charging[\u001b[38;5;124m'\u001b[39m\u001b[38;5;124m충전종료일자\u001b[39m\u001b[38;5;124m'\u001b[39m]\n",
      "File \u001b[1;32m~\\anaconda3\\lib\\site-packages\\pandas\\core\\generic.py:4048\u001b[0m, in \u001b[0;36mNDFrame.__delitem__\u001b[1;34m(self, key)\u001b[0m\n\u001b[0;32m   4043\u001b[0m             deleted \u001b[38;5;241m=\u001b[39m \u001b[38;5;28;01mTrue\u001b[39;00m\n\u001b[0;32m   4044\u001b[0m \u001b[38;5;28;01mif\u001b[39;00m \u001b[38;5;129;01mnot\u001b[39;00m deleted:\n\u001b[0;32m   4045\u001b[0m     \u001b[38;5;66;03m# If the above loop ran and didn't delete anything because\u001b[39;00m\n\u001b[0;32m   4046\u001b[0m     \u001b[38;5;66;03m# there was no match, this call should raise the appropriate\u001b[39;00m\n\u001b[0;32m   4047\u001b[0m     \u001b[38;5;66;03m# exception:\u001b[39;00m\n\u001b[1;32m-> 4048\u001b[0m     loc \u001b[38;5;241m=\u001b[39m \u001b[38;5;28;43mself\u001b[39;49m\u001b[38;5;241;43m.\u001b[39;49m\u001b[43maxes\u001b[49m\u001b[43m[\u001b[49m\u001b[38;5;241;43m-\u001b[39;49m\u001b[38;5;241;43m1\u001b[39;49m\u001b[43m]\u001b[49m\u001b[38;5;241;43m.\u001b[39;49m\u001b[43mget_loc\u001b[49m\u001b[43m(\u001b[49m\u001b[43mkey\u001b[49m\u001b[43m)\u001b[49m\n\u001b[0;32m   4049\u001b[0m     \u001b[38;5;28mself\u001b[39m\u001b[38;5;241m.\u001b[39m_mgr \u001b[38;5;241m=\u001b[39m \u001b[38;5;28mself\u001b[39m\u001b[38;5;241m.\u001b[39m_mgr\u001b[38;5;241m.\u001b[39midelete(loc)\n\u001b[0;32m   4051\u001b[0m \u001b[38;5;66;03m# delete from the caches\u001b[39;00m\n",
      "File \u001b[1;32m~\\anaconda3\\lib\\site-packages\\pandas\\core\\indexes\\base.py:3623\u001b[0m, in \u001b[0;36mIndex.get_loc\u001b[1;34m(self, key, method, tolerance)\u001b[0m\n\u001b[0;32m   3621\u001b[0m     \u001b[38;5;28;01mreturn\u001b[39;00m \u001b[38;5;28mself\u001b[39m\u001b[38;5;241m.\u001b[39m_engine\u001b[38;5;241m.\u001b[39mget_loc(casted_key)\n\u001b[0;32m   3622\u001b[0m \u001b[38;5;28;01mexcept\u001b[39;00m \u001b[38;5;167;01mKeyError\u001b[39;00m \u001b[38;5;28;01mas\u001b[39;00m err:\n\u001b[1;32m-> 3623\u001b[0m     \u001b[38;5;28;01mraise\u001b[39;00m \u001b[38;5;167;01mKeyError\u001b[39;00m(key) \u001b[38;5;28;01mfrom\u001b[39;00m \u001b[38;5;21;01merr\u001b[39;00m\n\u001b[0;32m   3624\u001b[0m \u001b[38;5;28;01mexcept\u001b[39;00m \u001b[38;5;167;01mTypeError\u001b[39;00m:\n\u001b[0;32m   3625\u001b[0m     \u001b[38;5;66;03m# If we have a listlike key, _check_indexing_error will raise\u001b[39;00m\n\u001b[0;32m   3626\u001b[0m     \u001b[38;5;66;03m#  InvalidIndexError. Otherwise we fall through and re-raise\u001b[39;00m\n\u001b[0;32m   3627\u001b[0m     \u001b[38;5;66;03m#  the TypeError.\u001b[39;00m\n\u001b[0;32m   3628\u001b[0m     \u001b[38;5;28mself\u001b[39m\u001b[38;5;241m.\u001b[39m_check_indexing_error(key)\n",
      "\u001b[1;31mKeyError\u001b[0m: '본부'"
     ]
    }
   ],
   "source": [
    "#컬럼 삭제\n",
    "del charging['본부']\n",
    "del charging['사업소']\n",
    "del charging['충전기']\n",
    "del charging['본부']\n",
    "del charging['충전종료일자']"
   ]
  },
  {
   "cell_type": "code",
   "execution_count": null,
   "id": "355e0726",
   "metadata": {
    "id": "355e0726",
    "outputId": "4ae1c92d-5906-445f-9a8d-4c7e9c75cf42",
    "scrolled": false
   },
   "outputs": [
    {
     "name": "stdout",
     "output_type": "stream",
     "text": [
      "<class 'pandas.core.frame.DataFrame'>\n",
      "RangeIndex: 1048575 entries, 0 to 1048574\n",
      "Data columns (total 11 columns):\n",
      " #   Column  Non-Null Count    Dtype  \n",
      "---  ------  --------------    -----  \n",
      " 0   충전소명    1048575 non-null  object \n",
      " 1   충전기ID   1048575 non-null  object \n",
      " 2   주소      1048235 non-null  object \n",
      " 3   충전기구분   1048575 non-null  object \n",
      " 4   충전용량    992853 non-null   float64\n",
      " 5   충전량     1048575 non-null  float64\n",
      " 6   충전시간    1048575 non-null  int64  \n",
      " 7   충전분     1048575 non-null  int64  \n",
      " 8   충전종료일자  1048575 non-null  object \n",
      " 9   충전시작시각  1048575 non-null  object \n",
      " 10  충전종료시각  1048575 non-null  object \n",
      "dtypes: float64(2), int64(2), object(7)\n",
      "memory usage: 88.0+ MB\n"
     ]
    }
   ],
   "source": [
    "charging.info()"
   ]
  },
  {
   "cell_type": "markdown",
   "id": "a95c4e1b",
   "metadata": {
    "id": "a95c4e1b"
   },
   "source": [
    "## '주소' 전처리\n",
    "- 결측치 삭제\n",
    "- 문자에 'null' 포함된 값 삭제"
   ]
  },
  {
   "cell_type": "code",
   "execution_count": null,
   "id": "1e817b1f",
   "metadata": {
    "id": "1e817b1f"
   },
   "outputs": [],
   "source": [
    "charging = charging[charging['주소'].notnull()]"
   ]
  },
  {
   "cell_type": "code",
   "execution_count": null,
   "id": "5b1dd857",
   "metadata": {
    "id": "5b1dd857"
   },
   "outputs": [],
   "source": [
    "charging['주소누락치1']=charging['주소'].str.extract(r'(null)')"
   ]
  },
  {
   "cell_type": "code",
   "execution_count": null,
   "id": "83fb6187",
   "metadata": {
    "id": "83fb6187"
   },
   "outputs": [],
   "source": [
    "#charging['주소누락치']=charging['주소'].str.extract(r'(.+[null].+)')"
   ]
  },
  {
   "cell_type": "code",
   "execution_count": null,
   "id": "b7721cf4",
   "metadata": {
    "id": "b7721cf4",
    "outputId": "4bc3a0dd-0540-4ebb-f882-86545418a911"
   },
   "outputs": [
    {
     "data": {
      "text/html": [
       "<div>\n",
       "<style scoped>\n",
       "    .dataframe tbody tr th:only-of-type {\n",
       "        vertical-align: middle;\n",
       "    }\n",
       "\n",
       "    .dataframe tbody tr th {\n",
       "        vertical-align: top;\n",
       "    }\n",
       "\n",
       "    .dataframe thead th {\n",
       "        text-align: right;\n",
       "    }\n",
       "</style>\n",
       "<table border=\"1\" class=\"dataframe\">\n",
       "  <thead>\n",
       "    <tr style=\"text-align: right;\">\n",
       "      <th></th>\n",
       "      <th>충전소명</th>\n",
       "      <th>충전기ID</th>\n",
       "      <th>주소</th>\n",
       "      <th>충전기구분</th>\n",
       "      <th>충전용량</th>\n",
       "      <th>충전량</th>\n",
       "      <th>충전시간</th>\n",
       "      <th>충전분</th>\n",
       "      <th>충전종료일자</th>\n",
       "      <th>충전시작시각</th>\n",
       "      <th>충전종료시각</th>\n",
       "      <th>주소누락치1</th>\n",
       "      <th>주소누락치</th>\n",
       "    </tr>\n",
       "  </thead>\n",
       "  <tbody>\n",
       "    <tr>\n",
       "      <th>0</th>\n",
       "      <td>국민체육센터</td>\n",
       "      <td>USCE20040701</td>\n",
       "      <td>울산광역시 남구 야음동 184-1</td>\n",
       "      <td>급속</td>\n",
       "      <td>50.0</td>\n",
       "      <td>17.72</td>\n",
       "      <td>0</td>\n",
       "      <td>40</td>\n",
       "      <td>2022-01-01</td>\n",
       "      <td>2022-01-01 09:51:51</td>\n",
       "      <td>2022-01-01 10:31:51</td>\n",
       "      <td>NaN</td>\n",
       "      <td>NaN</td>\n",
       "    </tr>\n",
       "    <tr>\n",
       "      <th>1</th>\n",
       "      <td>국민체육센터</td>\n",
       "      <td>USCE20040701</td>\n",
       "      <td>울산광역시 남구 야음동 184-1</td>\n",
       "      <td>급속</td>\n",
       "      <td>50.0</td>\n",
       "      <td>11.96</td>\n",
       "      <td>0</td>\n",
       "      <td>40</td>\n",
       "      <td>2022-01-01</td>\n",
       "      <td>2022-01-01 10:33:43</td>\n",
       "      <td>2022-01-01 11:13:43</td>\n",
       "      <td>NaN</td>\n",
       "      <td>NaN</td>\n",
       "    </tr>\n",
       "    <tr>\n",
       "      <th>2</th>\n",
       "      <td>동두천지사</td>\n",
       "      <td>876</td>\n",
       "      <td>경기도 동두천시 평화로 2262</td>\n",
       "      <td>급속</td>\n",
       "      <td>50.0</td>\n",
       "      <td>8.83</td>\n",
       "      <td>0</td>\n",
       "      <td>21</td>\n",
       "      <td>2022-01-01</td>\n",
       "      <td>2022-01-01 18:38:26</td>\n",
       "      <td>2022-01-01 18:59:43</td>\n",
       "      <td>NaN</td>\n",
       "      <td>NaN</td>\n",
       "    </tr>\n",
       "    <tr>\n",
       "      <th>3</th>\n",
       "      <td>동두천지사</td>\n",
       "      <td>876</td>\n",
       "      <td>경기도 동두천시 평화로 2262</td>\n",
       "      <td>급속</td>\n",
       "      <td>50.0</td>\n",
       "      <td>50.00</td>\n",
       "      <td>1</td>\n",
       "      <td>55</td>\n",
       "      <td>2022-01-01</td>\n",
       "      <td>2022-01-01 19:10:29</td>\n",
       "      <td>2022-01-01 21:05:43</td>\n",
       "      <td>NaN</td>\n",
       "      <td>NaN</td>\n",
       "    </tr>\n",
       "    <tr>\n",
       "      <th>4</th>\n",
       "      <td>동두천지사</td>\n",
       "      <td>876</td>\n",
       "      <td>경기도 동두천시 평화로 2262</td>\n",
       "      <td>급속</td>\n",
       "      <td>50.0</td>\n",
       "      <td>0.92</td>\n",
       "      <td>0</td>\n",
       "      <td>1</td>\n",
       "      <td>2022-01-01</td>\n",
       "      <td>2022-01-01 12:33:09</td>\n",
       "      <td>2022-01-01 12:34:36</td>\n",
       "      <td>NaN</td>\n",
       "      <td>NaN</td>\n",
       "    </tr>\n",
       "  </tbody>\n",
       "</table>\n",
       "</div>"
      ],
      "text/plain": [
       "     충전소명         충전기ID                  주소 충전기구분  충전용량    충전량  충전시간  충전분  \\\n",
       "0  국민체육센터  USCE20040701  울산광역시 남구 야음동 184-1    급속  50.0  17.72     0   40   \n",
       "1  국민체육센터  USCE20040701  울산광역시 남구 야음동 184-1    급속  50.0  11.96     0   40   \n",
       "2   동두천지사           876   경기도 동두천시 평화로 2262    급속  50.0   8.83     0   21   \n",
       "3   동두천지사           876   경기도 동두천시 평화로 2262    급속  50.0  50.00     1   55   \n",
       "4   동두천지사           876   경기도 동두천시 평화로 2262    급속  50.0   0.92     0    1   \n",
       "\n",
       "       충전종료일자               충전시작시각               충전종료시각 주소누락치1 주소누락치  \n",
       "0  2022-01-01  2022-01-01 09:51:51  2022-01-01 10:31:51    NaN   NaN  \n",
       "1  2022-01-01  2022-01-01 10:33:43  2022-01-01 11:13:43    NaN   NaN  \n",
       "2  2022-01-01  2022-01-01 18:38:26  2022-01-01 18:59:43    NaN   NaN  \n",
       "3  2022-01-01  2022-01-01 19:10:29  2022-01-01 21:05:43    NaN   NaN  \n",
       "4  2022-01-01  2022-01-01 12:33:09  2022-01-01 12:34:36    NaN   NaN  "
      ]
     },
     "execution_count": 240,
     "metadata": {},
     "output_type": "execute_result"
    }
   ],
   "source": [
    "charging.head()"
   ]
  },
  {
   "cell_type": "code",
   "execution_count": null,
   "id": "a3ce0657",
   "metadata": {
    "id": "a3ce0657",
    "outputId": "c743bf3c-7733-4484-bddf-89bf3fec3f63"
   },
   "outputs": [
    {
     "data": {
      "text/plain": [
       "2031"
      ]
     },
     "execution_count": 243,
     "metadata": {},
     "output_type": "execute_result"
    }
   ],
   "source": [
    "charging[\"주소누락치1\"].notnull().sum()"
   ]
  },
  {
   "cell_type": "code",
   "execution_count": null,
   "id": "3dfc8eab",
   "metadata": {
    "id": "3dfc8eab",
    "outputId": "090c71fa-14b2-4cb9-ba44-318eadeec351"
   },
   "outputs": [
    {
     "data": {
      "text/plain": [
       "2524"
      ]
     },
     "execution_count": 244,
     "metadata": {},
     "output_type": "execute_result"
    }
   ],
   "source": [
    "charging[\"주소누락치\"].notnull().sum()"
   ]
  },
  {
   "cell_type": "code",
   "execution_count": null,
   "id": "ae84a7ba",
   "metadata": {
    "id": "ae84a7ba"
   },
   "outputs": [],
   "source": [
    "charging.to_csv(\"data/chargingtest.csv\")"
   ]
  },
  {
   "cell_type": "code",
   "execution_count": null,
   "id": "073fa6ad",
   "metadata": {
    "id": "073fa6ad"
   },
   "outputs": [],
   "source": [
    "charging = charging[charging[\"주소누락치1\"].isnull()]"
   ]
  },
  {
   "cell_type": "code",
   "execution_count": null,
   "id": "cbfcfa6d",
   "metadata": {
    "id": "cbfcfa6d"
   },
   "outputs": [],
   "source": [
    "del charging['주소누락치']"
   ]
  },
  {
   "cell_type": "code",
   "execution_count": null,
   "id": "1a094b75",
   "metadata": {
    "id": "1a094b75",
    "outputId": "347be484-fe7f-4ae0-dde7-ef72bdf8e3df",
    "scrolled": true
   },
   "outputs": [
    {
     "name": "stdout",
     "output_type": "stream",
     "text": [
      "<class 'pandas.core.frame.DataFrame'>\n",
      "Int64Index: 919038 entries, 0 to 1048574\n",
      "Data columns (total 12 columns):\n",
      " #   Column  Non-Null Count   Dtype  \n",
      "---  ------  --------------   -----  \n",
      " 0   충전소명    919038 non-null  object \n",
      " 1   충전기ID   919038 non-null  object \n",
      " 2   주소      919038 non-null  object \n",
      " 3   충전기구분   919038 non-null  object \n",
      " 4   충전용량    919038 non-null  float64\n",
      " 5   충전량     919038 non-null  float64\n",
      " 6   충전시간    919038 non-null  int64  \n",
      " 7   충전분     919038 non-null  int64  \n",
      " 8   충전종료일자  919038 non-null  object \n",
      " 9   충전시작시각  919038 non-null  object \n",
      " 10  충전종료시각  919038 non-null  object \n",
      " 11  주소누락치1  0 non-null       object \n",
      "dtypes: float64(2), int64(2), object(8)\n",
      "memory usage: 91.2+ MB\n"
     ]
    }
   ],
   "source": [
    "charging.info()"
   ]
  },
  {
   "cell_type": "code",
   "execution_count": null,
   "id": "2827c20e",
   "metadata": {
    "id": "2827c20e"
   },
   "outputs": [],
   "source": []
  },
  {
   "cell_type": "markdown",
   "id": "13b0f3b2",
   "metadata": {
    "id": "13b0f3b2"
   },
   "source": [
    "## '충전용량' 전처리\n",
    "- 7, 50kW 만 남기고 나머지 삭제"
   ]
  },
  {
   "cell_type": "code",
   "execution_count": null,
   "id": "2f62b3e2",
   "metadata": {
    "id": "2f62b3e2"
   },
   "outputs": [],
   "source": [
    "charging = charging[(charging['충전용량']==50.0) | (charging['충전용량']==7.0)]"
   ]
  },
  {
   "cell_type": "code",
   "execution_count": null,
   "id": "50a9520a",
   "metadata": {
    "id": "50a9520a",
    "outputId": "b0293669-3209-4f60-8a86-ce44c92730c4"
   },
   "outputs": [
    {
     "data": {
      "text/plain": [
       "922095"
      ]
     },
     "execution_count": 258,
     "metadata": {},
     "output_type": "execute_result"
    }
   ],
   "source": [
    "len(charging)"
   ]
  },
  {
   "cell_type": "markdown",
   "id": "3a0536c5",
   "metadata": {
    "id": "3a0536c5"
   },
   "source": [
    "## '충전시간'&'충전분' 전처리\n",
    "\n",
    "- 충전시간 변수에 시간+분 포함\n",
    "- 충전분 변수 삭제\n",
    "- 5분≤ 충전시간 ≤24이하 이외의 값 삭제"
   ]
  },
  {
   "cell_type": "code",
   "execution_count": null,
   "id": "c0b66bf8",
   "metadata": {
    "id": "c0b66bf8"
   },
   "outputs": [],
   "source": [
    "charging['충전시간'] = charging['충전시간'] + round(charging['충전분'] / 60 , 2)"
   ]
  },
  {
   "cell_type": "code",
   "execution_count": null,
   "id": "3dee6540",
   "metadata": {
    "id": "3dee6540"
   },
   "outputs": [],
   "source": [
    "del charging['충전분']"
   ]
  },
  {
   "cell_type": "code",
   "execution_count": null,
   "id": "b24aaebb",
   "metadata": {
    "id": "b24aaebb"
   },
   "outputs": [],
   "source": [
    "charging = charging[(charging['충전시간'] >= 0.08) & (charging['충전시간']<= 24)]"
   ]
  },
  {
   "cell_type": "code",
   "execution_count": null,
   "id": "d754e975",
   "metadata": {
    "id": "d754e975",
    "outputId": "e9815635-4be8-4a41-f704-12883ca65642"
   },
   "outputs": [
    {
     "data": {
      "text/plain": [
       "887170"
      ]
     },
     "execution_count": 268,
     "metadata": {},
     "output_type": "execute_result"
    }
   ],
   "source": [
    "len(charging)"
   ]
  },
  {
   "cell_type": "code",
   "execution_count": null,
   "id": "cf896e65",
   "metadata": {
    "collapsed": true,
    "id": "cf896e65",
    "outputId": "2f582bd1-6544-404b-dd6f-f922d875224b"
   },
   "outputs": [
    {
     "data": {
      "text/html": [
       "<div>\n",
       "<style scoped>\n",
       "    .dataframe tbody tr th:only-of-type {\n",
       "        vertical-align: middle;\n",
       "    }\n",
       "\n",
       "    .dataframe tbody tr th {\n",
       "        vertical-align: top;\n",
       "    }\n",
       "\n",
       "    .dataframe thead th {\n",
       "        text-align: right;\n",
       "    }\n",
       "</style>\n",
       "<table border=\"1\" class=\"dataframe\">\n",
       "  <thead>\n",
       "    <tr style=\"text-align: right;\">\n",
       "      <th></th>\n",
       "      <th>충전소명</th>\n",
       "      <th>충전기ID</th>\n",
       "      <th>주소</th>\n",
       "      <th>충전기구분</th>\n",
       "      <th>충전용량</th>\n",
       "      <th>충전량</th>\n",
       "      <th>충전시간</th>\n",
       "      <th>충전종료일자</th>\n",
       "      <th>충전시작시각</th>\n",
       "      <th>충전종료시각</th>\n",
       "    </tr>\n",
       "  </thead>\n",
       "  <tbody>\n",
       "    <tr>\n",
       "      <th>0</th>\n",
       "      <td>국민체육센터</td>\n",
       "      <td>USCE20040701</td>\n",
       "      <td>울산광역시 남구 야음동 184-1</td>\n",
       "      <td>급속</td>\n",
       "      <td>50.0</td>\n",
       "      <td>17.72</td>\n",
       "      <td>0.67</td>\n",
       "      <td>2022-01-01</td>\n",
       "      <td>2022-01-01 09:51:51</td>\n",
       "      <td>2022-01-01 10:31:51</td>\n",
       "    </tr>\n",
       "    <tr>\n",
       "      <th>1</th>\n",
       "      <td>국민체육센터</td>\n",
       "      <td>USCE20040701</td>\n",
       "      <td>울산광역시 남구 야음동 184-1</td>\n",
       "      <td>급속</td>\n",
       "      <td>50.0</td>\n",
       "      <td>11.96</td>\n",
       "      <td>0.67</td>\n",
       "      <td>2022-01-01</td>\n",
       "      <td>2022-01-01 10:33:43</td>\n",
       "      <td>2022-01-01 11:13:43</td>\n",
       "    </tr>\n",
       "    <tr>\n",
       "      <th>2</th>\n",
       "      <td>동두천지사</td>\n",
       "      <td>876</td>\n",
       "      <td>경기도 동두천시 평화로 2262</td>\n",
       "      <td>급속</td>\n",
       "      <td>50.0</td>\n",
       "      <td>8.83</td>\n",
       "      <td>0.35</td>\n",
       "      <td>2022-01-01</td>\n",
       "      <td>2022-01-01 18:38:26</td>\n",
       "      <td>2022-01-01 18:59:43</td>\n",
       "    </tr>\n",
       "    <tr>\n",
       "      <th>3</th>\n",
       "      <td>동두천지사</td>\n",
       "      <td>876</td>\n",
       "      <td>경기도 동두천시 평화로 2262</td>\n",
       "      <td>급속</td>\n",
       "      <td>50.0</td>\n",
       "      <td>50.00</td>\n",
       "      <td>1.92</td>\n",
       "      <td>2022-01-01</td>\n",
       "      <td>2022-01-01 19:10:29</td>\n",
       "      <td>2022-01-01 21:05:43</td>\n",
       "    </tr>\n",
       "    <tr>\n",
       "      <th>4</th>\n",
       "      <td>동두천지사</td>\n",
       "      <td>876</td>\n",
       "      <td>경기도 동두천시 평화로 2262</td>\n",
       "      <td>급속</td>\n",
       "      <td>50.0</td>\n",
       "      <td>0.92</td>\n",
       "      <td>0.02</td>\n",
       "      <td>2022-01-01</td>\n",
       "      <td>2022-01-01 12:33:09</td>\n",
       "      <td>2022-01-01 12:34:36</td>\n",
       "    </tr>\n",
       "  </tbody>\n",
       "</table>\n",
       "</div>"
      ],
      "text/plain": [
       "     충전소명         충전기ID                  주소 충전기구분  충전용량    충전량  충전시간  \\\n",
       "0  국민체육센터  USCE20040701  울산광역시 남구 야음동 184-1    급속  50.0  17.72  0.67   \n",
       "1  국민체육센터  USCE20040701  울산광역시 남구 야음동 184-1    급속  50.0  11.96  0.67   \n",
       "2   동두천지사           876   경기도 동두천시 평화로 2262    급속  50.0   8.83  0.35   \n",
       "3   동두천지사           876   경기도 동두천시 평화로 2262    급속  50.0  50.00  1.92   \n",
       "4   동두천지사           876   경기도 동두천시 평화로 2262    급속  50.0   0.92  0.02   \n",
       "\n",
       "       충전종료일자               충전시작시각               충전종료시각  \n",
       "0  2022-01-01  2022-01-01 09:51:51  2022-01-01 10:31:51  \n",
       "1  2022-01-01  2022-01-01 10:33:43  2022-01-01 11:13:43  \n",
       "2  2022-01-01  2022-01-01 18:38:26  2022-01-01 18:59:43  \n",
       "3  2022-01-01  2022-01-01 19:10:29  2022-01-01 21:05:43  \n",
       "4  2022-01-01  2022-01-01 12:33:09  2022-01-01 12:34:36  "
      ]
     },
     "execution_count": 176,
     "metadata": {},
     "output_type": "execute_result"
    }
   ],
   "source": [
    "charging.head(5)"
   ]
  },
  {
   "cell_type": "code",
   "execution_count": null,
   "id": "9da5a889",
   "metadata": {
    "id": "9da5a889",
    "outputId": "a58a47cc-cbb9-4e82-b911-bb00caee42dc"
   },
   "outputs": [
    {
     "name": "stdout",
     "output_type": "stream",
     "text": [
      "<class 'pandas.core.frame.DataFrame'>\n",
      "Int64Index: 886689 entries, 0 to 1048573\n",
      "Data columns (total 11 columns):\n",
      " #   Column   Non-Null Count   Dtype  \n",
      "---  ------   --------------   -----  \n",
      " 0   충전소명     886689 non-null  object \n",
      " 1   충전기ID    886689 non-null  object \n",
      " 2   주소       886689 non-null  object \n",
      " 3   충전기구분    886689 non-null  object \n",
      " 4   충전용량     886689 non-null  float64\n",
      " 5   충전량      886689 non-null  float64\n",
      " 6   충전시간     886689 non-null  float64\n",
      " 7   충전종료일자   886689 non-null  object \n",
      " 8   충전시작시각   886689 non-null  object \n",
      " 9   충전종료시각   886689 non-null  object \n",
      " 10  시간당 충전량  886689 non-null  float64\n",
      "dtypes: float64(4), object(7)\n",
      "memory usage: 81.2+ MB\n"
     ]
    }
   ],
   "source": [
    "charging.info()"
   ]
  },
  {
   "cell_type": "markdown",
   "id": "953605ae",
   "metadata": {
    "id": "953605ae"
   },
   "source": [
    "## '충전량' 전처리\n",
    "- 이상치 처리\n",
    "    * 시간당 충전량 ≥ 충전용량(7 or 50) 이외의 값은 삭제\n",
    "    * 충전량 > 80kW 인 값 삭제"
   ]
  },
  {
   "cell_type": "code",
   "execution_count": null,
   "id": "41b14452",
   "metadata": {
    "id": "41b14452"
   },
   "outputs": [],
   "source": [
    "#충전량 ≥ 80kW 인 값 삭제\n",
    "charging = charging[charging['충전량']<=80]"
   ]
  },
  {
   "cell_type": "code",
   "execution_count": null,
   "id": "055212ca",
   "metadata": {
    "id": "055212ca",
    "outputId": "ebb6047a-dfbd-4733-fe51-644f38a692c3",
    "scrolled": true
   },
   "outputs": [
    {
     "data": {
      "text/plain": [
       "921153"
      ]
     },
     "execution_count": 260,
     "metadata": {},
     "output_type": "execute_result"
    }
   ],
   "source": [
    "len(charging)"
   ]
  },
  {
   "cell_type": "code",
   "execution_count": null,
   "id": "c8a9d9dc",
   "metadata": {
    "id": "c8a9d9dc",
    "outputId": "7610be17-a6e9-4bb5-9b61-4a2e2f4fc2f7",
    "scrolled": true
   },
   "outputs": [
    {
     "name": "stderr",
     "output_type": "stream",
     "text": [
      "C:\\Users\\pwngu\\AppData\\Local\\Temp\\ipykernel_26204\\2848962847.py:4: SettingWithCopyWarning: \n",
      "A value is trying to be set on a copy of a slice from a DataFrame.\n",
      "Try using .loc[row_indexer,col_indexer] = value instead\n",
      "\n",
      "See the caveats in the documentation: https://pandas.pydata.org/pandas-docs/stable/user_guide/indexing.html#returning-a-view-versus-a-copy\n",
      "  charging['시간당 충전량'] = charging['충전량']/charging['충전시간']\n"
     ]
    }
   ],
   "source": [
    "#시간당 충전량 ≥ 충전용량(7 or 50) 이외의 값은 삭제\n",
    "#if charging[charging['충전용량']==50.0]:\n",
    "    \n",
    "charging['시간당 충전량'] = charging['충전량']/charging['충전시간']\n",
    "\n"
   ]
  },
  {
   "cell_type": "code",
   "execution_count": null,
   "id": "672e2b8a",
   "metadata": {
    "id": "672e2b8a",
    "scrolled": false
   },
   "outputs": [],
   "source": []
  },
  {
   "cell_type": "markdown",
   "id": "0a819909",
   "metadata": {
    "id": "0a819909"
   },
   "source": [
    "## ------------공통으로 순서맞춰서 전처리--------------------"
   ]
  },
  {
   "cell_type": "code",
   "execution_count": null,
   "id": "55f4aff3",
   "metadata": {
    "id": "55f4aff3"
   },
   "outputs": [],
   "source": [
    "charging = pd.read_csv(\"data/한국전력공사_전기차 충전소 충전량_20220330.csv\", low_memory=False)"
   ]
  },
  {
   "cell_type": "code",
   "execution_count": null,
   "id": "11e3b63a",
   "metadata": {
    "id": "11e3b63a"
   },
   "outputs": [],
   "source": [
    "#명훈님 순서대로 전처리 : 충전용량 - 충전량 - 주소 - 충전시간\n",
    "charging_test = charging"
   ]
  },
  {
   "cell_type": "code",
   "execution_count": null,
   "id": "717097f1",
   "metadata": {
    "id": "717097f1"
   },
   "outputs": [],
   "source": [
    "charging = charging[(charging['충전용량']==50.0) | (charging['충전용량']==7.0)]"
   ]
  },
  {
   "cell_type": "code",
   "execution_count": null,
   "id": "4a0769a7",
   "metadata": {
    "id": "4a0769a7"
   },
   "outputs": [],
   "source": [
    "charging = charging[charging['충전량']<=80]"
   ]
  },
  {
   "cell_type": "code",
   "execution_count": null,
   "id": "e6a04561",
   "metadata": {
    "id": "e6a04561"
   },
   "outputs": [],
   "source": [
    "charging['주소누락치1']=charging['주소'].str.extract(r'(null)')\n",
    "charging = charging[charging[\"주소누락치1\"].isnull()]"
   ]
  },
  {
   "cell_type": "code",
   "execution_count": null,
   "id": "23039621",
   "metadata": {
    "id": "23039621"
   },
   "outputs": [],
   "source": [
    "del charging['주소누락치1']"
   ]
  },
  {
   "cell_type": "code",
   "execution_count": null,
   "id": "b6a97ff1",
   "metadata": {
    "id": "b6a97ff1"
   },
   "outputs": [],
   "source": [
    "charging = charging[charging['주소'].notnull()]"
   ]
  },
  {
   "cell_type": "code",
   "execution_count": null,
   "id": "07814c5f",
   "metadata": {
    "id": "07814c5f",
    "outputId": "b81e365e-b441-4fec-a004-40d8cf98ad99",
    "scrolled": true
   },
   "outputs": [
    {
     "name": "stderr",
     "output_type": "stream",
     "text": [
      "C:\\Users\\pwngu\\AppData\\Local\\Temp\\ipykernel_26204\\933594137.py:1: SettingWithCopyWarning: \n",
      "A value is trying to be set on a copy of a slice from a DataFrame.\n",
      "Try using .loc[row_indexer,col_indexer] = value instead\n",
      "\n",
      "See the caveats in the documentation: https://pandas.pydata.org/pandas-docs/stable/user_guide/indexing.html#returning-a-view-versus-a-copy\n",
      "  charging['충전시간'] = charging['충전시간'] + round(charging['충전분'] / 60 , 2)\n"
     ]
    }
   ],
   "source": [
    "charging['충전시간'] = charging['충전시간'] + round(charging['충전분'] / 60 , 2)"
   ]
  },
  {
   "cell_type": "code",
   "execution_count": null,
   "id": "49960eeb",
   "metadata": {
    "id": "49960eeb"
   },
   "outputs": [],
   "source": [
    "charging = charging[(charging['충전시간'] >= 0.08) & (charging['충전시간']<= 24)]"
   ]
  },
  {
   "cell_type": "code",
   "execution_count": null,
   "id": "ab72656d",
   "metadata": {
    "id": "ab72656d",
    "outputId": "cae32257-f103-4e02-9333-2e15cd9c8166",
    "scrolled": true
   },
   "outputs": [
    {
     "data": {
      "text/plain": [
       "887170"
      ]
     },
     "execution_count": 305,
     "metadata": {},
     "output_type": "execute_result"
    }
   ],
   "source": [
    "len(charging)"
   ]
  },
  {
   "cell_type": "code",
   "execution_count": null,
   "id": "22c09799",
   "metadata": {
    "id": "22c09799",
    "outputId": "0ed026b8-aefb-4d13-c5b7-fc1c115e679d",
    "scrolled": true
   },
   "outputs": [
    {
     "data": {
      "text/plain": [
       "813737"
      ]
     },
     "execution_count": 310,
     "metadata": {},
     "output_type": "execute_result"
    }
   ],
   "source": [
    "charging = charging[~charging['주소'].str.contains(\"제주\", na=False, case=False)]\n",
    "\n",
    "len(charging)"
   ]
  },
  {
   "cell_type": "code",
   "execution_count": null,
   "id": "6596fc53",
   "metadata": {
    "collapsed": true,
    "id": "6596fc53",
    "outputId": "0109a2fd-ed11-423a-eb54-7a6d224e4610"
   },
   "outputs": [
    {
     "ename": "KeyError",
     "evalue": "'본부'",
     "output_type": "error",
     "traceback": [
      "\u001b[1;31m---------------------------------------------------------------------------\u001b[0m",
      "\u001b[1;31mKeyError\u001b[0m                                  Traceback (most recent call last)",
      "File \u001b[1;32m~\\anaconda3\\lib\\site-packages\\pandas\\core\\indexes\\base.py:3621\u001b[0m, in \u001b[0;36mIndex.get_loc\u001b[1;34m(self, key, method, tolerance)\u001b[0m\n\u001b[0;32m   3620\u001b[0m \u001b[38;5;28;01mtry\u001b[39;00m:\n\u001b[1;32m-> 3621\u001b[0m     \u001b[38;5;28;01mreturn\u001b[39;00m \u001b[38;5;28;43mself\u001b[39;49m\u001b[38;5;241;43m.\u001b[39;49m\u001b[43m_engine\u001b[49m\u001b[38;5;241;43m.\u001b[39;49m\u001b[43mget_loc\u001b[49m\u001b[43m(\u001b[49m\u001b[43mcasted_key\u001b[49m\u001b[43m)\u001b[49m\n\u001b[0;32m   3622\u001b[0m \u001b[38;5;28;01mexcept\u001b[39;00m \u001b[38;5;167;01mKeyError\u001b[39;00m \u001b[38;5;28;01mas\u001b[39;00m err:\n",
      "File \u001b[1;32m~\\anaconda3\\lib\\site-packages\\pandas\\_libs\\index.pyx:136\u001b[0m, in \u001b[0;36mpandas._libs.index.IndexEngine.get_loc\u001b[1;34m()\u001b[0m\n",
      "File \u001b[1;32m~\\anaconda3\\lib\\site-packages\\pandas\\_libs\\index.pyx:163\u001b[0m, in \u001b[0;36mpandas._libs.index.IndexEngine.get_loc\u001b[1;34m()\u001b[0m\n",
      "File \u001b[1;32mpandas\\_libs\\hashtable_class_helper.pxi:5198\u001b[0m, in \u001b[0;36mpandas._libs.hashtable.PyObjectHashTable.get_item\u001b[1;34m()\u001b[0m\n",
      "File \u001b[1;32mpandas\\_libs\\hashtable_class_helper.pxi:5206\u001b[0m, in \u001b[0;36mpandas._libs.hashtable.PyObjectHashTable.get_item\u001b[1;34m()\u001b[0m\n",
      "\u001b[1;31mKeyError\u001b[0m: '본부'",
      "\nThe above exception was the direct cause of the following exception:\n",
      "\u001b[1;31mKeyError\u001b[0m                                  Traceback (most recent call last)",
      "Input \u001b[1;32mIn [307]\u001b[0m, in \u001b[0;36m<cell line: 4>\u001b[1;34m()\u001b[0m\n\u001b[0;32m      2\u001b[0m \u001b[38;5;28;01mdel\u001b[39;00m charging[\u001b[38;5;124m'\u001b[39m\u001b[38;5;124m사업소\u001b[39m\u001b[38;5;124m'\u001b[39m]\n\u001b[0;32m      3\u001b[0m \u001b[38;5;28;01mdel\u001b[39;00m charging[\u001b[38;5;124m'\u001b[39m\u001b[38;5;124m충전기\u001b[39m\u001b[38;5;124m'\u001b[39m]\n\u001b[1;32m----> 4\u001b[0m \u001b[38;5;28;01mdel\u001b[39;00m charging[\u001b[38;5;124m'\u001b[39m\u001b[38;5;124m본부\u001b[39m\u001b[38;5;124m'\u001b[39m]\n\u001b[0;32m      5\u001b[0m \u001b[38;5;28;01mdel\u001b[39;00m charging[\u001b[38;5;124m'\u001b[39m\u001b[38;5;124m충전종료일자\u001b[39m\u001b[38;5;124m'\u001b[39m]\n\u001b[0;32m      6\u001b[0m \u001b[38;5;28;01mdel\u001b[39;00m charging[\u001b[38;5;124m'\u001b[39m\u001b[38;5;124m충전분\u001b[39m\u001b[38;5;124m'\u001b[39m]\n",
      "File \u001b[1;32m~\\anaconda3\\lib\\site-packages\\pandas\\core\\generic.py:4048\u001b[0m, in \u001b[0;36mNDFrame.__delitem__\u001b[1;34m(self, key)\u001b[0m\n\u001b[0;32m   4043\u001b[0m             deleted \u001b[38;5;241m=\u001b[39m \u001b[38;5;28;01mTrue\u001b[39;00m\n\u001b[0;32m   4044\u001b[0m \u001b[38;5;28;01mif\u001b[39;00m \u001b[38;5;129;01mnot\u001b[39;00m deleted:\n\u001b[0;32m   4045\u001b[0m     \u001b[38;5;66;03m# If the above loop ran and didn't delete anything because\u001b[39;00m\n\u001b[0;32m   4046\u001b[0m     \u001b[38;5;66;03m# there was no match, this call should raise the appropriate\u001b[39;00m\n\u001b[0;32m   4047\u001b[0m     \u001b[38;5;66;03m# exception:\u001b[39;00m\n\u001b[1;32m-> 4048\u001b[0m     loc \u001b[38;5;241m=\u001b[39m \u001b[38;5;28;43mself\u001b[39;49m\u001b[38;5;241;43m.\u001b[39;49m\u001b[43maxes\u001b[49m\u001b[43m[\u001b[49m\u001b[38;5;241;43m-\u001b[39;49m\u001b[38;5;241;43m1\u001b[39;49m\u001b[43m]\u001b[49m\u001b[38;5;241;43m.\u001b[39;49m\u001b[43mget_loc\u001b[49m\u001b[43m(\u001b[49m\u001b[43mkey\u001b[49m\u001b[43m)\u001b[49m\n\u001b[0;32m   4049\u001b[0m     \u001b[38;5;28mself\u001b[39m\u001b[38;5;241m.\u001b[39m_mgr \u001b[38;5;241m=\u001b[39m \u001b[38;5;28mself\u001b[39m\u001b[38;5;241m.\u001b[39m_mgr\u001b[38;5;241m.\u001b[39midelete(loc)\n\u001b[0;32m   4051\u001b[0m \u001b[38;5;66;03m# delete from the caches\u001b[39;00m\n",
      "File \u001b[1;32m~\\anaconda3\\lib\\site-packages\\pandas\\core\\indexes\\base.py:3623\u001b[0m, in \u001b[0;36mIndex.get_loc\u001b[1;34m(self, key, method, tolerance)\u001b[0m\n\u001b[0;32m   3621\u001b[0m     \u001b[38;5;28;01mreturn\u001b[39;00m \u001b[38;5;28mself\u001b[39m\u001b[38;5;241m.\u001b[39m_engine\u001b[38;5;241m.\u001b[39mget_loc(casted_key)\n\u001b[0;32m   3622\u001b[0m \u001b[38;5;28;01mexcept\u001b[39;00m \u001b[38;5;167;01mKeyError\u001b[39;00m \u001b[38;5;28;01mas\u001b[39;00m err:\n\u001b[1;32m-> 3623\u001b[0m     \u001b[38;5;28;01mraise\u001b[39;00m \u001b[38;5;167;01mKeyError\u001b[39;00m(key) \u001b[38;5;28;01mfrom\u001b[39;00m \u001b[38;5;21;01merr\u001b[39;00m\n\u001b[0;32m   3624\u001b[0m \u001b[38;5;28;01mexcept\u001b[39;00m \u001b[38;5;167;01mTypeError\u001b[39;00m:\n\u001b[0;32m   3625\u001b[0m     \u001b[38;5;66;03m# If we have a listlike key, _check_indexing_error will raise\u001b[39;00m\n\u001b[0;32m   3626\u001b[0m     \u001b[38;5;66;03m#  InvalidIndexError. Otherwise we fall through and re-raise\u001b[39;00m\n\u001b[0;32m   3627\u001b[0m     \u001b[38;5;66;03m#  the TypeError.\u001b[39;00m\n\u001b[0;32m   3628\u001b[0m     \u001b[38;5;28mself\u001b[39m\u001b[38;5;241m.\u001b[39m_check_indexing_error(key)\n",
      "\u001b[1;31mKeyError\u001b[0m: '본부'"
     ]
    }
   ],
   "source": [
    "del charging['본부']\n",
    "del charging['사업소']\n",
    "del charging['충전기']\n",
    "del charging['본부']\n",
    "del charging['충전종료일자']\n",
    "del charging['충전분']"
   ]
  },
  {
   "cell_type": "code",
   "execution_count": null,
   "id": "24440ae5",
   "metadata": {
    "id": "24440ae5",
    "outputId": "f86c5ab9-61dc-49f5-fc7d-5a6df96dfe91"
   },
   "outputs": [
    {
     "name": "stdout",
     "output_type": "stream",
     "text": [
      "<class 'pandas.core.frame.DataFrame'>\n",
      "Int64Index: 813737 entries, 0 to 1048573\n",
      "Data columns (total 11 columns):\n",
      " #   Column  Non-Null Count   Dtype  \n",
      "---  ------  --------------   -----  \n",
      " 0   충전소명    813737 non-null  object \n",
      " 1   충전기ID   813737 non-null  object \n",
      " 2   주소      813737 non-null  object \n",
      " 3   충전기구분   813737 non-null  object \n",
      " 4   충전용량    813737 non-null  float64\n",
      " 5   충전량     813737 non-null  float64\n",
      " 6   충전시간    813737 non-null  float64\n",
      " 7   충전분     813737 non-null  int64  \n",
      " 8   충전종료일자  813737 non-null  object \n",
      " 9   충전시작시각  813737 non-null  object \n",
      " 10  충전종료시각  813737 non-null  object \n",
      "dtypes: float64(3), int64(1), object(7)\n",
      "memory usage: 74.5+ MB\n"
     ]
    }
   ],
   "source": [
    "charging.info()"
   ]
  },
  {
   "cell_type": "code",
   "execution_count": null,
   "id": "2936c240",
   "metadata": {
    "id": "2936c240",
    "outputId": "dd23d1e4-a31a-4dd2-fcb6-9ade146eced3",
    "scrolled": true
   },
   "outputs": [
    {
     "data": {
      "text/html": [
       "<div>\n",
       "<style scoped>\n",
       "    .dataframe tbody tr th:only-of-type {\n",
       "        vertical-align: middle;\n",
       "    }\n",
       "\n",
       "    .dataframe tbody tr th {\n",
       "        vertical-align: top;\n",
       "    }\n",
       "\n",
       "    .dataframe thead th {\n",
       "        text-align: right;\n",
       "    }\n",
       "</style>\n",
       "<table border=\"1\" class=\"dataframe\">\n",
       "  <thead>\n",
       "    <tr style=\"text-align: right;\">\n",
       "      <th></th>\n",
       "      <th>충전소명</th>\n",
       "      <th>충전기ID</th>\n",
       "      <th>주소</th>\n",
       "      <th>충전기구분</th>\n",
       "      <th>충전용량</th>\n",
       "      <th>충전량</th>\n",
       "      <th>충전시간</th>\n",
       "      <th>충전분</th>\n",
       "      <th>충전종료일자</th>\n",
       "      <th>충전시작시각</th>\n",
       "      <th>충전종료시각</th>\n",
       "    </tr>\n",
       "  </thead>\n",
       "  <tbody>\n",
       "    <tr>\n",
       "      <th>0</th>\n",
       "      <td>국민체육센터</td>\n",
       "      <td>USCE20040701</td>\n",
       "      <td>울산광역시 남구 야음동 184-1</td>\n",
       "      <td>급속</td>\n",
       "      <td>50.0</td>\n",
       "      <td>17.72</td>\n",
       "      <td>0.67</td>\n",
       "      <td>40</td>\n",
       "      <td>2022-01-01</td>\n",
       "      <td>2022-01-01 09:51:51</td>\n",
       "      <td>2022-01-01 10:31:51</td>\n",
       "    </tr>\n",
       "    <tr>\n",
       "      <th>1</th>\n",
       "      <td>국민체육센터</td>\n",
       "      <td>USCE20040701</td>\n",
       "      <td>울산광역시 남구 야음동 184-1</td>\n",
       "      <td>급속</td>\n",
       "      <td>50.0</td>\n",
       "      <td>11.96</td>\n",
       "      <td>0.67</td>\n",
       "      <td>40</td>\n",
       "      <td>2022-01-01</td>\n",
       "      <td>2022-01-01 10:33:43</td>\n",
       "      <td>2022-01-01 11:13:43</td>\n",
       "    </tr>\n",
       "    <tr>\n",
       "      <th>2</th>\n",
       "      <td>동두천지사</td>\n",
       "      <td>876</td>\n",
       "      <td>경기도 동두천시 평화로 2262</td>\n",
       "      <td>급속</td>\n",
       "      <td>50.0</td>\n",
       "      <td>8.83</td>\n",
       "      <td>0.35</td>\n",
       "      <td>21</td>\n",
       "      <td>2022-01-01</td>\n",
       "      <td>2022-01-01 18:38:26</td>\n",
       "      <td>2022-01-01 18:59:43</td>\n",
       "    </tr>\n",
       "    <tr>\n",
       "      <th>3</th>\n",
       "      <td>동두천지사</td>\n",
       "      <td>876</td>\n",
       "      <td>경기도 동두천시 평화로 2262</td>\n",
       "      <td>급속</td>\n",
       "      <td>50.0</td>\n",
       "      <td>50.00</td>\n",
       "      <td>1.92</td>\n",
       "      <td>55</td>\n",
       "      <td>2022-01-01</td>\n",
       "      <td>2022-01-01 19:10:29</td>\n",
       "      <td>2022-01-01 21:05:43</td>\n",
       "    </tr>\n",
       "    <tr>\n",
       "      <th>5</th>\n",
       "      <td>동두천지사</td>\n",
       "      <td>876</td>\n",
       "      <td>경기도 동두천시 평화로 2262</td>\n",
       "      <td>급속</td>\n",
       "      <td>50.0</td>\n",
       "      <td>43.01</td>\n",
       "      <td>0.95</td>\n",
       "      <td>57</td>\n",
       "      <td>2022-01-01</td>\n",
       "      <td>2022-01-01 12:37:45</td>\n",
       "      <td>2022-01-01 13:35:12</td>\n",
       "    </tr>\n",
       "  </tbody>\n",
       "</table>\n",
       "</div>"
      ],
      "text/plain": [
       "     충전소명         충전기ID                  주소 충전기구분  충전용량    충전량  충전시간  충전분  \\\n",
       "0  국민체육센터  USCE20040701  울산광역시 남구 야음동 184-1    급속  50.0  17.72  0.67   40   \n",
       "1  국민체육센터  USCE20040701  울산광역시 남구 야음동 184-1    급속  50.0  11.96  0.67   40   \n",
       "2   동두천지사           876   경기도 동두천시 평화로 2262    급속  50.0   8.83  0.35   21   \n",
       "3   동두천지사           876   경기도 동두천시 평화로 2262    급속  50.0  50.00  1.92   55   \n",
       "5   동두천지사           876   경기도 동두천시 평화로 2262    급속  50.0  43.01  0.95   57   \n",
       "\n",
       "       충전종료일자               충전시작시각               충전종료시각  \n",
       "0  2022-01-01  2022-01-01 09:51:51  2022-01-01 10:31:51  \n",
       "1  2022-01-01  2022-01-01 10:33:43  2022-01-01 11:13:43  \n",
       "2  2022-01-01  2022-01-01 18:38:26  2022-01-01 18:59:43  \n",
       "3  2022-01-01  2022-01-01 19:10:29  2022-01-01 21:05:43  \n",
       "5  2022-01-01  2022-01-01 12:37:45  2022-01-01 13:35:12  "
      ]
     },
     "execution_count": 315,
     "metadata": {},
     "output_type": "execute_result"
    }
   ],
   "source": [
    "charging.head()"
   ]
  },
  {
   "cell_type": "code",
   "execution_count": null,
   "id": "ab3c24fd",
   "metadata": {
    "id": "ab3c24fd",
    "outputId": "99749a30-9767-4e5c-cbda-e7972b1c3864"
   },
   "outputs": [
    {
     "name": "stderr",
     "output_type": "stream",
     "text": [
      "C:\\Users\\pwngu\\AppData\\Local\\Temp\\ipykernel_26204\\3047438253.py:1: SettingWithCopyWarning: \n",
      "A value is trying to be set on a copy of a slice from a DataFrame.\n",
      "Try using .loc[row_indexer,col_indexer] = value instead\n",
      "\n",
      "See the caveats in the documentation: https://pandas.pydata.org/pandas-docs/stable/user_guide/indexing.html#returning-a-view-versus-a-copy\n",
      "  charging['실충전시간'] = round(charging['충전량']/charging['충전용량'], 2)\n",
      "C:\\Users\\pwngu\\AppData\\Local\\Temp\\ipykernel_26204\\3047438253.py:2: SettingWithCopyWarning: \n",
      "A value is trying to be set on a copy of a slice from a DataFrame.\n",
      "Try using .loc[row_indexer,col_indexer] = value instead\n",
      "\n",
      "See the caveats in the documentation: https://pandas.pydata.org/pandas-docs/stable/user_guide/indexing.html#returning-a-view-versus-a-copy\n",
      "  charging['미사용시간'] = round(charging['충전시간'] - charging['실충전시간'], 2)\n"
     ]
    }
   ],
   "source": [
    "charging['실충전시간'] = round(charging['충전량']/charging['충전용량'], 2)\n",
    "charging['미사용시간'] = round(charging['충전시간'] - charging['실충전시간'], 2)"
   ]
  },
  {
   "cell_type": "code",
   "execution_count": null,
   "id": "b0052be3",
   "metadata": {
    "id": "b0052be3",
    "outputId": "a19b240a-133f-45f6-ab0e-1938bc6d958a"
   },
   "outputs": [
    {
     "data": {
      "text/html": [
       "<div>\n",
       "<style scoped>\n",
       "    .dataframe tbody tr th:only-of-type {\n",
       "        vertical-align: middle;\n",
       "    }\n",
       "\n",
       "    .dataframe tbody tr th {\n",
       "        vertical-align: top;\n",
       "    }\n",
       "\n",
       "    .dataframe thead th {\n",
       "        text-align: right;\n",
       "    }\n",
       "</style>\n",
       "<table border=\"1\" class=\"dataframe\">\n",
       "  <thead>\n",
       "    <tr style=\"text-align: right;\">\n",
       "      <th></th>\n",
       "      <th>충전소명</th>\n",
       "      <th>충전기ID</th>\n",
       "      <th>주소</th>\n",
       "      <th>충전기구분</th>\n",
       "      <th>충전용량</th>\n",
       "      <th>충전량</th>\n",
       "      <th>충전시간</th>\n",
       "      <th>충전분</th>\n",
       "      <th>충전종료일자</th>\n",
       "      <th>충전시작시각</th>\n",
       "      <th>충전종료시각</th>\n",
       "      <th>실충전시간</th>\n",
       "      <th>미사용시간</th>\n",
       "    </tr>\n",
       "  </thead>\n",
       "  <tbody>\n",
       "    <tr>\n",
       "      <th>0</th>\n",
       "      <td>국민체육센터</td>\n",
       "      <td>USCE20040701</td>\n",
       "      <td>울산광역시 남구 야음동 184-1</td>\n",
       "      <td>급속</td>\n",
       "      <td>50.0</td>\n",
       "      <td>17.72</td>\n",
       "      <td>0.67</td>\n",
       "      <td>40</td>\n",
       "      <td>2022-01-01</td>\n",
       "      <td>2022-01-01 09:51:51</td>\n",
       "      <td>2022-01-01 10:31:51</td>\n",
       "      <td>0.35</td>\n",
       "      <td>0.32</td>\n",
       "    </tr>\n",
       "    <tr>\n",
       "      <th>1</th>\n",
       "      <td>국민체육센터</td>\n",
       "      <td>USCE20040701</td>\n",
       "      <td>울산광역시 남구 야음동 184-1</td>\n",
       "      <td>급속</td>\n",
       "      <td>50.0</td>\n",
       "      <td>11.96</td>\n",
       "      <td>0.67</td>\n",
       "      <td>40</td>\n",
       "      <td>2022-01-01</td>\n",
       "      <td>2022-01-01 10:33:43</td>\n",
       "      <td>2022-01-01 11:13:43</td>\n",
       "      <td>0.24</td>\n",
       "      <td>0.43</td>\n",
       "    </tr>\n",
       "    <tr>\n",
       "      <th>2</th>\n",
       "      <td>동두천지사</td>\n",
       "      <td>876</td>\n",
       "      <td>경기도 동두천시 평화로 2262</td>\n",
       "      <td>급속</td>\n",
       "      <td>50.0</td>\n",
       "      <td>8.83</td>\n",
       "      <td>0.35</td>\n",
       "      <td>21</td>\n",
       "      <td>2022-01-01</td>\n",
       "      <td>2022-01-01 18:38:26</td>\n",
       "      <td>2022-01-01 18:59:43</td>\n",
       "      <td>0.18</td>\n",
       "      <td>0.17</td>\n",
       "    </tr>\n",
       "    <tr>\n",
       "      <th>3</th>\n",
       "      <td>동두천지사</td>\n",
       "      <td>876</td>\n",
       "      <td>경기도 동두천시 평화로 2262</td>\n",
       "      <td>급속</td>\n",
       "      <td>50.0</td>\n",
       "      <td>50.00</td>\n",
       "      <td>1.92</td>\n",
       "      <td>55</td>\n",
       "      <td>2022-01-01</td>\n",
       "      <td>2022-01-01 19:10:29</td>\n",
       "      <td>2022-01-01 21:05:43</td>\n",
       "      <td>1.00</td>\n",
       "      <td>0.92</td>\n",
       "    </tr>\n",
       "    <tr>\n",
       "      <th>5</th>\n",
       "      <td>동두천지사</td>\n",
       "      <td>876</td>\n",
       "      <td>경기도 동두천시 평화로 2262</td>\n",
       "      <td>급속</td>\n",
       "      <td>50.0</td>\n",
       "      <td>43.01</td>\n",
       "      <td>0.95</td>\n",
       "      <td>57</td>\n",
       "      <td>2022-01-01</td>\n",
       "      <td>2022-01-01 12:37:45</td>\n",
       "      <td>2022-01-01 13:35:12</td>\n",
       "      <td>0.86</td>\n",
       "      <td>0.09</td>\n",
       "    </tr>\n",
       "    <tr>\n",
       "      <th>...</th>\n",
       "      <td>...</td>\n",
       "      <td>...</td>\n",
       "      <td>...</td>\n",
       "      <td>...</td>\n",
       "      <td>...</td>\n",
       "      <td>...</td>\n",
       "      <td>...</td>\n",
       "      <td>...</td>\n",
       "      <td>...</td>\n",
       "      <td>...</td>\n",
       "      <td>...</td>\n",
       "      <td>...</td>\n",
       "      <td>...</td>\n",
       "    </tr>\n",
       "    <tr>\n",
       "      <th>1048568</th>\n",
       "      <td>더샵스타시티 아파트</td>\n",
       "      <td>1921</td>\n",
       "      <td>서울특별시 광진구 자양동 아차산로 262</td>\n",
       "      <td>완속</td>\n",
       "      <td>7.0</td>\n",
       "      <td>5.11</td>\n",
       "      <td>1.50</td>\n",
       "      <td>30</td>\n",
       "      <td>2022-03-30</td>\n",
       "      <td>2022-03-30 20:44:55</td>\n",
       "      <td>2022-03-30 22:15:04</td>\n",
       "      <td>0.73</td>\n",
       "      <td>0.77</td>\n",
       "    </tr>\n",
       "    <tr>\n",
       "      <th>1048569</th>\n",
       "      <td>공지천 공영주차장</td>\n",
       "      <td>5928</td>\n",
       "      <td>강원도 춘천시 영서로 2438</td>\n",
       "      <td>급속</td>\n",
       "      <td>50.0</td>\n",
       "      <td>37.64</td>\n",
       "      <td>1.00</td>\n",
       "      <td>0</td>\n",
       "      <td>2022-03-30</td>\n",
       "      <td>2022-03-30 21:15:44</td>\n",
       "      <td>2022-03-30 22:15:52</td>\n",
       "      <td>0.75</td>\n",
       "      <td>0.25</td>\n",
       "    </tr>\n",
       "    <tr>\n",
       "      <th>1048570</th>\n",
       "      <td>가재마을3단지</td>\n",
       "      <td>4499</td>\n",
       "      <td>세종특별자치시 도움3로 159</td>\n",
       "      <td>완속</td>\n",
       "      <td>7.0</td>\n",
       "      <td>33.12</td>\n",
       "      <td>5.35</td>\n",
       "      <td>21</td>\n",
       "      <td>2022-03-30</td>\n",
       "      <td>2022-03-30 17:03:42</td>\n",
       "      <td>2022-03-30 22:25:05</td>\n",
       "      <td>4.73</td>\n",
       "      <td>0.62</td>\n",
       "    </tr>\n",
       "    <tr>\n",
       "      <th>1048572</th>\n",
       "      <td>강원도개발공사</td>\n",
       "      <td>9433</td>\n",
       "      <td>강원도 춘천시 외솔길 17</td>\n",
       "      <td>급속</td>\n",
       "      <td>50.0</td>\n",
       "      <td>40.42</td>\n",
       "      <td>1.00</td>\n",
       "      <td>0</td>\n",
       "      <td>2022-03-30</td>\n",
       "      <td>2022-03-30 15:19:39</td>\n",
       "      <td>2022-03-30 16:19:45</td>\n",
       "      <td>0.81</td>\n",
       "      <td>0.19</td>\n",
       "    </tr>\n",
       "    <tr>\n",
       "      <th>1048573</th>\n",
       "      <td>경산우방유쉘</td>\n",
       "      <td>4748</td>\n",
       "      <td>경상북도 경산시 옥곡동 강변서로 111</td>\n",
       "      <td>완속</td>\n",
       "      <td>7.0</td>\n",
       "      <td>11.17</td>\n",
       "      <td>1.75</td>\n",
       "      <td>45</td>\n",
       "      <td>2022-03-30</td>\n",
       "      <td>2022-03-30 14:37:34</td>\n",
       "      <td>2022-03-30 16:23:15</td>\n",
       "      <td>1.60</td>\n",
       "      <td>0.15</td>\n",
       "    </tr>\n",
       "  </tbody>\n",
       "</table>\n",
       "<p>813737 rows × 13 columns</p>\n",
       "</div>"
      ],
      "text/plain": [
       "               충전소명         충전기ID                      주소 충전기구분  충전용량    충전량  \\\n",
       "0            국민체육센터  USCE20040701      울산광역시 남구 야음동 184-1    급속  50.0  17.72   \n",
       "1            국민체육센터  USCE20040701      울산광역시 남구 야음동 184-1    급속  50.0  11.96   \n",
       "2             동두천지사           876       경기도 동두천시 평화로 2262    급속  50.0   8.83   \n",
       "3             동두천지사           876       경기도 동두천시 평화로 2262    급속  50.0  50.00   \n",
       "5             동두천지사           876       경기도 동두천시 평화로 2262    급속  50.0  43.01   \n",
       "...             ...           ...                     ...   ...   ...    ...   \n",
       "1048568  더샵스타시티 아파트          1921  서울특별시 광진구 자양동 아차산로 262    완속   7.0   5.11   \n",
       "1048569   공지천 공영주차장          5928        강원도 춘천시 영서로 2438    급속  50.0  37.64   \n",
       "1048570     가재마을3단지          4499        세종특별자치시 도움3로 159    완속   7.0  33.12   \n",
       "1048572     강원도개발공사          9433          강원도 춘천시 외솔길 17    급속  50.0  40.42   \n",
       "1048573      경산우방유쉘          4748   경상북도 경산시 옥곡동 강변서로 111    완속   7.0  11.17   \n",
       "\n",
       "         충전시간  충전분      충전종료일자               충전시작시각               충전종료시각  \\\n",
       "0        0.67   40  2022-01-01  2022-01-01 09:51:51  2022-01-01 10:31:51   \n",
       "1        0.67   40  2022-01-01  2022-01-01 10:33:43  2022-01-01 11:13:43   \n",
       "2        0.35   21  2022-01-01  2022-01-01 18:38:26  2022-01-01 18:59:43   \n",
       "3        1.92   55  2022-01-01  2022-01-01 19:10:29  2022-01-01 21:05:43   \n",
       "5        0.95   57  2022-01-01  2022-01-01 12:37:45  2022-01-01 13:35:12   \n",
       "...       ...  ...         ...                  ...                  ...   \n",
       "1048568  1.50   30  2022-03-30  2022-03-30 20:44:55  2022-03-30 22:15:04   \n",
       "1048569  1.00    0  2022-03-30  2022-03-30 21:15:44  2022-03-30 22:15:52   \n",
       "1048570  5.35   21  2022-03-30  2022-03-30 17:03:42  2022-03-30 22:25:05   \n",
       "1048572  1.00    0  2022-03-30  2022-03-30 15:19:39  2022-03-30 16:19:45   \n",
       "1048573  1.75   45  2022-03-30  2022-03-30 14:37:34  2022-03-30 16:23:15   \n",
       "\n",
       "         실충전시간  미사용시간  \n",
       "0         0.35   0.32  \n",
       "1         0.24   0.43  \n",
       "2         0.18   0.17  \n",
       "3         1.00   0.92  \n",
       "5         0.86   0.09  \n",
       "...        ...    ...  \n",
       "1048568   0.73   0.77  \n",
       "1048569   0.75   0.25  \n",
       "1048570   4.73   0.62  \n",
       "1048572   0.81   0.19  \n",
       "1048573   1.60   0.15  \n",
       "\n",
       "[813737 rows x 13 columns]"
      ]
     },
     "execution_count": 321,
     "metadata": {},
     "output_type": "execute_result"
    }
   ],
   "source": [
    "charging"
   ]
  },
  {
   "cell_type": "code",
   "execution_count": null,
   "id": "6aacc622",
   "metadata": {
    "id": "6aacc622"
   },
   "outputs": [],
   "source": [
    "charging.to_csv(\"data/Pre_Charging.csv\", index=False)"
   ]
  },
  {
   "cell_type": "markdown",
   "id": "65335b3c",
   "metadata": {
    "id": "65335b3c"
   },
   "source": [
    "---"
   ]
  },
  {
   "cell_type": "markdown",
   "id": "e0807c36",
   "metadata": {
    "id": "e0807c36"
   },
   "source": [
    "### 종료일자 기준 1/28~2/3 뽑아내기 : 전처리 데이터로 다시 할 것"
   ]
  },
  {
   "cell_type": "code",
   "execution_count": null,
   "id": "d8ed6651",
   "metadata": {
    "id": "d8ed6651"
   },
   "outputs": [],
   "source": [
    "#충전종료일자 datetime형식으로 변환\n",
    "charging['충전종료일자'] = pd.to_datetime(charging['충전종료일자'],format='%Y/%m/%d')"
   ]
  },
  {
   "cell_type": "code",
   "execution_count": null,
   "id": "9692b7d5",
   "metadata": {
    "id": "9692b7d5"
   },
   "outputs": [],
   "source": [
    "holiday = charging[charging['충전종료일자'].between('2022/01/28', '2022/02/03')]"
   ]
  },
  {
   "cell_type": "code",
   "execution_count": null,
   "id": "6ffc6faa",
   "metadata": {
    "id": "6ffc6faa"
   },
   "outputs": [],
   "source": [
    "holiday_plot = holiday.set_index(['충전종료일자'])"
   ]
  },
  {
   "cell_type": "code",
   "execution_count": null,
   "id": "e7d1cf45",
   "metadata": {
    "id": "e7d1cf45",
    "outputId": "fdb7471a-00be-4cba-9d78-e9cbac4daa8e"
   },
   "outputs": [
    {
     "data": {
      "text/plain": [
       "<AxesSubplot:xlabel='충전종료일자'>"
      ]
     },
     "execution_count": 25,
     "metadata": {},
     "output_type": "execute_result"
    },
    {
     "data": {
      "image/png": "[encoded data removed]",
      "text/plain": [
       "<Figure size 432x288 with 1 Axes>"
      ]
     },
     "metadata": {
      "needs_background": "light"
     },
     "output_type": "display_data"
    }
   ],
   "source": [
    "holiday_plot.groupby('충전종료일자').sum()['충전량'].plot()"
   ]
  },
  {
   "cell_type": "code",
   "execution_count": null,
   "id": "b5b26a5d",
   "metadata": {
    "id": "b5b26a5d"
   },
   "outputs": [],
   "source": [
    "ordinary = charging[charging['충전종료일자'].between('2022/03/18', '2022/03/24')]"
   ]
  },
  {
   "cell_type": "code",
   "execution_count": null,
   "id": "637640f3",
   "metadata": {
    "id": "637640f3",
    "outputId": "4cc42b25-f6ad-4ced-ba57-21da7eebfaa9"
   },
   "outputs": [
    {
     "data": {
      "text/plain": [
       "<AxesSubplot:xlabel='충전종료일자'>"
      ]
     },
     "execution_count": 29,
     "metadata": {},
     "output_type": "execute_result"
    },
    {
     "data": {
      "image/png": "[encoded data removed]",
      "text/plain": [
       "<Figure size 432x288 with 1 Axes>"
      ]
     },
     "metadata": {
      "needs_background": "light"
     },
     "output_type": "display_data"
    }
   ],
   "source": [
    "ordinary.groupby('충전종료일자').sum()['충전량'].plot()"
   ]
  },
  {
   "cell_type": "code",
   "execution_count": null,
   "id": "ac7a29cb",
   "metadata": {
    "id": "ac7a29cb",
    "outputId": "60e3ff34-ae71-4a7e-c76b-894a96fe8a99"
   },
   "outputs": [
    {
     "data": {
      "text/plain": [
       "<AxesSubplot:xlabel='충전종료일자'>"
      ]
     },
     "execution_count": 30,
     "metadata": {},
     "output_type": "execute_result"
    },
    {
     "data": {
      "image/png": "[encoded data removed]",
      "text/plain": [
       "<Figure size 432x288 with 1 Axes>"
      ]
     },
     "metadata": {
      "needs_background": "light"
     },
     "output_type": "display_data"
    }
   ],
   "source": [
    "charging[charging['충전종료일자'].between('2022/02/11', '2022/02/17')].groupby('충전종료일자').sum()['충전량'].plot()"
   ]
  },
  {
   "cell_type": "code",
   "execution_count": null,
   "id": "9b435e79",
   "metadata": {
    "id": "9b435e79",
    "outputId": "4a0fb3be-e735-49a3-d911-c0dec542d661",
    "scrolled": true
   },
   "outputs": [
    {
     "data": {
      "text/plain": [
       "<AxesSubplot:xlabel='충전종료일자'>"
      ]
     },
     "execution_count": 94,
     "metadata": {},
     "output_type": "execute_result"
    },
    {
     "data": {
      "image/png": "[encoded data removed]",
      "text/plain": [
       "<Figure size 432x288 with 1 Axes>"
      ]
     },
     "metadata": {
      "needs_background": "light"
     },
     "output_type": "display_data"
    }
   ],
   "source": [
    "monday.groupby('충전종료일자').sum()['충전량'].plot(kind='bar')"
   ]
  },
  {
   "cell_type": "code",
   "execution_count": null,
   "id": "fee48b91",
   "metadata": {
    "id": "fee48b91"
   },
   "outputs": [],
   "source": [
    "#요일별"
   ]
  },
  {
   "cell_type": "code",
   "execution_count": null,
   "id": "65dc16ee",
   "metadata": {
    "id": "65dc16ee"
   },
   "outputs": [],
   "source": [
    "charging[\"weekday\"]=charging[\"충전종료일자\"].dt.dayofweek\n",
    "charging[\"weekdays\"]=charging[\"weekday\"].map({0:\"월요일\", 1:\"화요일\", 2:\"수요일\", 3:\"목요일\", 4:\"금요일\", 5:\"토요일\", 6:\"일요일\"})"
   ]
  },
  {
   "cell_type": "code",
   "execution_count": null,
   "id": "398fb219",
   "metadata": {
    "id": "398fb219",
    "outputId": "a1f7f209-fa18-42e8-ac7c-edad7ba5d60e",
    "scrolled": false
   },
   "outputs": [
    {
     "data": {
      "text/html": [
       "<div>\n",
       "<style scoped>\n",
       "    .dataframe tbody tr th:only-of-type {\n",
       "        vertical-align: middle;\n",
       "    }\n",
       "\n",
       "    .dataframe tbody tr th {\n",
       "        vertical-align: top;\n",
       "    }\n",
       "\n",
       "    .dataframe thead th {\n",
       "        text-align: right;\n",
       "    }\n",
       "</style>\n",
       "<table border=\"1\" class=\"dataframe\">\n",
       "  <thead>\n",
       "    <tr style=\"text-align: right;\">\n",
       "      <th></th>\n",
       "      <th>충전량</th>\n",
       "    </tr>\n",
       "    <tr>\n",
       "      <th>weekdays</th>\n",
       "      <th></th>\n",
       "    </tr>\n",
       "  </thead>\n",
       "  <tbody>\n",
       "    <tr>\n",
       "      <th>금요일</th>\n",
       "      <td>25.763877</td>\n",
       "    </tr>\n",
       "    <tr>\n",
       "      <th>목요일</th>\n",
       "      <td>25.112715</td>\n",
       "    </tr>\n",
       "    <tr>\n",
       "      <th>수요일</th>\n",
       "      <td>25.062189</td>\n",
       "    </tr>\n",
       "    <tr>\n",
       "      <th>월요일</th>\n",
       "      <td>24.718193</td>\n",
       "    </tr>\n",
       "    <tr>\n",
       "      <th>일요일</th>\n",
       "      <td>26.406616</td>\n",
       "    </tr>\n",
       "    <tr>\n",
       "      <th>토요일</th>\n",
       "      <td>33.593447</td>\n",
       "    </tr>\n",
       "    <tr>\n",
       "      <th>화요일</th>\n",
       "      <td>24.741228</td>\n",
       "    </tr>\n",
       "  </tbody>\n",
       "</table>\n",
       "</div>"
      ],
      "text/plain": [
       "                충전량\n",
       "weekdays           \n",
       "금요일       25.763877\n",
       "목요일       25.112715\n",
       "수요일       25.062189\n",
       "월요일       24.718193\n",
       "일요일       26.406616\n",
       "토요일       33.593447\n",
       "화요일       24.741228"
      ]
     },
     "execution_count": 35,
     "metadata": {},
     "output_type": "execute_result"
    }
   ],
   "source": [
    "charging.groupby(\"weekdays\").mean()[[\"충전량\"]]"
   ]
  },
  {
   "cell_type": "code",
   "execution_count": null,
   "id": "f28cb934",
   "metadata": {
    "id": "f28cb934",
    "outputId": "9967725e-8f68-408c-8a24-c4ccd9a84f35",
    "scrolled": true
   },
   "outputs": [
    {
     "data": {
      "text/plain": [
       "<AxesSubplot:xlabel='weekdays', ylabel='충전량'>"
      ]
     },
     "execution_count": 14,
     "metadata": {},
     "output_type": "execute_result"
    },
    {
     "data": {
      "image/png": "[encoded data removed]",
      "text/plain": [
       "<Figure size 432x288 with 1 Axes>"
      ]
     },
     "metadata": {
      "needs_background": "light"
     },
     "output_type": "display_data"
    }
   ],
   "source": [
    "sns.barplot(x=\"weekdays\", y=\"충전량\", data=charging, \n",
    "            order=[\"월요일\", \"화요일\", \"수요일\", \"목요일\", \"금요일\", \"토요일\", \"일요일\"])"
   ]
  },
  {
   "cell_type": "code",
   "execution_count": null,
   "id": "0ef3824c",
   "metadata": {
    "id": "0ef3824c",
    "outputId": "ae2797e3-f735-44db-9412-390af46fa6bf",
    "scrolled": true
   },
   "outputs": [
    {
     "data": {
      "text/plain": [
       "<AxesSubplot:xlabel='weekdays', ylabel='충전량'>"
      ]
     },
     "execution_count": 17,
     "metadata": {},
     "output_type": "execute_result"
    },
    {
     "data": {
      "image/png": "[encoded data removed]",
      "text/plain": [
       "<Figure size 432x288 with 1 Axes>"
      ]
     },
     "metadata": {
      "needs_background": "light"
     },
     "output_type": "display_data"
    }
   ],
   "source": [
    "sns.barplot(x=\"weekdays\", y=\"충전량\", data=holiday, \n",
    "            order=[\"월요일\", \"화요일\", \"수요일\", \"목요일\", \"금요일\", \"토요일\", \"일요일\"])"
   ]
  },
  {
   "cell_type": "code",
   "execution_count": null,
   "id": "c38f3a56",
   "metadata": {
    "id": "c38f3a56",
    "outputId": "9ac63073-b567-4f66-e499-c717d4ba960a"
   },
   "outputs": [
    {
     "data": {
      "text/plain": [
       "<AxesSubplot:xlabel='weekdays', ylabel='충전량'>"
      ]
     },
     "execution_count": 18,
     "metadata": {},
     "output_type": "execute_result"
    },
    {
     "data": {
      "image/png": "[encoded data removed]",
      "text/plain": [
       "<Figure size 432x288 with 1 Axes>"
      ]
     },
     "metadata": {
      "needs_background": "light"
     },
     "output_type": "display_data"
    }
   ],
   "source": [
    "sns.barplot(x=\"weekdays\", y=\"충전량\", data=ordinary, \n",
    "            order=[\"월요일\", \"화요일\", \"수요일\", \"목요일\", \"금요일\", \"토요일\", \"일요일\"])"
   ]
  },
  {
   "cell_type": "code",
   "execution_count": null,
   "id": "983aaf14",
   "metadata": {
    "id": "983aaf14"
   },
   "outputs": [],
   "source": [
    "#시간대별"
   ]
  },
  {
   "cell_type": "code",
   "execution_count": null,
   "id": "3d8a92bb",
   "metadata": {
    "id": "3d8a92bb"
   },
   "outputs": [],
   "source": [
    "charging['충전시작시각'] = pd.to_datetime(charging['충전시작시각'],format='%Y/%m/%d %H:%M:%S')"
   ]
  },
  {
   "cell_type": "code",
   "execution_count": null,
   "id": "52ce0c4b",
   "metadata": {
    "id": "52ce0c4b"
   },
   "outputs": [],
   "source": [
    "charging[\"hour\"]=charging[\"충전시작시각\"].dt.hour"
   ]
  },
  {
   "cell_type": "code",
   "execution_count": null,
   "id": "548b5148",
   "metadata": {
    "id": "548b5148"
   },
   "outputs": [],
   "source": [
    "hour = charging.groupby([\"hour\"]).mean()[[\"충전량\"]]"
   ]
  },
  {
   "cell_type": "code",
   "execution_count": null,
   "id": "75b52b62",
   "metadata": {
    "id": "75b52b62",
    "outputId": "42611ddc-7780-4d40-fd82-e8dbb2596d86"
   },
   "outputs": [
    {
     "data": {
      "text/html": [
       "<div>\n",
       "<style scoped>\n",
       "    .dataframe tbody tr th:only-of-type {\n",
       "        vertical-align: middle;\n",
       "    }\n",
       "\n",
       "    .dataframe tbody tr th {\n",
       "        vertical-align: top;\n",
       "    }\n",
       "\n",
       "    .dataframe thead th {\n",
       "        text-align: right;\n",
       "    }\n",
       "</style>\n",
       "<table border=\"1\" class=\"dataframe\">\n",
       "  <thead>\n",
       "    <tr style=\"text-align: right;\">\n",
       "      <th></th>\n",
       "      <th>충전량</th>\n",
       "    </tr>\n",
       "    <tr>\n",
       "      <th>hour</th>\n",
       "      <th></th>\n",
       "    </tr>\n",
       "  </thead>\n",
       "  <tbody>\n",
       "    <tr>\n",
       "      <th>0</th>\n",
       "      <td>31.409964</td>\n",
       "    </tr>\n",
       "    <tr>\n",
       "      <th>1</th>\n",
       "      <td>33.286419</td>\n",
       "    </tr>\n",
       "    <tr>\n",
       "      <th>2</th>\n",
       "      <td>31.817765</td>\n",
       "    </tr>\n",
       "    <tr>\n",
       "      <th>3</th>\n",
       "      <td>32.275290</td>\n",
       "    </tr>\n",
       "    <tr>\n",
       "      <th>4</th>\n",
       "      <td>32.214080</td>\n",
       "    </tr>\n",
       "    <tr>\n",
       "      <th>5</th>\n",
       "      <td>28.572728</td>\n",
       "    </tr>\n",
       "    <tr>\n",
       "      <th>6</th>\n",
       "      <td>25.471564</td>\n",
       "    </tr>\n",
       "    <tr>\n",
       "      <th>7</th>\n",
       "      <td>24.328948</td>\n",
       "    </tr>\n",
       "    <tr>\n",
       "      <th>8</th>\n",
       "      <td>23.888453</td>\n",
       "    </tr>\n",
       "    <tr>\n",
       "      <th>9</th>\n",
       "      <td>23.814773</td>\n",
       "    </tr>\n",
       "    <tr>\n",
       "      <th>10</th>\n",
       "      <td>22.819567</td>\n",
       "    </tr>\n",
       "    <tr>\n",
       "      <th>11</th>\n",
       "      <td>22.873562</td>\n",
       "    </tr>\n",
       "    <tr>\n",
       "      <th>12</th>\n",
       "      <td>22.951124</td>\n",
       "    </tr>\n",
       "    <tr>\n",
       "      <th>13</th>\n",
       "      <td>22.664364</td>\n",
       "    </tr>\n",
       "    <tr>\n",
       "      <th>14</th>\n",
       "      <td>39.556950</td>\n",
       "    </tr>\n",
       "    <tr>\n",
       "      <th>15</th>\n",
       "      <td>22.594617</td>\n",
       "    </tr>\n",
       "    <tr>\n",
       "      <th>16</th>\n",
       "      <td>25.289897</td>\n",
       "    </tr>\n",
       "    <tr>\n",
       "      <th>17</th>\n",
       "      <td>25.045726</td>\n",
       "    </tr>\n",
       "    <tr>\n",
       "      <th>18</th>\n",
       "      <td>26.639792</td>\n",
       "    </tr>\n",
       "    <tr>\n",
       "      <th>19</th>\n",
       "      <td>27.403845</td>\n",
       "    </tr>\n",
       "    <tr>\n",
       "      <th>20</th>\n",
       "      <td>28.105288</td>\n",
       "    </tr>\n",
       "    <tr>\n",
       "      <th>21</th>\n",
       "      <td>28.530242</td>\n",
       "    </tr>\n",
       "    <tr>\n",
       "      <th>22</th>\n",
       "      <td>29.994634</td>\n",
       "    </tr>\n",
       "    <tr>\n",
       "      <th>23</th>\n",
       "      <td>30.722820</td>\n",
       "    </tr>\n",
       "  </tbody>\n",
       "</table>\n",
       "</div>"
      ],
      "text/plain": [
       "            충전량\n",
       "hour           \n",
       "0     31.409964\n",
       "1     33.286419\n",
       "2     31.817765\n",
       "3     32.275290\n",
       "4     32.214080\n",
       "5     28.572728\n",
       "6     25.471564\n",
       "7     24.328948\n",
       "8     23.888453\n",
       "9     23.814773\n",
       "10    22.819567\n",
       "11    22.873562\n",
       "12    22.951124\n",
       "13    22.664364\n",
       "14    39.556950\n",
       "15    22.594617\n",
       "16    25.289897\n",
       "17    25.045726\n",
       "18    26.639792\n",
       "19    27.403845\n",
       "20    28.105288\n",
       "21    28.530242\n",
       "22    29.994634\n",
       "23    30.722820"
      ]
     },
     "execution_count": 56,
     "metadata": {},
     "output_type": "execute_result"
    }
   ],
   "source": [
    "hour"
   ]
  },
  {
   "cell_type": "code",
   "execution_count": null,
   "id": "a9ee526d",
   "metadata": {
    "id": "a9ee526d",
    "outputId": "06658bbb-f0e9-400c-ef0c-30c4b431435e",
    "scrolled": true
   },
   "outputs": [
    {
     "data": {
      "text/plain": [
       "<matplotlib.collections.PathCollection at 0x23529b110a0>"
      ]
     },
     "execution_count": 80,
     "metadata": {},
     "output_type": "execute_result"
    },
    {
     "data": {
      "image/png": "[encoded data removed]",
      "text/plain": [
       "<Figure size 432x288 with 1 Axes>"
      ]
     },
     "metadata": {
      "needs_background": "light"
     },
     "output_type": "display_data"
    }
   ],
   "source": [
    "plt.scatter(charging[\"hour\"], charging[\"충전량\"], c=charging[\"weekday\"])"
   ]
  },
  {
   "cell_type": "code",
   "execution_count": null,
   "id": "2bf3f3a0",
   "metadata": {
    "id": "2bf3f3a0",
    "outputId": "3f591e37-e2d8-427f-dd12-cafd15bc14f1"
   },
   "outputs": [
    {
     "data": {
      "image/png": "[encoded data removed]",
      "text/plain": [
       "<Figure size 864x576 with 1 Axes>"
      ]
     },
     "metadata": {
      "needs_background": "light"
     },
     "output_type": "display_data"
    }
   ],
   "source": [
    "plt.figure(figsize=(12,8))\n",
    "sns.boxplot(data=charging[\"충전량\"])\n",
    "plt.show()"
   ]
  },
  {
   "cell_type": "code",
   "execution_count": null,
   "id": "b02ce673",
   "metadata": {
    "id": "b02ce673",
    "outputId": "f7d2f3db-8443-46e3-b9ba-f576b8e3d09e"
   },
   "outputs": [
    {
     "data": {
      "text/plain": [
       "23253     12288\n",
       "419232      845\n",
       "542868      582\n",
       "201425      311\n",
       "460702      267\n",
       "          ...  \n",
       "710892       95\n",
       "871906       94\n",
       "361983       94\n",
       "33289        94\n",
       "32871        94\n",
       "Name: 충전시간, Length: 80, dtype: int64"
      ]
     },
     "execution_count": 90,
     "metadata": {},
     "output_type": "execute_result"
    }
   ],
   "source": [
    "charging[\"충전시간\"].sort_values(ascending=False).head(80)"
   ]
  },
  {
   "cell_type": "code",
   "execution_count": null,
   "id": "17ba8362",
   "metadata": {
    "id": "17ba8362"
   },
   "outputs": [],
   "source": [
    "#이상치 삭제"
   ]
  },
  {
   "cell_type": "code",
   "execution_count": null,
   "id": "beec438a",
   "metadata": {
    "id": "beec438a",
    "outputId": "e91d5350-5645-4a3b-b804-ea5efa1d9a9d"
   },
   "outputs": [
    {
     "data": {
      "text/plain": [
       "12288"
      ]
     },
     "execution_count": 88,
     "metadata": {},
     "output_type": "execute_result"
    }
   ],
   "source": [
    "charging[\"충전시간\"].max()"
   ]
  },
  {
   "cell_type": "code",
   "execution_count": null,
   "id": "4d725619",
   "metadata": {
    "id": "4d725619",
    "outputId": "51362472-d1bd-4137-e578-6d1c14495483"
   },
   "outputs": [
    {
     "data": {
      "text/plain": [
       "23062.8438"
      ]
     },
     "execution_count": 83,
     "metadata": {},
     "output_type": "execute_result"
    }
   ],
   "source": [
    "charging[\"충전량\"].max()"
   ]
  },
  {
   "cell_type": "code",
   "execution_count": null,
   "id": "8beb9a2c",
   "metadata": {
    "id": "8beb9a2c",
    "outputId": "427ba904-ca53-4d5a-a5c9-e7368eb1f359",
    "scrolled": true
   },
   "outputs": [
    {
     "data": {
      "text/html": [
       "<div>\n",
       "<style scoped>\n",
       "    .dataframe tbody tr th:only-of-type {\n",
       "        vertical-align: middle;\n",
       "    }\n",
       "\n",
       "    .dataframe tbody tr th {\n",
       "        vertical-align: top;\n",
       "    }\n",
       "\n",
       "    .dataframe thead th {\n",
       "        text-align: right;\n",
       "    }\n",
       "</style>\n",
       "<table border=\"1\" class=\"dataframe\">\n",
       "  <thead>\n",
       "    <tr style=\"text-align: right;\">\n",
       "      <th></th>\n",
       "      <th>본부</th>\n",
       "      <th>사업소</th>\n",
       "      <th>충전소명</th>\n",
       "      <th>충전기</th>\n",
       "      <th>충전기ID</th>\n",
       "      <th>주소</th>\n",
       "      <th>충전기구분</th>\n",
       "      <th>충전용량</th>\n",
       "      <th>충전량</th>\n",
       "      <th>충전시간</th>\n",
       "      <th>충전분</th>\n",
       "      <th>충전종료일자</th>\n",
       "      <th>충전시작시각</th>\n",
       "      <th>충전종료시각</th>\n",
       "      <th>weekdays</th>\n",
       "      <th>weekday</th>\n",
       "      <th>hour</th>\n",
       "    </tr>\n",
       "  </thead>\n",
       "  <tbody>\n",
       "    <tr>\n",
       "      <th>840453</th>\n",
       "      <td>경남</td>\n",
       "      <td>마산</td>\n",
       "      <td>한전마산지사</td>\n",
       "      <td>급속01</td>\n",
       "      <td>219</td>\n",
       "      <td>경상남도 창원시 마산회원구 3.15대로 966</td>\n",
       "      <td>급속</td>\n",
       "      <td>50.0</td>\n",
       "      <td>1094613.89</td>\n",
       "      <td>0</td>\n",
       "      <td>44</td>\n",
       "      <td>2022-03-12</td>\n",
       "      <td>2022-03-12 14:11:12</td>\n",
       "      <td>2022-03-12 14:55:55</td>\n",
       "      <td>토요일</td>\n",
       "      <td>5</td>\n",
       "      <td>14</td>\n",
       "    </tr>\n",
       "  </tbody>\n",
       "</table>\n",
       "</div>"
      ],
      "text/plain": [
       "        본부 사업소    충전소명   충전기 충전기ID                         주소 충전기구분  충전용량  \\\n",
       "840453  경남  마산  한전마산지사  급속01   219  경상남도 창원시 마산회원구 3.15대로 966    급속  50.0   \n",
       "\n",
       "               충전량  충전시간  충전분     충전종료일자              충전시작시각  \\\n",
       "840453  1094613.89     0   44 2022-03-12 2022-03-12 14:11:12   \n",
       "\n",
       "                     충전종료시각 weekdays  weekday  hour  \n",
       "840453  2022-03-12 14:55:55      토요일        5    14  "
      ]
     },
     "execution_count": 66,
     "metadata": {},
     "output_type": "execute_result"
    }
   ],
   "source": [
    "charging.loc[charging[\"충전량\"]==1094613.89]"
   ]
  },
  {
   "cell_type": "code",
   "execution_count": null,
   "id": "e52f9448",
   "metadata": {
    "id": "e52f9448",
    "outputId": "b65742ea-9f5a-490e-8d83-5450e23d3a48"
   },
   "outputs": [
    {
     "data": {
      "text/plain": [
       "Int64Index([840453], dtype='int64')"
      ]
     },
     "execution_count": 72,
     "metadata": {},
     "output_type": "execute_result"
    }
   ],
   "source": [
    "charging[charging[\"충전량\"]==1094613.89].index"
   ]
  },
  {
   "cell_type": "code",
   "execution_count": null,
   "id": "4079c9da",
   "metadata": {
    "id": "4079c9da"
   },
   "outputs": [],
   "source": [
    "charging = charging.drop(charging[charging[\"충전량\"]==1094613.89].index)"
   ]
  },
  {
   "cell_type": "code",
   "execution_count": null,
   "id": "f970082c",
   "metadata": {
    "id": "f970082c"
   },
   "outputs": [],
   "source": [
    "charging = charging.drop(charging[charging[\"충전량\"]==134257.75].index)"
   ]
  },
  {
   "cell_type": "code",
   "execution_count": null,
   "id": "4b2480e9",
   "metadata": {
    "id": "4b2480e9",
    "outputId": "b426b515-3e73-4f30-8284-e2311577d1b0"
   },
   "outputs": [
    {
     "data": {
      "text/html": [
       "<div>\n",
       "<style scoped>\n",
       "    .dataframe tbody tr th:only-of-type {\n",
       "        vertical-align: middle;\n",
       "    }\n",
       "\n",
       "    .dataframe tbody tr th {\n",
       "        vertical-align: top;\n",
       "    }\n",
       "\n",
       "    .dataframe thead th {\n",
       "        text-align: right;\n",
       "    }\n",
       "</style>\n",
       "<table border=\"1\" class=\"dataframe\">\n",
       "  <thead>\n",
       "    <tr style=\"text-align: right;\">\n",
       "      <th></th>\n",
       "      <th>본부</th>\n",
       "      <th>사업소</th>\n",
       "      <th>충전소명</th>\n",
       "      <th>충전기</th>\n",
       "      <th>충전기ID</th>\n",
       "      <th>주소</th>\n",
       "      <th>충전기구분</th>\n",
       "      <th>충전용량</th>\n",
       "      <th>충전량</th>\n",
       "      <th>충전시간</th>\n",
       "      <th>충전분</th>\n",
       "      <th>충전종료일자</th>\n",
       "      <th>충전시작시각</th>\n",
       "      <th>충전종료시각</th>\n",
       "      <th>weekdays</th>\n",
       "      <th>weekday</th>\n",
       "      <th>hour</th>\n",
       "    </tr>\n",
       "  </thead>\n",
       "  <tbody>\n",
       "    <tr>\n",
       "      <th>0</th>\n",
       "      <td>울산시</td>\n",
       "      <td>울산시</td>\n",
       "      <td>국민체육센터</td>\n",
       "      <td>NaN</td>\n",
       "      <td>USCE20040701</td>\n",
       "      <td>울산광역시 남구 야음동 184-1</td>\n",
       "      <td>급속</td>\n",
       "      <td>50.0</td>\n",
       "      <td>17.72</td>\n",
       "      <td>0</td>\n",
       "      <td>40</td>\n",
       "      <td>2022-01-01</td>\n",
       "      <td>2022-01-01 09:51:51</td>\n",
       "      <td>2022-01-01 10:31:51</td>\n",
       "      <td>토요일</td>\n",
       "      <td>5</td>\n",
       "      <td>9</td>\n",
       "    </tr>\n",
       "    <tr>\n",
       "      <th>1</th>\n",
       "      <td>울산시</td>\n",
       "      <td>울산시</td>\n",
       "      <td>국민체육센터</td>\n",
       "      <td>NaN</td>\n",
       "      <td>USCE20040701</td>\n",
       "      <td>울산광역시 남구 야음동 184-1</td>\n",
       "      <td>급속</td>\n",
       "      <td>50.0</td>\n",
       "      <td>11.96</td>\n",
       "      <td>0</td>\n",
       "      <td>40</td>\n",
       "      <td>2022-01-01</td>\n",
       "      <td>2022-01-01 10:33:43</td>\n",
       "      <td>2022-01-01 11:13:43</td>\n",
       "      <td>토요일</td>\n",
       "      <td>5</td>\n",
       "      <td>10</td>\n",
       "    </tr>\n",
       "    <tr>\n",
       "      <th>2</th>\n",
       "      <td>경기북부</td>\n",
       "      <td>동두천</td>\n",
       "      <td>동두천지사</td>\n",
       "      <td>급속01</td>\n",
       "      <td>876</td>\n",
       "      <td>경기도 동두천시 평화로 2262</td>\n",
       "      <td>급속</td>\n",
       "      <td>50.0</td>\n",
       "      <td>8.83</td>\n",
       "      <td>0</td>\n",
       "      <td>21</td>\n",
       "      <td>2022-01-01</td>\n",
       "      <td>2022-01-01 18:38:26</td>\n",
       "      <td>2022-01-01 18:59:43</td>\n",
       "      <td>토요일</td>\n",
       "      <td>5</td>\n",
       "      <td>18</td>\n",
       "    </tr>\n",
       "    <tr>\n",
       "      <th>3</th>\n",
       "      <td>경기북부</td>\n",
       "      <td>동두천</td>\n",
       "      <td>동두천지사</td>\n",
       "      <td>급속01</td>\n",
       "      <td>876</td>\n",
       "      <td>경기도 동두천시 평화로 2262</td>\n",
       "      <td>급속</td>\n",
       "      <td>50.0</td>\n",
       "      <td>50.00</td>\n",
       "      <td>1</td>\n",
       "      <td>55</td>\n",
       "      <td>2022-01-01</td>\n",
       "      <td>2022-01-01 19:10:29</td>\n",
       "      <td>2022-01-01 21:05:43</td>\n",
       "      <td>토요일</td>\n",
       "      <td>5</td>\n",
       "      <td>19</td>\n",
       "    </tr>\n",
       "    <tr>\n",
       "      <th>4</th>\n",
       "      <td>경기북부</td>\n",
       "      <td>동두천</td>\n",
       "      <td>동두천지사</td>\n",
       "      <td>급속01</td>\n",
       "      <td>876</td>\n",
       "      <td>경기도 동두천시 평화로 2262</td>\n",
       "      <td>급속</td>\n",
       "      <td>50.0</td>\n",
       "      <td>0.92</td>\n",
       "      <td>0</td>\n",
       "      <td>1</td>\n",
       "      <td>2022-01-01</td>\n",
       "      <td>2022-01-01 12:33:09</td>\n",
       "      <td>2022-01-01 12:34:36</td>\n",
       "      <td>토요일</td>\n",
       "      <td>5</td>\n",
       "      <td>12</td>\n",
       "    </tr>\n",
       "  </tbody>\n",
       "</table>\n",
       "</div>"
      ],
      "text/plain": [
       "     본부  사업소    충전소명   충전기         충전기ID                  주소 충전기구분  충전용량  \\\n",
       "0   울산시  울산시  국민체육센터   NaN  USCE20040701  울산광역시 남구 야음동 184-1    급속  50.0   \n",
       "1   울산시  울산시  국민체육센터   NaN  USCE20040701  울산광역시 남구 야음동 184-1    급속  50.0   \n",
       "2  경기북부  동두천   동두천지사  급속01           876   경기도 동두천시 평화로 2262    급속  50.0   \n",
       "3  경기북부  동두천   동두천지사  급속01           876   경기도 동두천시 평화로 2262    급속  50.0   \n",
       "4  경기북부  동두천   동두천지사  급속01           876   경기도 동두천시 평화로 2262    급속  50.0   \n",
       "\n",
       "     충전량  충전시간  충전분     충전종료일자              충전시작시각               충전종료시각  \\\n",
       "0  17.72     0   40 2022-01-01 2022-01-01 09:51:51  2022-01-01 10:31:51   \n",
       "1  11.96     0   40 2022-01-01 2022-01-01 10:33:43  2022-01-01 11:13:43   \n",
       "2   8.83     0   21 2022-01-01 2022-01-01 18:38:26  2022-01-01 18:59:43   \n",
       "3  50.00     1   55 2022-01-01 2022-01-01 19:10:29  2022-01-01 21:05:43   \n",
       "4   0.92     0    1 2022-01-01 2022-01-01 12:33:09  2022-01-01 12:34:36   \n",
       "\n",
       "  weekdays  weekday  hour  \n",
       "0      토요일        5     9  \n",
       "1      토요일        5    10  \n",
       "2      토요일        5    18  \n",
       "3      토요일        5    19  \n",
       "4      토요일        5    12  "
      ]
     },
     "execution_count": 26,
     "metadata": {},
     "output_type": "execute_result"
    }
   ],
   "source": [
    "charging.head(5)"
   ]
  },
  {
   "cell_type": "code",
   "execution_count": null,
   "id": "6b5e6b9f",
   "metadata": {
    "id": "6b5e6b9f"
   },
   "outputs": [],
   "source": [
    "_, ax = plt.subplots(2, 4, figsize=(20,10)) \n",
    "\n",
    "\n",
    "weekdays_list = [\"월요일\", \"화요일\", \"수요일\", \"목요일\", \"금요일\", \"토요일\", \"일요일\"]\n",
    "\n",
    "#seaborn 선그래프로 그려보기\n",
    "for i in range(7):\n",
    "    sns.barplot(x=\"Hour\", y=\"Rented Bike Count\", \n",
    "                 data=bike.loc[bike[\"weekdays\"]==weekdays_list[i]],\n",
    "                ax = ax[i//4, i%4])  #weekdays 값 중에 weekdays_list와 같은 것들\n",
    "    ax[i//4, i%4].set_title(weekdays_list[i])"
   ]
  },
  {
   "cell_type": "code",
   "execution_count": null,
   "id": "9c082bb1",
   "metadata": {
    "id": "9c082bb1"
   },
   "outputs": [],
   "source": []
  }
 ],
 "metadata": {
  "colab": {
   "collapsed_sections": [
    "13b0f3b2",
    "3a0536c5",
    "953605ae",
    "0a819909",
    "e0807c36"
   ],
   "provenance": []
  },
  "kernelspec": {
   "display_name": "Python 3 (ipykernel)",
   "language": "python",
   "name": "python3"
  },
  "language_info": {
   "codemirror_mode": {
    "name": "ipython",
    "version": 3
   },
   "file_extension": ".py",
   "mimetype": "text/x-python",
   "name": "python",
   "nbconvert_exporter": "python",
   "pygments_lexer": "ipython3",
   "version": "3.9.12"
  }
 },
 "nbformat": 4,
 "nbformat_minor": 5
}
