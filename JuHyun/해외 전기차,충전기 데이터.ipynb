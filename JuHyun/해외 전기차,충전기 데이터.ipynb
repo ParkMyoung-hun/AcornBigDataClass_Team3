{
 "cells": [
  {
   "cell_type": "code",
   "execution_count": 2,
   "id": "343504d8",
   "metadata": {},
   "outputs": [],
   "source": [
    "import numpy as np\n",
    "import pandas as pd\n",
    "import matplotlib.pyplot as plt\n",
    "import seaborn as sns\n",
    "\n",
    "\n",
    "import matplotlib.font_manager as fm\n",
    "font_name = fm.FontProperties(fname=\"C:\\\\Windows\\\\Fonts\\\\malgun.ttf\").get_name()  #FontProperties폰트지정함수 위치,이름(맑은고딕)\n",
    "plt.rc(\"font\", family=font_name)  \n",
    "\n",
    "import matplotlib as mlp\n",
    "mlp.rcParams[\"axes.unicode_minus\"] = False"
   ]
  },
  {
   "cell_type": "markdown",
   "id": "318df723",
   "metadata": {},
   "source": [
    "## 전기차 등록 데이터"
   ]
  },
  {
   "cell_type": "code",
   "execution_count": 3,
   "id": "a5611021",
   "metadata": {},
   "outputs": [
    {
     "data": {
      "text/html": [
       "<div>\n",
       "<style scoped>\n",
       "    .dataframe tbody tr th:only-of-type {\n",
       "        vertical-align: middle;\n",
       "    }\n",
       "\n",
       "    .dataframe tbody tr th {\n",
       "        vertical-align: top;\n",
       "    }\n",
       "\n",
       "    .dataframe thead th {\n",
       "        text-align: right;\n",
       "    }\n",
       "</style>\n",
       "<table border=\"1\" class=\"dataframe\">\n",
       "  <thead>\n",
       "    <tr style=\"text-align: right;\">\n",
       "      <th></th>\n",
       "      <th>region</th>\n",
       "      <th>category</th>\n",
       "      <th>parameter</th>\n",
       "      <th>mode</th>\n",
       "      <th>powertrain</th>\n",
       "      <th>year</th>\n",
       "      <th>unit</th>\n",
       "      <th>value</th>\n",
       "    </tr>\n",
       "  </thead>\n",
       "  <tbody>\n",
       "    <tr>\n",
       "      <th>0</th>\n",
       "      <td>Australia</td>\n",
       "      <td>Historical</td>\n",
       "      <td>EV stock</td>\n",
       "      <td>Cars</td>\n",
       "      <td>BEV</td>\n",
       "      <td>2011</td>\n",
       "      <td>stock</td>\n",
       "      <td>49</td>\n",
       "    </tr>\n",
       "    <tr>\n",
       "      <th>1</th>\n",
       "      <td>Australia</td>\n",
       "      <td>Historical</td>\n",
       "      <td>EV stock</td>\n",
       "      <td>Cars</td>\n",
       "      <td>BEV</td>\n",
       "      <td>2012</td>\n",
       "      <td>stock</td>\n",
       "      <td>220</td>\n",
       "    </tr>\n",
       "    <tr>\n",
       "      <th>2</th>\n",
       "      <td>Australia</td>\n",
       "      <td>Historical</td>\n",
       "      <td>EV stock</td>\n",
       "      <td>Cars</td>\n",
       "      <td>PHEV</td>\n",
       "      <td>2012</td>\n",
       "      <td>stock</td>\n",
       "      <td>80</td>\n",
       "    </tr>\n",
       "    <tr>\n",
       "      <th>3</th>\n",
       "      <td>Australia</td>\n",
       "      <td>Historical</td>\n",
       "      <td>EV stock</td>\n",
       "      <td>Cars</td>\n",
       "      <td>PHEV</td>\n",
       "      <td>2013</td>\n",
       "      <td>stock</td>\n",
       "      <td>180</td>\n",
       "    </tr>\n",
       "    <tr>\n",
       "      <th>4</th>\n",
       "      <td>Australia</td>\n",
       "      <td>Historical</td>\n",
       "      <td>EV stock</td>\n",
       "      <td>Cars</td>\n",
       "      <td>BEV</td>\n",
       "      <td>2013</td>\n",
       "      <td>stock</td>\n",
       "      <td>410</td>\n",
       "    </tr>\n",
       "  </tbody>\n",
       "</table>\n",
       "</div>"
      ],
      "text/plain": [
       "      region    category parameter  mode powertrain  year   unit  value\n",
       "0  Australia  Historical  EV stock  Cars        BEV  2011  stock     49\n",
       "1  Australia  Historical  EV stock  Cars        BEV  2012  stock    220\n",
       "2  Australia  Historical  EV stock  Cars       PHEV  2012  stock     80\n",
       "3  Australia  Historical  EV stock  Cars       PHEV  2013  stock    180\n",
       "4  Australia  Historical  EV stock  Cars        BEV  2013  stock    410"
      ]
     },
     "execution_count": 3,
     "metadata": {},
     "output_type": "execute_result"
    }
   ],
   "source": [
    "evstock = pd.read_csv(\"data/IEA-EV-dataEV stockCarsHistorical.csv\")\n",
    "evstock.head(5)"
   ]
  },
  {
   "cell_type": "code",
   "execution_count": 28,
   "id": "0ce2fb13",
   "metadata": {},
   "outputs": [
    {
     "data": {
      "text/plain": [
       "array(['Australia', 'Belgium', 'Brazil', 'Canada', 'Chile', 'China',\n",
       "       'Denmark', 'Finland', 'France', 'Germany', 'Greece', 'Iceland',\n",
       "       'India', 'Italy', 'Japan', 'Korea', 'Mexico', 'Netherlands',\n",
       "       'New Zealand', 'Norway', 'Other Europe', 'Poland', 'Portugal',\n",
       "       'South Africa', 'Spain', 'Sweden', 'Switzerland', 'United Kingdom',\n",
       "       'USA', 'World'], dtype=object)"
      ]
     },
     "execution_count": 28,
     "metadata": {},
     "output_type": "execute_result"
    }
   ],
   "source": [
    "evstock.region.unique()"
   ]
  },
  {
   "cell_type": "code",
   "execution_count": 10,
   "id": "2a33a39c",
   "metadata": {},
   "outputs": [
    {
     "data": {
      "text/html": [
       "<div>\n",
       "<style scoped>\n",
       "    .dataframe tbody tr th:only-of-type {\n",
       "        vertical-align: middle;\n",
       "    }\n",
       "\n",
       "    .dataframe tbody tr th {\n",
       "        vertical-align: top;\n",
       "    }\n",
       "\n",
       "    .dataframe thead th {\n",
       "        text-align: right;\n",
       "    }\n",
       "</style>\n",
       "<table border=\"1\" class=\"dataframe\">\n",
       "  <thead>\n",
       "    <tr style=\"text-align: right;\">\n",
       "      <th></th>\n",
       "      <th>value</th>\n",
       "    </tr>\n",
       "    <tr>\n",
       "      <th>year</th>\n",
       "      <th></th>\n",
       "    </tr>\n",
       "  </thead>\n",
       "  <tbody>\n",
       "    <tr>\n",
       "      <th>2010</th>\n",
       "      <td>34792</td>\n",
       "    </tr>\n",
       "    <tr>\n",
       "      <th>2011</th>\n",
       "      <td>129369</td>\n",
       "    </tr>\n",
       "    <tr>\n",
       "      <th>2012</th>\n",
       "      <td>375622</td>\n",
       "    </tr>\n",
       "    <tr>\n",
       "      <th>2013</th>\n",
       "      <td>776868</td>\n",
       "    </tr>\n",
       "    <tr>\n",
       "      <th>2014</th>\n",
       "      <td>1412312</td>\n",
       "    </tr>\n",
       "    <tr>\n",
       "      <th>2015</th>\n",
       "      <td>2494333</td>\n",
       "    </tr>\n",
       "    <tr>\n",
       "      <th>2016</th>\n",
       "      <td>4004393</td>\n",
       "    </tr>\n",
       "    <tr>\n",
       "      <th>2017</th>\n",
       "      <td>6222811</td>\n",
       "    </tr>\n",
       "    <tr>\n",
       "      <th>2018</th>\n",
       "      <td>10093220</td>\n",
       "    </tr>\n",
       "    <tr>\n",
       "      <th>2019</th>\n",
       "      <td>14320077</td>\n",
       "    </tr>\n",
       "    <tr>\n",
       "      <th>2020</th>\n",
       "      <td>20423150</td>\n",
       "    </tr>\n",
       "    <tr>\n",
       "      <th>2021</th>\n",
       "      <td>32467131</td>\n",
       "    </tr>\n",
       "  </tbody>\n",
       "</table>\n",
       "</div>"
      ],
      "text/plain": [
       "         value\n",
       "year          \n",
       "2010     34792\n",
       "2011    129369\n",
       "2012    375622\n",
       "2013    776868\n",
       "2014   1412312\n",
       "2015   2494333\n",
       "2016   4004393\n",
       "2017   6222811\n",
       "2018  10093220\n",
       "2019  14320077\n",
       "2020  20423150\n",
       "2021  32467131"
      ]
     },
     "execution_count": 10,
     "metadata": {},
     "output_type": "execute_result"
    }
   ],
   "source": [
    "evstock.groupby('year').sum()"
   ]
  },
  {
   "cell_type": "markdown",
   "id": "6063afee",
   "metadata": {},
   "source": [
    "#### 나라 지정"
   ]
  },
  {
   "cell_type": "code",
   "execution_count": 5,
   "id": "7f0d127f",
   "metadata": {},
   "outputs": [],
   "source": [
    "USA = evstock.loc[evstock['region']=='USA']"
   ]
  },
  {
   "cell_type": "code",
   "execution_count": 6,
   "id": "6c80e4d6",
   "metadata": {},
   "outputs": [],
   "source": [
    "s_world = evstock.loc[evstock['region']=='World'].groupby('year').sum().reset_index()"
   ]
  },
  {
   "cell_type": "code",
   "execution_count": 7,
   "id": "4f0dc9d1",
   "metadata": {},
   "outputs": [],
   "source": [
    "s_N = evstock.loc[evstock['region']=='Netherlands'].groupby('year').sum().reset_index()"
   ]
  },
  {
   "cell_type": "code",
   "execution_count": 8,
   "id": "9dced80f",
   "metadata": {},
   "outputs": [],
   "source": [
    "s_korea = evstock.loc[evstock['region']=='Korea'].groupby('year').sum().reset_index()"
   ]
  },
  {
   "cell_type": "markdown",
   "id": "27b20a32",
   "metadata": {},
   "source": [
    "## 충전소 데이터"
   ]
  },
  {
   "cell_type": "code",
   "execution_count": 9,
   "id": "c7bc6263",
   "metadata": {},
   "outputs": [
    {
     "data": {
      "text/html": [
       "<div>\n",
       "<style scoped>\n",
       "    .dataframe tbody tr th:only-of-type {\n",
       "        vertical-align: middle;\n",
       "    }\n",
       "\n",
       "    .dataframe tbody tr th {\n",
       "        vertical-align: top;\n",
       "    }\n",
       "\n",
       "    .dataframe thead th {\n",
       "        text-align: right;\n",
       "    }\n",
       "</style>\n",
       "<table border=\"1\" class=\"dataframe\">\n",
       "  <thead>\n",
       "    <tr style=\"text-align: right;\">\n",
       "      <th></th>\n",
       "      <th>region</th>\n",
       "      <th>category</th>\n",
       "      <th>parameter</th>\n",
       "      <th>mode</th>\n",
       "      <th>powertrain</th>\n",
       "      <th>year</th>\n",
       "      <th>unit</th>\n",
       "      <th>value</th>\n",
       "    </tr>\n",
       "  </thead>\n",
       "  <tbody>\n",
       "    <tr>\n",
       "      <th>0</th>\n",
       "      <td>Australia</td>\n",
       "      <td>Historical</td>\n",
       "      <td>EV charging points</td>\n",
       "      <td>EV</td>\n",
       "      <td>Publicly available fast</td>\n",
       "      <td>2017</td>\n",
       "      <td>charging points</td>\n",
       "      <td>40.0</td>\n",
       "    </tr>\n",
       "    <tr>\n",
       "      <th>1</th>\n",
       "      <td>Australia</td>\n",
       "      <td>Historical</td>\n",
       "      <td>EV charging points</td>\n",
       "      <td>EV</td>\n",
       "      <td>Publicly available slow</td>\n",
       "      <td>2017</td>\n",
       "      <td>charging points</td>\n",
       "      <td>440.0</td>\n",
       "    </tr>\n",
       "    <tr>\n",
       "      <th>2</th>\n",
       "      <td>Australia</td>\n",
       "      <td>Historical</td>\n",
       "      <td>EV charging points</td>\n",
       "      <td>EV</td>\n",
       "      <td>Publicly available fast</td>\n",
       "      <td>2018</td>\n",
       "      <td>charging points</td>\n",
       "      <td>61.0</td>\n",
       "    </tr>\n",
       "    <tr>\n",
       "      <th>3</th>\n",
       "      <td>Australia</td>\n",
       "      <td>Historical</td>\n",
       "      <td>EV charging points</td>\n",
       "      <td>EV</td>\n",
       "      <td>Publicly available slow</td>\n",
       "      <td>2018</td>\n",
       "      <td>charging points</td>\n",
       "      <td>670.0</td>\n",
       "    </tr>\n",
       "    <tr>\n",
       "      <th>4</th>\n",
       "      <td>Australia</td>\n",
       "      <td>Historical</td>\n",
       "      <td>EV charging points</td>\n",
       "      <td>EV</td>\n",
       "      <td>Publicly available fast</td>\n",
       "      <td>2019</td>\n",
       "      <td>charging points</td>\n",
       "      <td>250.0</td>\n",
       "    </tr>\n",
       "  </tbody>\n",
       "</table>\n",
       "</div>"
      ],
      "text/plain": [
       "      region    category           parameter mode               powertrain  \\\n",
       "0  Australia  Historical  EV charging points   EV  Publicly available fast   \n",
       "1  Australia  Historical  EV charging points   EV  Publicly available slow   \n",
       "2  Australia  Historical  EV charging points   EV  Publicly available fast   \n",
       "3  Australia  Historical  EV charging points   EV  Publicly available slow   \n",
       "4  Australia  Historical  EV charging points   EV  Publicly available fast   \n",
       "\n",
       "   year             unit  value  \n",
       "0  2017  charging points   40.0  \n",
       "1  2017  charging points  440.0  \n",
       "2  2018  charging points   61.0  \n",
       "3  2018  charging points  670.0  \n",
       "4  2019  charging points  250.0  "
      ]
     },
     "execution_count": 9,
     "metadata": {},
     "output_type": "execute_result"
    }
   ],
   "source": [
    "evcharging = pd.read_csv(\"data/IEA-EV-dataEV charging pointsHistorical.csv\")\n",
    "evcharging.head()"
   ]
  },
  {
   "cell_type": "markdown",
   "id": "d476e04d",
   "metadata": {},
   "source": [
    "#### 나라 지정"
   ]
  },
  {
   "cell_type": "code",
   "execution_count": 10,
   "id": "b49a5625",
   "metadata": {},
   "outputs": [],
   "source": [
    "c_world = evcharging.loc[evcharging['region']=='World'].groupby('year').sum().reset_index()"
   ]
  },
  {
   "cell_type": "code",
   "execution_count": 11,
   "id": "1e7e8bbb",
   "metadata": {},
   "outputs": [],
   "source": [
    "c_N = evcharging.loc[evcharging['region']=='Netherlands'].groupby('year').sum().reset_index()"
   ]
  },
  {
   "cell_type": "code",
   "execution_count": 12,
   "id": "e6d64591",
   "metadata": {},
   "outputs": [],
   "source": [
    "c_korea = evcharging.loc[evcharging['region']=='Korea'].groupby('year').sum().reset_index()"
   ]
  },
  {
   "cell_type": "code",
   "execution_count": 15,
   "id": "50bcca1a",
   "metadata": {
    "scrolled": false
   },
   "outputs": [
    {
     "data": {
      "text/plain": [
       "[<matplotlib.lines.Line2D at 0x2cc785416a0>]"
      ]
     },
     "execution_count": 15,
     "metadata": {},
     "output_type": "execute_result"
    },
    {
     "data": {
      "image/png": "[encoded data removed]",
      "text/plain": [
       "<Figure size 432x288 with 1 Axes>"
      ]
     },
     "metadata": {
      "needs_background": "light"
     },
     "output_type": "display_data"
    }
   ],
   "source": [
    "#2014년이후로 범위 지정\n",
    "c_world1=c_world.loc[c_world['year']>=2014]\n",
    "s_world1=s_world.loc[s_world['year']>=2014]\n",
    "\n",
    "#전세계 전기차 등록대수 & 충전기 개수\n",
    "plt.bar(c_world1[\"year\"], c_world1[\"value\"], color=\"k\")\n",
    "plt.plot(s_world1[\"year\"], s_world1[\"value\"], 'o-', color=\"green\")"
   ]
  },
  {
   "cell_type": "code",
   "execution_count": 134,
   "id": "ae66af43",
   "metadata": {},
   "outputs": [
    {
     "data": {
      "text/plain": [
       "[<matplotlib.lines.Line2D at 0x1eddd5b6340>]"
      ]
     },
     "execution_count": 134,
     "metadata": {},
     "output_type": "execute_result"
    },
    {
     "data": {
      "image/png": "[encoded data removed]",
      "text/plain": [
       "<Figure size 432x288 with 1 Axes>"
      ]
     },
     "metadata": {},
     "output_type": "display_data"
    }
   ],
   "source": [
    "#한국\n",
    "plt.bar(c_korea[\"year\"], c_korea[\"value\"], color=\"k\")\n",
    "plt.plot(s_korea[\"year\"], s_korea[\"value\"], 'o-', color=\"green\")"
   ]
  },
  {
   "cell_type": "code",
   "execution_count": 138,
   "id": "a1a9bee4",
   "metadata": {},
   "outputs": [
    {
     "data": {
      "text/plain": [
       "[<matplotlib.lines.Line2D at 0x1eddd625f40>]"
      ]
     },
     "execution_count": 138,
     "metadata": {},
     "output_type": "execute_result"
    },
    {
     "data": {
      "image/png": "[encoded data removed]",
      "text/plain": [
       "<Figure size 432x288 with 1 Axes>"
      ]
     },
     "metadata": {},
     "output_type": "display_data"
    }
   ],
   "source": [
    "#네덜란드\n",
    "plt.bar(c_N[\"year\"], c_N[\"value\"], color=\"k\")\n",
    "plt.plot(s_N[\"year\"], s_N[\"value\"], 'o-', color=\"green\")"
   ]
  },
  {
   "cell_type": "code",
   "execution_count": 141,
   "id": "055387b8",
   "metadata": {},
   "outputs": [
    {
     "data": {
      "text/plain": [
       "[<matplotlib.lines.Line2D at 0x1eddd79a550>]"
      ]
     },
     "execution_count": 141,
     "metadata": {},
     "output_type": "execute_result"
    },
    {
     "data": {
      "image/png": "[encoded data removed]",
      "text/plain": [
       "<Figure size 432x288 with 1 Axes>"
      ]
     },
     "metadata": {},
     "output_type": "display_data"
    }
   ],
   "source": [
    "#USA\n",
    "plt.bar(evcharging.loc[evcharging['region']=='USA'].groupby('year').sum().reset_index()[\"year\"], \n",
    "        evcharging.loc[evcharging['region']=='USA'].groupby('year').sum().reset_index()[\"value\"], color=\"k\")\n",
    "plt.plot(evstock.loc[evstock['region']=='USA'].groupby('year').sum().reset_index()[\"year\"], \n",
    "         evstock.loc[evstock['region']=='USA'].groupby('year').sum().reset_index()[\"value\"], 'o-', color=\"green\")"
   ]
  },
  {
   "cell_type": "markdown",
   "id": "ed50d7da",
   "metadata": {},
   "source": [
    "#### 이중축 그래프 - 사용X"
   ]
  },
  {
   "cell_type": "code",
   "execution_count": 16,
   "id": "4bba0be3",
   "metadata": {},
   "outputs": [
    {
     "data": {
      "text/plain": [
       "[<matplotlib.lines.Line2D at 0x2cc789ec6a0>]"
      ]
     },
     "execution_count": 16,
     "metadata": {},
     "output_type": "execute_result"
    },
    {
     "data": {
      "image/png": "[encoded data removed]",
      "text/plain": [
       "<Figure size 360x360 with 2 Axes>"
      ]
     },
     "metadata": {
      "needs_background": "light"
     },
     "output_type": "display_data"
    }
   ],
   "source": [
    "fig, ax1 = plt.subplots()\n",
    "ax2 = ax1.twinx()\n",
    "fig.set_size_inches([5,5])\n",
    "ax1.bar(c_world[\"year\"], c_world[\"value\"], color=\"k\")\n",
    "ax2.plot(s_world[\"year\"], s_world[\"value\"], 'o-', color=\"green\")"
   ]
  },
  {
   "cell_type": "markdown",
   "id": "8f4768b2",
   "metadata": {},
   "source": [
    "## 충전기 1기 당 등록차량 대수"
   ]
  },
  {
   "cell_type": "code",
   "execution_count": 18,
   "id": "f6340905",
   "metadata": {},
   "outputs": [
    {
     "data": {
      "text/html": [
       "<div>\n",
       "<style scoped>\n",
       "    .dataframe tbody tr th:only-of-type {\n",
       "        vertical-align: middle;\n",
       "    }\n",
       "\n",
       "    .dataframe tbody tr th {\n",
       "        vertical-align: top;\n",
       "    }\n",
       "\n",
       "    .dataframe thead th {\n",
       "        text-align: right;\n",
       "    }\n",
       "</style>\n",
       "<table border=\"1\" class=\"dataframe\">\n",
       "  <thead>\n",
       "    <tr style=\"text-align: right;\">\n",
       "      <th></th>\n",
       "      <th>year</th>\n",
       "      <th>evstock</th>\n",
       "    </tr>\n",
       "  </thead>\n",
       "  <tbody>\n",
       "    <tr>\n",
       "      <th>0</th>\n",
       "      <td>2010</td>\n",
       "      <td>17400</td>\n",
       "    </tr>\n",
       "    <tr>\n",
       "      <th>1</th>\n",
       "      <td>2011</td>\n",
       "      <td>64500</td>\n",
       "    </tr>\n",
       "    <tr>\n",
       "      <th>2</th>\n",
       "      <td>2012</td>\n",
       "      <td>190000</td>\n",
       "    </tr>\n",
       "    <tr>\n",
       "      <th>3</th>\n",
       "      <td>2013</td>\n",
       "      <td>390000</td>\n",
       "    </tr>\n",
       "    <tr>\n",
       "      <th>4</th>\n",
       "      <td>2014</td>\n",
       "      <td>710000</td>\n",
       "    </tr>\n",
       "    <tr>\n",
       "      <th>5</th>\n",
       "      <td>2015</td>\n",
       "      <td>1250000</td>\n",
       "    </tr>\n",
       "    <tr>\n",
       "      <th>6</th>\n",
       "      <td>2016</td>\n",
       "      <td>2010000</td>\n",
       "    </tr>\n",
       "    <tr>\n",
       "      <th>7</th>\n",
       "      <td>2017</td>\n",
       "      <td>3100000</td>\n",
       "    </tr>\n",
       "    <tr>\n",
       "      <th>8</th>\n",
       "      <td>2018</td>\n",
       "      <td>5100000</td>\n",
       "    </tr>\n",
       "    <tr>\n",
       "      <th>9</th>\n",
       "      <td>2019</td>\n",
       "      <td>7200000</td>\n",
       "    </tr>\n",
       "    <tr>\n",
       "      <th>10</th>\n",
       "      <td>2020</td>\n",
       "      <td>10300000</td>\n",
       "    </tr>\n",
       "    <tr>\n",
       "      <th>11</th>\n",
       "      <td>2021</td>\n",
       "      <td>16200000</td>\n",
       "    </tr>\n",
       "  </tbody>\n",
       "</table>\n",
       "</div>"
      ],
      "text/plain": [
       "    year   evstock\n",
       "0   2010     17400\n",
       "1   2011     64500\n",
       "2   2012    190000\n",
       "3   2013    390000\n",
       "4   2014    710000\n",
       "5   2015   1250000\n",
       "6   2016   2010000\n",
       "7   2017   3100000\n",
       "8   2018   5100000\n",
       "9   2019   7200000\n",
       "10  2020  10300000\n",
       "11  2021  16200000"
      ]
     },
     "execution_count": 18,
     "metadata": {},
     "output_type": "execute_result"
    }
   ],
   "source": [
    "#World \n",
    "evstock_year=evstock.loc[evstock['region']=='World'].groupby('year').sum().reset_index()\n",
    "evstock_year.rename(columns={\"value\":\"evstock\"}, inplace=True)\n",
    "evstock_year"
   ]
  },
  {
   "cell_type": "code",
   "execution_count": 19,
   "id": "cc4e0296",
   "metadata": {},
   "outputs": [
    {
     "data": {
      "text/html": [
       "<div>\n",
       "<style scoped>\n",
       "    .dataframe tbody tr th:only-of-type {\n",
       "        vertical-align: middle;\n",
       "    }\n",
       "\n",
       "    .dataframe tbody tr th {\n",
       "        vertical-align: top;\n",
       "    }\n",
       "\n",
       "    .dataframe thead th {\n",
       "        text-align: right;\n",
       "    }\n",
       "</style>\n",
       "<table border=\"1\" class=\"dataframe\">\n",
       "  <thead>\n",
       "    <tr style=\"text-align: right;\">\n",
       "      <th></th>\n",
       "      <th>year</th>\n",
       "      <th>evchargingPoint</th>\n",
       "    </tr>\n",
       "  </thead>\n",
       "  <tbody>\n",
       "    <tr>\n",
       "      <th>0</th>\n",
       "      <td>2010</td>\n",
       "      <td>4010.0</td>\n",
       "    </tr>\n",
       "    <tr>\n",
       "      <th>1</th>\n",
       "      <td>2011</td>\n",
       "      <td>10830.0</td>\n",
       "    </tr>\n",
       "    <tr>\n",
       "      <th>2</th>\n",
       "      <td>2012</td>\n",
       "      <td>31700.0</td>\n",
       "    </tr>\n",
       "    <tr>\n",
       "      <th>3</th>\n",
       "      <td>2013</td>\n",
       "      <td>47800.0</td>\n",
       "    </tr>\n",
       "    <tr>\n",
       "      <th>4</th>\n",
       "      <td>2014</td>\n",
       "      <td>106000.0</td>\n",
       "    </tr>\n",
       "    <tr>\n",
       "      <th>5</th>\n",
       "      <td>2015</td>\n",
       "      <td>187000.0</td>\n",
       "    </tr>\n",
       "    <tr>\n",
       "      <th>6</th>\n",
       "      <td>2016</td>\n",
       "      <td>335000.0</td>\n",
       "    </tr>\n",
       "    <tr>\n",
       "      <th>7</th>\n",
       "      <td>2017</td>\n",
       "      <td>440000.0</td>\n",
       "    </tr>\n",
       "    <tr>\n",
       "      <th>8</th>\n",
       "      <td>2018</td>\n",
       "      <td>540000.0</td>\n",
       "    </tr>\n",
       "    <tr>\n",
       "      <th>9</th>\n",
       "      <td>2019</td>\n",
       "      <td>900000.0</td>\n",
       "    </tr>\n",
       "    <tr>\n",
       "      <th>10</th>\n",
       "      <td>2020</td>\n",
       "      <td>1300000.0</td>\n",
       "    </tr>\n",
       "    <tr>\n",
       "      <th>11</th>\n",
       "      <td>2021</td>\n",
       "      <td>1760000.0</td>\n",
       "    </tr>\n",
       "  </tbody>\n",
       "</table>\n",
       "</div>"
      ],
      "text/plain": [
       "    year  evchargingPoint\n",
       "0   2010           4010.0\n",
       "1   2011          10830.0\n",
       "2   2012          31700.0\n",
       "3   2013          47800.0\n",
       "4   2014         106000.0\n",
       "5   2015         187000.0\n",
       "6   2016         335000.0\n",
       "7   2017         440000.0\n",
       "8   2018         540000.0\n",
       "9   2019         900000.0\n",
       "10  2020        1300000.0\n",
       "11  2021        1760000.0"
      ]
     },
     "execution_count": 19,
     "metadata": {},
     "output_type": "execute_result"
    }
   ],
   "source": [
    "evcharging_year = evcharging.loc[evcharging['region']=='World'].groupby('year').sum().reset_index()\n",
    "evcharging_year.rename(columns={\"value\":\"evchargingPoint\"}, inplace=True)\n",
    "evcharging_year"
   ]
  },
  {
   "cell_type": "code",
   "execution_count": 20,
   "id": "c141f932",
   "metadata": {},
   "outputs": [],
   "source": [
    "ev = pd.merge(evstock_year, evcharging_year)"
   ]
  },
  {
   "cell_type": "code",
   "execution_count": 21,
   "id": "7b101f98",
   "metadata": {},
   "outputs": [],
   "source": [
    "ev[\"per\"] = ev[\"evstock\"]/ev[\"evchargingPoint\"]"
   ]
  },
  {
   "cell_type": "code",
   "execution_count": 22,
   "id": "fcf69742",
   "metadata": {},
   "outputs": [
    {
     "data": {
      "text/html": [
       "<div>\n",
       "<style scoped>\n",
       "    .dataframe tbody tr th:only-of-type {\n",
       "        vertical-align: middle;\n",
       "    }\n",
       "\n",
       "    .dataframe tbody tr th {\n",
       "        vertical-align: top;\n",
       "    }\n",
       "\n",
       "    .dataframe thead th {\n",
       "        text-align: right;\n",
       "    }\n",
       "</style>\n",
       "<table border=\"1\" class=\"dataframe\">\n",
       "  <thead>\n",
       "    <tr style=\"text-align: right;\">\n",
       "      <th></th>\n",
       "      <th>year</th>\n",
       "      <th>evstock</th>\n",
       "      <th>evchargingPoint</th>\n",
       "      <th>per</th>\n",
       "    </tr>\n",
       "  </thead>\n",
       "  <tbody>\n",
       "    <tr>\n",
       "      <th>0</th>\n",
       "      <td>2010</td>\n",
       "      <td>17400</td>\n",
       "      <td>4010.0</td>\n",
       "      <td>4.339152</td>\n",
       "    </tr>\n",
       "    <tr>\n",
       "      <th>1</th>\n",
       "      <td>2011</td>\n",
       "      <td>64500</td>\n",
       "      <td>10830.0</td>\n",
       "      <td>5.955679</td>\n",
       "    </tr>\n",
       "    <tr>\n",
       "      <th>2</th>\n",
       "      <td>2012</td>\n",
       "      <td>190000</td>\n",
       "      <td>31700.0</td>\n",
       "      <td>5.993691</td>\n",
       "    </tr>\n",
       "    <tr>\n",
       "      <th>3</th>\n",
       "      <td>2013</td>\n",
       "      <td>390000</td>\n",
       "      <td>47800.0</td>\n",
       "      <td>8.158996</td>\n",
       "    </tr>\n",
       "    <tr>\n",
       "      <th>4</th>\n",
       "      <td>2014</td>\n",
       "      <td>710000</td>\n",
       "      <td>106000.0</td>\n",
       "      <td>6.698113</td>\n",
       "    </tr>\n",
       "    <tr>\n",
       "      <th>5</th>\n",
       "      <td>2015</td>\n",
       "      <td>1250000</td>\n",
       "      <td>187000.0</td>\n",
       "      <td>6.684492</td>\n",
       "    </tr>\n",
       "    <tr>\n",
       "      <th>6</th>\n",
       "      <td>2016</td>\n",
       "      <td>2010000</td>\n",
       "      <td>335000.0</td>\n",
       "      <td>6.000000</td>\n",
       "    </tr>\n",
       "    <tr>\n",
       "      <th>7</th>\n",
       "      <td>2017</td>\n",
       "      <td>3100000</td>\n",
       "      <td>440000.0</td>\n",
       "      <td>7.045455</td>\n",
       "    </tr>\n",
       "    <tr>\n",
       "      <th>8</th>\n",
       "      <td>2018</td>\n",
       "      <td>5100000</td>\n",
       "      <td>540000.0</td>\n",
       "      <td>9.444444</td>\n",
       "    </tr>\n",
       "    <tr>\n",
       "      <th>9</th>\n",
       "      <td>2019</td>\n",
       "      <td>7200000</td>\n",
       "      <td>900000.0</td>\n",
       "      <td>8.000000</td>\n",
       "    </tr>\n",
       "    <tr>\n",
       "      <th>10</th>\n",
       "      <td>2020</td>\n",
       "      <td>10300000</td>\n",
       "      <td>1300000.0</td>\n",
       "      <td>7.923077</td>\n",
       "    </tr>\n",
       "    <tr>\n",
       "      <th>11</th>\n",
       "      <td>2021</td>\n",
       "      <td>16200000</td>\n",
       "      <td>1760000.0</td>\n",
       "      <td>9.204545</td>\n",
       "    </tr>\n",
       "  </tbody>\n",
       "</table>\n",
       "</div>"
      ],
      "text/plain": [
       "    year   evstock  evchargingPoint       per\n",
       "0   2010     17400           4010.0  4.339152\n",
       "1   2011     64500          10830.0  5.955679\n",
       "2   2012    190000          31700.0  5.993691\n",
       "3   2013    390000          47800.0  8.158996\n",
       "4   2014    710000         106000.0  6.698113\n",
       "5   2015   1250000         187000.0  6.684492\n",
       "6   2016   2010000         335000.0  6.000000\n",
       "7   2017   3100000         440000.0  7.045455\n",
       "8   2018   5100000         540000.0  9.444444\n",
       "9   2019   7200000         900000.0  8.000000\n",
       "10  2020  10300000        1300000.0  7.923077\n",
       "11  2021  16200000        1760000.0  9.204545"
      ]
     },
     "execution_count": 22,
     "metadata": {},
     "output_type": "execute_result"
    }
   ],
   "source": [
    "ev"
   ]
  },
  {
   "cell_type": "code",
   "execution_count": 23,
   "id": "8cde96cc",
   "metadata": {},
   "outputs": [],
   "source": [
    "#한국\n",
    "skorea_year=evstock.loc[evstock['region']=='Korea'].groupby('year').sum().reset_index()\n",
    "skorea_year.rename(columns={\"value\":\"evstock\"}, inplace=True)\n",
    "ckorea_year = evcharging.loc[evcharging['region']=='Korea'].groupby('year').sum().reset_index()\n",
    "ckorea_year.rename(columns={\"value\":\"evchargingPoint\"}, inplace=True)"
   ]
  },
  {
   "cell_type": "code",
   "execution_count": 24,
   "id": "31ab4c0b",
   "metadata": {},
   "outputs": [],
   "source": [
    "korea = pd.merge(skorea_year, ckorea_year)"
   ]
  },
  {
   "cell_type": "code",
   "execution_count": 25,
   "id": "b99342ab",
   "metadata": {},
   "outputs": [
    {
     "data": {
      "text/html": [
       "<div>\n",
       "<style scoped>\n",
       "    .dataframe tbody tr th:only-of-type {\n",
       "        vertical-align: middle;\n",
       "    }\n",
       "\n",
       "    .dataframe tbody tr th {\n",
       "        vertical-align: top;\n",
       "    }\n",
       "\n",
       "    .dataframe thead th {\n",
       "        text-align: right;\n",
       "    }\n",
       "</style>\n",
       "<table border=\"1\" class=\"dataframe\">\n",
       "  <thead>\n",
       "    <tr style=\"text-align: right;\">\n",
       "      <th></th>\n",
       "      <th>year</th>\n",
       "      <th>evstock</th>\n",
       "      <th>evchargingPoint</th>\n",
       "      <th>per</th>\n",
       "    </tr>\n",
       "  </thead>\n",
       "  <tbody>\n",
       "    <tr>\n",
       "      <th>0</th>\n",
       "      <td>2016</td>\n",
       "      <td>10580</td>\n",
       "      <td>2020.0</td>\n",
       "      <td>5.237624</td>\n",
       "    </tr>\n",
       "    <tr>\n",
       "      <th>1</th>\n",
       "      <td>2017</td>\n",
       "      <td>25300</td>\n",
       "      <td>13300.0</td>\n",
       "      <td>1.902256</td>\n",
       "    </tr>\n",
       "    <tr>\n",
       "      <th>2</th>\n",
       "      <td>2018</td>\n",
       "      <td>60600</td>\n",
       "      <td>27200.0</td>\n",
       "      <td>2.227941</td>\n",
       "    </tr>\n",
       "    <tr>\n",
       "      <th>3</th>\n",
       "      <td>2019</td>\n",
       "      <td>97400</td>\n",
       "      <td>44400.0</td>\n",
       "      <td>2.193694</td>\n",
       "    </tr>\n",
       "    <tr>\n",
       "      <th>4</th>\n",
       "      <td>2020</td>\n",
       "      <td>137000</td>\n",
       "      <td>63800.0</td>\n",
       "      <td>2.147335</td>\n",
       "    </tr>\n",
       "    <tr>\n",
       "      <th>5</th>\n",
       "      <td>2021</td>\n",
       "      <td>226000</td>\n",
       "      <td>107000.0</td>\n",
       "      <td>2.112150</td>\n",
       "    </tr>\n",
       "  </tbody>\n",
       "</table>\n",
       "</div>"
      ],
      "text/plain": [
       "   year  evstock  evchargingPoint       per\n",
       "0  2016    10580           2020.0  5.237624\n",
       "1  2017    25300          13300.0  1.902256\n",
       "2  2018    60600          27200.0  2.227941\n",
       "3  2019    97400          44400.0  2.193694\n",
       "4  2020   137000          63800.0  2.147335\n",
       "5  2021   226000         107000.0  2.112150"
      ]
     },
     "execution_count": 25,
     "metadata": {},
     "output_type": "execute_result"
    }
   ],
   "source": [
    "korea[\"per\"] = korea[\"evstock\"]/korea[\"evchargingPoint\"]\n",
    "korea"
   ]
  },
  {
   "cell_type": "code",
   "execution_count": null,
   "id": "0834857a",
   "metadata": {},
   "outputs": [],
   "source": []
  }
 ],
 "metadata": {
  "kernelspec": {
   "display_name": "Python 3 (ipykernel)",
   "language": "python",
   "name": "python3"
  },
  "language_info": {
   "codemirror_mode": {
    "name": "ipython",
    "version": 3
   },
   "file_extension": ".py",
   "mimetype": "text/x-python",
   "name": "python",
   "nbconvert_exporter": "python",
   "pygments_lexer": "ipython3",
   "version": "3.9.12"
  }
 },
 "nbformat": 4,
 "nbformat_minor": 5
}
